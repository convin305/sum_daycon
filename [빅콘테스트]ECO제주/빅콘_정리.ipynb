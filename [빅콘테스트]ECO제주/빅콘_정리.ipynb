{
  "nbformat": 4,
  "nbformat_minor": 0,
  "metadata": {
    "colab": {
      "name": "빅콘_정리.ipynb",
      "provenance": [],
      "collapsed_sections": [],
      "toc_visible": true,
      "machine_shape": "hm"
    },
    "kernelspec": {
      "name": "python3",
      "display_name": "Python 3"
    },
    "language_info": {
      "name": "python"
    },
    "accelerator": "GPU"
  },
  "cells": [
    {
      "cell_type": "markdown",
      "metadata": {
        "id": "pd8MQMCYiqUG"
      },
      "source": [
        "## 패키지"
      ]
    },
    {
      "cell_type": "code",
      "metadata": {
        "colab": {
          "base_uri": "https://localhost:8080/"
        },
        "id": "X2f9wYrJEe8L",
        "outputId": "c1a61897-fc96-49a5-a09c-0e8cd435a099"
      },
      "source": [
        "from google.colab import drive\n",
        "drive.mount('/content/drive')"
      ],
      "execution_count": 1,
      "outputs": [
        {
          "output_type": "stream",
          "name": "stdout",
          "text": [
            "Drive already mounted at /content/drive; to attempt to forcibly remount, call drive.mount(\"/content/drive\", force_remount=True).\n"
          ]
        }
      ]
    },
    {
      "cell_type": "code",
      "metadata": {
        "colab": {
          "base_uri": "https://localhost:8080/"
        },
        "id": "d4p4llaQFFSV",
        "outputId": "c7855156-d578-40f0-aaa5-3919911f89b5"
      },
      "source": [
        "import pandas as pd\n",
        "import numpy as np\n",
        "import matplotlib.pyplot as plt\n",
        "import matplotlib.font_manager as fm\n",
        "import seaborn as sns\n",
        "\n",
        "import warnings\n",
        "warnings.filterwarnings(action='ignore')\n",
        "\n",
        "## matplotlib 사용시 한국어 나오게 하는 코드\n",
        "!apt -qq -y install fonts-nanum\n",
        "fontpath = '/usr/share/fonts/truetype/nanum/NanumBarunGothic.ttf'\n",
        "font = fm.FontProperties(fname=fontpath, size=9)\n",
        "fm._rebuild()\n",
        "\n",
        "# 그래프에 retina display 적용\n",
        "%config InlineBackend.figure_format = 'retina'\n",
        "\n",
        "# Colab 의 한글 폰트 설정\n",
        "plt.rc('font', family='NanumBarunGothic')"
      ],
      "execution_count": 2,
      "outputs": [
        {
          "output_type": "stream",
          "name": "stdout",
          "text": [
            "fonts-nanum is already the newest version (20170925-1).\n",
            "0 upgraded, 0 newly installed, 0 to remove and 40 not upgraded.\n"
          ]
        }
      ]
    },
    {
      "cell_type": "markdown",
      "metadata": {
        "id": "ydKLuJ29qBKB"
      },
      "source": [
        "## 데이터 로드 및 전처리\n",
        "[사용된 데이터 목록]\n",
        "* `food`: 음식물쓰레기 FOOD_WASTE.CSV\n",
        "* `korean`: 내국인유동인구 KOREAN.CSV\n",
        "* `long_frgn`: 장기체류외국인유동인구 LONG_TERM_FRGM.CSV  \n",
        "* `pop` : 거주인구_RESIDENT_POP.CSV  \n",
        "* `card` : 음식관련 카드소비_CARD_SPENDING.CSV"
      ]
    },
    {
      "cell_type": "code",
      "metadata": {
        "id": "T7Tfp9f1owjq"
      },
      "source": [
        "# food = pd.read_csv('/content/drive/MyDrive/Data/빅콘/01_음식물쓰레기_FOOD_WASTE_210811_update.CSV',encoding='cp949')\n",
        "# korean = pd.read_csv('/content/drive/MyDrive/Data/빅콘/02-1_내국인유동인구_KOREAN.CSV',encoding='cp949')\n",
        "# long_frgn = pd.read_csv('/content/drive/MyDrive/Data/빅콘/02-2_장기체류 외국인 유동인구_LONG_TERM_FRGN.CSV',encoding='cp949')\n",
        "# pop = pd.read_csv('/content/drive/MyDrive/Data/빅콘/03_거주인구_RESIDENT_POP.CSV',encoding='cp949')\n",
        "# card = pd.read_csv('/content/drive/MyDrive/Data/빅콘/04_음식관련 카드소비_CARD_SPENDING.CSV',encoding='cp949')"
      ],
      "execution_count": 3,
      "outputs": []
    },
    {
      "cell_type": "markdown",
      "metadata": {
        "id": "o3rNIuAQqDjE"
      },
      "source": [
        "#### 1) 음식물쓰레기"
      ]
    },
    {
      "cell_type": "code",
      "metadata": {
        "id": "dZk5HJ-AHQ-S",
        "colab": {
          "base_uri": "https://localhost:8080/",
          "height": 142
        },
        "outputId": "fc1164cc-1270-4cdd-88d9-33f39b2977d4"
      },
      "source": [
        "food = pd.read_csv('/content/drive/MyDrive/Data/빅콘/01_음식물쓰레기_FOOD_WASTE_210811_update.CSV',encoding='cp949')\n",
        "# 컬럼명 변환\n",
        "food.columns = ['날짜','시','행정동코드','행정동','배출거점지역코드','배출건수','배출량','배출금액']\n",
        "food.head(3)"
      ],
      "execution_count": 4,
      "outputs": [
        {
          "output_type": "execute_result",
          "data": {
            "text/html": [
              "<div>\n",
              "<style scoped>\n",
              "    .dataframe tbody tr th:only-of-type {\n",
              "        vertical-align: middle;\n",
              "    }\n",
              "\n",
              "    .dataframe tbody tr th {\n",
              "        vertical-align: top;\n",
              "    }\n",
              "\n",
              "    .dataframe thead th {\n",
              "        text-align: right;\n",
              "    }\n",
              "</style>\n",
              "<table border=\"1\" class=\"dataframe\">\n",
              "  <thead>\n",
              "    <tr style=\"text-align: right;\">\n",
              "      <th></th>\n",
              "      <th>날짜</th>\n",
              "      <th>시</th>\n",
              "      <th>행정동코드</th>\n",
              "      <th>행정동</th>\n",
              "      <th>배출거점지역코드</th>\n",
              "      <th>배출건수</th>\n",
              "      <th>배출량</th>\n",
              "      <th>배출금액</th>\n",
              "    </tr>\n",
              "  </thead>\n",
              "  <tbody>\n",
              "    <tr>\n",
              "      <th>0</th>\n",
              "      <td>2018-01-01</td>\n",
              "      <td>제주시</td>\n",
              "      <td>50110670</td>\n",
              "      <td>외도동</td>\n",
              "      <td>W6X062</td>\n",
              "      <td>2</td>\n",
              "      <td>15500</td>\n",
              "      <td>464</td>\n",
              "    </tr>\n",
              "    <tr>\n",
              "      <th>1</th>\n",
              "      <td>2018-01-01</td>\n",
              "      <td>제주시</td>\n",
              "      <td>50110630</td>\n",
              "      <td>아라동</td>\n",
              "      <td>W6XA97</td>\n",
              "      <td>25</td>\n",
              "      <td>59800</td>\n",
              "      <td>1787</td>\n",
              "    </tr>\n",
              "    <tr>\n",
              "      <th>2</th>\n",
              "      <td>2018-01-01</td>\n",
              "      <td>제주시</td>\n",
              "      <td>50110630</td>\n",
              "      <td>아라동</td>\n",
              "      <td>W6XA96</td>\n",
              "      <td>8</td>\n",
              "      <td>25350</td>\n",
              "      <td>758</td>\n",
              "    </tr>\n",
              "  </tbody>\n",
              "</table>\n",
              "</div>"
            ],
            "text/plain": [
              "           날짜    시     행정동코드  행정동 배출거점지역코드  배출건수    배출량  배출금액\n",
              "0  2018-01-01  제주시  50110670  외도동   W6X062     2  15500   464\n",
              "1  2018-01-01  제주시  50110630  아라동   W6XA97    25  59800  1787\n",
              "2  2018-01-01  제주시  50110630  아라동   W6XA96     8  25350   758"
            ]
          },
          "metadata": {},
          "execution_count": 4
        }
      ]
    },
    {
      "cell_type": "code",
      "metadata": {
        "id": "yRkW1wc5HoNK",
        "colab": {
          "base_uri": "https://localhost:8080/"
        },
        "outputId": "96d7849b-4c85-470d-e69b-ca9176f46669"
      },
      "source": [
        "food.info()"
      ],
      "execution_count": 5,
      "outputs": [
        {
          "output_type": "stream",
          "name": "stdout",
          "text": [
            "<class 'pandas.core.frame.DataFrame'>\n",
            "RangeIndex: 2211445 entries, 0 to 2211444\n",
            "Data columns (total 8 columns):\n",
            " #   Column    Dtype \n",
            "---  ------    ----- \n",
            " 0   날짜        object\n",
            " 1   시         object\n",
            " 2   행정동코드     object\n",
            " 3   행정동       object\n",
            " 4   배출거점지역코드  object\n",
            " 5   배출건수      int64 \n",
            " 6   배출량       int64 \n",
            " 7   배출금액      int64 \n",
            "dtypes: int64(3), object(5)\n",
            "memory usage: 135.0+ MB\n"
          ]
        }
      ]
    },
    {
      "cell_type": "markdown",
      "metadata": {
        "id": "FPS4sZsdHpgA"
      },
      "source": [
        "###### 결측치 확인"
      ]
    },
    {
      "cell_type": "markdown",
      "metadata": {
        "id": "K8zLZbbpJxxh"
      },
      "source": [
        "* 결측치 없음"
      ]
    },
    {
      "cell_type": "code",
      "metadata": {
        "id": "qn7JvzSdHspx",
        "colab": {
          "base_uri": "https://localhost:8080/",
          "height": 295
        },
        "outputId": "4de77970-f6c0-456d-c8cf-90c21e776e2d"
      },
      "source": [
        "food.isnull().sum().to_frame()"
      ],
      "execution_count": 6,
      "outputs": [
        {
          "output_type": "execute_result",
          "data": {
            "text/html": [
              "<div>\n",
              "<style scoped>\n",
              "    .dataframe tbody tr th:only-of-type {\n",
              "        vertical-align: middle;\n",
              "    }\n",
              "\n",
              "    .dataframe tbody tr th {\n",
              "        vertical-align: top;\n",
              "    }\n",
              "\n",
              "    .dataframe thead th {\n",
              "        text-align: right;\n",
              "    }\n",
              "</style>\n",
              "<table border=\"1\" class=\"dataframe\">\n",
              "  <thead>\n",
              "    <tr style=\"text-align: right;\">\n",
              "      <th></th>\n",
              "      <th>0</th>\n",
              "    </tr>\n",
              "  </thead>\n",
              "  <tbody>\n",
              "    <tr>\n",
              "      <th>날짜</th>\n",
              "      <td>0</td>\n",
              "    </tr>\n",
              "    <tr>\n",
              "      <th>시</th>\n",
              "      <td>0</td>\n",
              "    </tr>\n",
              "    <tr>\n",
              "      <th>행정동코드</th>\n",
              "      <td>0</td>\n",
              "    </tr>\n",
              "    <tr>\n",
              "      <th>행정동</th>\n",
              "      <td>0</td>\n",
              "    </tr>\n",
              "    <tr>\n",
              "      <th>배출거점지역코드</th>\n",
              "      <td>0</td>\n",
              "    </tr>\n",
              "    <tr>\n",
              "      <th>배출건수</th>\n",
              "      <td>0</td>\n",
              "    </tr>\n",
              "    <tr>\n",
              "      <th>배출량</th>\n",
              "      <td>0</td>\n",
              "    </tr>\n",
              "    <tr>\n",
              "      <th>배출금액</th>\n",
              "      <td>0</td>\n",
              "    </tr>\n",
              "  </tbody>\n",
              "</table>\n",
              "</div>"
            ],
            "text/plain": [
              "          0\n",
              "날짜        0\n",
              "시         0\n",
              "행정동코드     0\n",
              "행정동       0\n",
              "배출거점지역코드  0\n",
              "배출건수      0\n",
              "배출량       0\n",
              "배출금액      0"
            ]
          },
          "metadata": {},
          "execution_count": 6
        }
      ]
    },
    {
      "cell_type": "markdown",
      "metadata": {
        "id": "DryowFb4HWs6"
      },
      "source": [
        "###### '날짜'컬럼은 날짜형태로 변환 후 '년도', '월' 추출"
      ]
    },
    {
      "cell_type": "code",
      "metadata": {
        "id": "c9cCr6alFRLJ"
      },
      "source": [
        "food['날짜'] = pd.to_datetime(food['날짜'])\n",
        "food['년도'] = food.날짜.dt.year\n",
        "food['월'] = food.날짜.dt.month"
      ],
      "execution_count": 7,
      "outputs": []
    },
    {
      "cell_type": "markdown",
      "metadata": {
        "id": "QGucKSkbH80j"
      },
      "source": [
        "###### '시' 컬럼의 '알수없음' 제거"
      ]
    },
    {
      "cell_type": "code",
      "metadata": {
        "id": "JLexTvjgEf18",
        "colab": {
          "base_uri": "https://localhost:8080/",
          "height": 203
        },
        "outputId": "8f17f57b-e844-49ed-cd60-1e72d400150f"
      },
      "source": [
        "nan_name = food[food['시']=='알수없음'].index\n",
        "food.drop(nan_name, inplace=True)\n",
        "\n",
        "food.head()"
      ],
      "execution_count": 8,
      "outputs": [
        {
          "output_type": "execute_result",
          "data": {
            "text/html": [
              "<div>\n",
              "<style scoped>\n",
              "    .dataframe tbody tr th:only-of-type {\n",
              "        vertical-align: middle;\n",
              "    }\n",
              "\n",
              "    .dataframe tbody tr th {\n",
              "        vertical-align: top;\n",
              "    }\n",
              "\n",
              "    .dataframe thead th {\n",
              "        text-align: right;\n",
              "    }\n",
              "</style>\n",
              "<table border=\"1\" class=\"dataframe\">\n",
              "  <thead>\n",
              "    <tr style=\"text-align: right;\">\n",
              "      <th></th>\n",
              "      <th>날짜</th>\n",
              "      <th>시</th>\n",
              "      <th>행정동코드</th>\n",
              "      <th>행정동</th>\n",
              "      <th>배출거점지역코드</th>\n",
              "      <th>배출건수</th>\n",
              "      <th>배출량</th>\n",
              "      <th>배출금액</th>\n",
              "      <th>년도</th>\n",
              "      <th>월</th>\n",
              "    </tr>\n",
              "  </thead>\n",
              "  <tbody>\n",
              "    <tr>\n",
              "      <th>0</th>\n",
              "      <td>2018-01-01</td>\n",
              "      <td>제주시</td>\n",
              "      <td>50110670</td>\n",
              "      <td>외도동</td>\n",
              "      <td>W6X062</td>\n",
              "      <td>2</td>\n",
              "      <td>15500</td>\n",
              "      <td>464</td>\n",
              "      <td>2018</td>\n",
              "      <td>1</td>\n",
              "    </tr>\n",
              "    <tr>\n",
              "      <th>1</th>\n",
              "      <td>2018-01-01</td>\n",
              "      <td>제주시</td>\n",
              "      <td>50110630</td>\n",
              "      <td>아라동</td>\n",
              "      <td>W6XA97</td>\n",
              "      <td>25</td>\n",
              "      <td>59800</td>\n",
              "      <td>1787</td>\n",
              "      <td>2018</td>\n",
              "      <td>1</td>\n",
              "    </tr>\n",
              "    <tr>\n",
              "      <th>2</th>\n",
              "      <td>2018-01-01</td>\n",
              "      <td>제주시</td>\n",
              "      <td>50110630</td>\n",
              "      <td>아라동</td>\n",
              "      <td>W6XA96</td>\n",
              "      <td>8</td>\n",
              "      <td>25350</td>\n",
              "      <td>758</td>\n",
              "      <td>2018</td>\n",
              "      <td>1</td>\n",
              "    </tr>\n",
              "    <tr>\n",
              "      <th>3</th>\n",
              "      <td>2018-01-01</td>\n",
              "      <td>제주시</td>\n",
              "      <td>50110630</td>\n",
              "      <td>아라동</td>\n",
              "      <td>W6XA95</td>\n",
              "      <td>12</td>\n",
              "      <td>30000</td>\n",
              "      <td>898</td>\n",
              "      <td>2018</td>\n",
              "      <td>1</td>\n",
              "    </tr>\n",
              "    <tr>\n",
              "      <th>4</th>\n",
              "      <td>2018-01-01</td>\n",
              "      <td>제주시</td>\n",
              "      <td>50110630</td>\n",
              "      <td>아라동</td>\n",
              "      <td>W6XA94</td>\n",
              "      <td>14</td>\n",
              "      <td>44050</td>\n",
              "      <td>1317</td>\n",
              "      <td>2018</td>\n",
              "      <td>1</td>\n",
              "    </tr>\n",
              "  </tbody>\n",
              "</table>\n",
              "</div>"
            ],
            "text/plain": [
              "          날짜    시     행정동코드  행정동 배출거점지역코드  배출건수    배출량  배출금액    년도  월\n",
              "0 2018-01-01  제주시  50110670  외도동   W6X062     2  15500   464  2018  1\n",
              "1 2018-01-01  제주시  50110630  아라동   W6XA97    25  59800  1787  2018  1\n",
              "2 2018-01-01  제주시  50110630  아라동   W6XA96     8  25350   758  2018  1\n",
              "3 2018-01-01  제주시  50110630  아라동   W6XA95    12  30000   898  2018  1\n",
              "4 2018-01-01  제주시  50110630  아라동   W6XA94    14  44050  1317  2018  1"
            ]
          },
          "metadata": {},
          "execution_count": 8
        }
      ]
    },
    {
      "cell_type": "markdown",
      "metadata": {
        "id": "VvHMxL-Oxlkf"
      },
      "source": [
        "#### 2) 내국인 / 장기체류외국인 / 단기체류 외국인 유동인구"
      ]
    },
    {
      "cell_type": "code",
      "metadata": {
        "id": "tyI_6CwFxkag",
        "colab": {
          "base_uri": "https://localhost:8080/",
          "height": 142
        },
        "outputId": "ed91a35d-7c69-4227-ded0-54fd4bb55d5a"
      },
      "source": [
        "korean = pd.read_csv('/content/drive/MyDrive/Data/빅콘/02-1_내국인유동인구_KOREAN.CSV',encoding='cp949')\n",
        "korean.columns = ['날짜','시간','시','행정동코드','행정동명','성별','연령대','거주인구','근무인구','방문인구','거주지역행정구역']\n",
        "korean.head(3)"
      ],
      "execution_count": 9,
      "outputs": [
        {
          "output_type": "execute_result",
          "data": {
            "text/html": [
              "<div>\n",
              "<style scoped>\n",
              "    .dataframe tbody tr th:only-of-type {\n",
              "        vertical-align: middle;\n",
              "    }\n",
              "\n",
              "    .dataframe tbody tr th {\n",
              "        vertical-align: top;\n",
              "    }\n",
              "\n",
              "    .dataframe thead th {\n",
              "        text-align: right;\n",
              "    }\n",
              "</style>\n",
              "<table border=\"1\" class=\"dataframe\">\n",
              "  <thead>\n",
              "    <tr style=\"text-align: right;\">\n",
              "      <th></th>\n",
              "      <th>날짜</th>\n",
              "      <th>시간</th>\n",
              "      <th>시</th>\n",
              "      <th>행정동코드</th>\n",
              "      <th>행정동명</th>\n",
              "      <th>성별</th>\n",
              "      <th>연령대</th>\n",
              "      <th>거주인구</th>\n",
              "      <th>근무인구</th>\n",
              "      <th>방문인구</th>\n",
              "      <th>거주지역행정구역</th>\n",
              "    </tr>\n",
              "  </thead>\n",
              "  <tbody>\n",
              "    <tr>\n",
              "      <th>0</th>\n",
              "      <td>2018-01-01</td>\n",
              "      <td>1</td>\n",
              "      <td>제주시</td>\n",
              "      <td>50110250</td>\n",
              "      <td>한림읍</td>\n",
              "      <td>여성</td>\n",
              "      <td>0</td>\n",
              "      <td>638.5509</td>\n",
              "      <td>15.5400</td>\n",
              "      <td>151.5149</td>\n",
              "      <td>제주</td>\n",
              "    </tr>\n",
              "    <tr>\n",
              "      <th>1</th>\n",
              "      <td>2018-01-01</td>\n",
              "      <td>1</td>\n",
              "      <td>제주시</td>\n",
              "      <td>50110250</td>\n",
              "      <td>한림읍</td>\n",
              "      <td>여성</td>\n",
              "      <td>0</td>\n",
              "      <td>0.0000</td>\n",
              "      <td>3.7249</td>\n",
              "      <td>171.3458</td>\n",
              "      <td>그외</td>\n",
              "    </tr>\n",
              "    <tr>\n",
              "      <th>2</th>\n",
              "      <td>2018-01-01</td>\n",
              "      <td>1</td>\n",
              "      <td>제주시</td>\n",
              "      <td>50110250</td>\n",
              "      <td>한림읍</td>\n",
              "      <td>여성</td>\n",
              "      <td>10</td>\n",
              "      <td>668.4577</td>\n",
              "      <td>17.0308</td>\n",
              "      <td>166.0500</td>\n",
              "      <td>제주</td>\n",
              "    </tr>\n",
              "  </tbody>\n",
              "</table>\n",
              "</div>"
            ],
            "text/plain": [
              "           날짜  시간    시     행정동코드  ...      거주인구     근무인구      방문인구  거주지역행정구역\n",
              "0  2018-01-01   1  제주시  50110250  ...  638.5509  15.5400  151.5149        제주\n",
              "1  2018-01-01   1  제주시  50110250  ...    0.0000   3.7249  171.3458        그외\n",
              "2  2018-01-01   1  제주시  50110250  ...  668.4577  17.0308  166.0500        제주\n",
              "\n",
              "[3 rows x 11 columns]"
            ]
          },
          "metadata": {},
          "execution_count": 9
        }
      ]
    },
    {
      "cell_type": "code",
      "metadata": {
        "colab": {
          "base_uri": "https://localhost:8080/",
          "height": 142
        },
        "id": "30mSXTQTbwIK",
        "outputId": "6c34e26d-2bce-4202-d93b-0ec269f8676e"
      },
      "source": [
        "long_frgn = pd.read_csv('/content/drive/MyDrive/Data/빅콘/02-2_장기체류 외국인 유동인구_LONG_TERM_FRGN.CSV',encoding='cp949')\n",
        "long_frgn.columns = ['날짜','시간','외국인국적코드','시','행정동코드','행정동명','거주인구','근무인구','방문인구','거주지역행정구역']\n",
        "long_frgn.head(3)"
      ],
      "execution_count": 10,
      "outputs": [
        {
          "output_type": "execute_result",
          "data": {
            "text/html": [
              "<div>\n",
              "<style scoped>\n",
              "    .dataframe tbody tr th:only-of-type {\n",
              "        vertical-align: middle;\n",
              "    }\n",
              "\n",
              "    .dataframe tbody tr th {\n",
              "        vertical-align: top;\n",
              "    }\n",
              "\n",
              "    .dataframe thead th {\n",
              "        text-align: right;\n",
              "    }\n",
              "</style>\n",
              "<table border=\"1\" class=\"dataframe\">\n",
              "  <thead>\n",
              "    <tr style=\"text-align: right;\">\n",
              "      <th></th>\n",
              "      <th>날짜</th>\n",
              "      <th>시간</th>\n",
              "      <th>외국인국적코드</th>\n",
              "      <th>시</th>\n",
              "      <th>행정동코드</th>\n",
              "      <th>행정동명</th>\n",
              "      <th>거주인구</th>\n",
              "      <th>근무인구</th>\n",
              "      <th>방문인구</th>\n",
              "      <th>거주지역행정구역</th>\n",
              "    </tr>\n",
              "  </thead>\n",
              "  <tbody>\n",
              "    <tr>\n",
              "      <th>0</th>\n",
              "      <td>2018-01-01</td>\n",
              "      <td>1</td>\n",
              "      <td>CAN</td>\n",
              "      <td>제주시</td>\n",
              "      <td>50110250</td>\n",
              "      <td>한림읍</td>\n",
              "      <td>6.3381</td>\n",
              "      <td>0.0000</td>\n",
              "      <td>4.5802</td>\n",
              "      <td>제주</td>\n",
              "    </tr>\n",
              "    <tr>\n",
              "      <th>1</th>\n",
              "      <td>2018-01-01</td>\n",
              "      <td>1</td>\n",
              "      <td>CHN</td>\n",
              "      <td>제주시</td>\n",
              "      <td>50110250</td>\n",
              "      <td>한림읍</td>\n",
              "      <td>442.1091</td>\n",
              "      <td>0.0000</td>\n",
              "      <td>5.7051</td>\n",
              "      <td>제주</td>\n",
              "    </tr>\n",
              "    <tr>\n",
              "      <th>2</th>\n",
              "      <td>2018-01-01</td>\n",
              "      <td>1</td>\n",
              "      <td>CHN</td>\n",
              "      <td>제주시</td>\n",
              "      <td>50110250</td>\n",
              "      <td>한림읍</td>\n",
              "      <td>0.0000</td>\n",
              "      <td>7.8695</td>\n",
              "      <td>51.3461</td>\n",
              "      <td>그외</td>\n",
              "    </tr>\n",
              "  </tbody>\n",
              "</table>\n",
              "</div>"
            ],
            "text/plain": [
              "           날짜  시간 외국인국적코드    시  ...      거주인구    근무인구     방문인구  거주지역행정구역\n",
              "0  2018-01-01   1     CAN  제주시  ...    6.3381  0.0000   4.5802        제주\n",
              "1  2018-01-01   1     CHN  제주시  ...  442.1091  0.0000   5.7051        제주\n",
              "2  2018-01-01   1     CHN  제주시  ...    0.0000  7.8695  51.3461        그외\n",
              "\n",
              "[3 rows x 10 columns]"
            ]
          },
          "metadata": {},
          "execution_count": 10
        }
      ]
    },
    {
      "cell_type": "code",
      "metadata": {
        "colab": {
          "base_uri": "https://localhost:8080/",
          "height": 142
        },
        "id": "ACZOOrHAb8Kn",
        "outputId": "c4fcc5ab-425a-4966-c8f3-e8f9398fe3c1"
      },
      "source": [
        "short_frgn = pd.read_csv('/content/drive/MyDrive/Data/빅콘/02-3_단기체류 외국인 유동인구_SHORT_TERM_FRGN.CSV',encoding='cp949')\n",
        "short_frgn.columns = ['날짜','시간','외국인국적코드','시','행정동코드','행정동명','방문인구']\n",
        "short_frgn.head(3)"
      ],
      "execution_count": 11,
      "outputs": [
        {
          "output_type": "execute_result",
          "data": {
            "text/html": [
              "<div>\n",
              "<style scoped>\n",
              "    .dataframe tbody tr th:only-of-type {\n",
              "        vertical-align: middle;\n",
              "    }\n",
              "\n",
              "    .dataframe tbody tr th {\n",
              "        vertical-align: top;\n",
              "    }\n",
              "\n",
              "    .dataframe thead th {\n",
              "        text-align: right;\n",
              "    }\n",
              "</style>\n",
              "<table border=\"1\" class=\"dataframe\">\n",
              "  <thead>\n",
              "    <tr style=\"text-align: right;\">\n",
              "      <th></th>\n",
              "      <th>날짜</th>\n",
              "      <th>시간</th>\n",
              "      <th>외국인국적코드</th>\n",
              "      <th>시</th>\n",
              "      <th>행정동코드</th>\n",
              "      <th>행정동명</th>\n",
              "      <th>방문인구</th>\n",
              "    </tr>\n",
              "  </thead>\n",
              "  <tbody>\n",
              "    <tr>\n",
              "      <th>0</th>\n",
              "      <td>2018-01-01</td>\n",
              "      <td>1</td>\n",
              "      <td>CHN</td>\n",
              "      <td>제주시</td>\n",
              "      <td>50110250</td>\n",
              "      <td>한림읍</td>\n",
              "      <td>66.3170</td>\n",
              "    </tr>\n",
              "    <tr>\n",
              "      <th>1</th>\n",
              "      <td>2018-01-01</td>\n",
              "      <td>1</td>\n",
              "      <td>ETC</td>\n",
              "      <td>제주시</td>\n",
              "      <td>50110250</td>\n",
              "      <td>한림읍</td>\n",
              "      <td>21.1308</td>\n",
              "    </tr>\n",
              "    <tr>\n",
              "      <th>2</th>\n",
              "      <td>2018-01-01</td>\n",
              "      <td>1</td>\n",
              "      <td>HKG</td>\n",
              "      <td>제주시</td>\n",
              "      <td>50110250</td>\n",
              "      <td>한림읍</td>\n",
              "      <td>3.6771</td>\n",
              "    </tr>\n",
              "  </tbody>\n",
              "</table>\n",
              "</div>"
            ],
            "text/plain": [
              "           날짜  시간 외국인국적코드    시     행정동코드 행정동명     방문인구\n",
              "0  2018-01-01   1     CHN  제주시  50110250  한림읍  66.3170\n",
              "1  2018-01-01   1     ETC  제주시  50110250  한림읍  21.1308\n",
              "2  2018-01-01   1     HKG  제주시  50110250  한림읍   3.6771"
            ]
          },
          "metadata": {},
          "execution_count": 11
        }
      ]
    },
    {
      "cell_type": "markdown",
      "metadata": {
        "id": "IL_MT0oMJWEP"
      },
      "source": [
        "###### 결측치 확인\n",
        "* 결측치 없음"
      ]
    },
    {
      "cell_type": "code",
      "metadata": {
        "id": "_cx9NPZkJqcc",
        "colab": {
          "base_uri": "https://localhost:8080/",
          "height": 388
        },
        "outputId": "57fb2f9b-e74e-4d4e-ec71-a4e073f76162"
      },
      "source": [
        "korean.isnull().sum().to_frame()"
      ],
      "execution_count": 12,
      "outputs": [
        {
          "output_type": "execute_result",
          "data": {
            "text/html": [
              "<div>\n",
              "<style scoped>\n",
              "    .dataframe tbody tr th:only-of-type {\n",
              "        vertical-align: middle;\n",
              "    }\n",
              "\n",
              "    .dataframe tbody tr th {\n",
              "        vertical-align: top;\n",
              "    }\n",
              "\n",
              "    .dataframe thead th {\n",
              "        text-align: right;\n",
              "    }\n",
              "</style>\n",
              "<table border=\"1\" class=\"dataframe\">\n",
              "  <thead>\n",
              "    <tr style=\"text-align: right;\">\n",
              "      <th></th>\n",
              "      <th>0</th>\n",
              "    </tr>\n",
              "  </thead>\n",
              "  <tbody>\n",
              "    <tr>\n",
              "      <th>날짜</th>\n",
              "      <td>0</td>\n",
              "    </tr>\n",
              "    <tr>\n",
              "      <th>시간</th>\n",
              "      <td>0</td>\n",
              "    </tr>\n",
              "    <tr>\n",
              "      <th>시</th>\n",
              "      <td>0</td>\n",
              "    </tr>\n",
              "    <tr>\n",
              "      <th>행정동코드</th>\n",
              "      <td>0</td>\n",
              "    </tr>\n",
              "    <tr>\n",
              "      <th>행정동명</th>\n",
              "      <td>0</td>\n",
              "    </tr>\n",
              "    <tr>\n",
              "      <th>성별</th>\n",
              "      <td>0</td>\n",
              "    </tr>\n",
              "    <tr>\n",
              "      <th>연령대</th>\n",
              "      <td>0</td>\n",
              "    </tr>\n",
              "    <tr>\n",
              "      <th>거주인구</th>\n",
              "      <td>0</td>\n",
              "    </tr>\n",
              "    <tr>\n",
              "      <th>근무인구</th>\n",
              "      <td>0</td>\n",
              "    </tr>\n",
              "    <tr>\n",
              "      <th>방문인구</th>\n",
              "      <td>0</td>\n",
              "    </tr>\n",
              "    <tr>\n",
              "      <th>거주지역행정구역</th>\n",
              "      <td>0</td>\n",
              "    </tr>\n",
              "  </tbody>\n",
              "</table>\n",
              "</div>"
            ],
            "text/plain": [
              "          0\n",
              "날짜        0\n",
              "시간        0\n",
              "시         0\n",
              "행정동코드     0\n",
              "행정동명      0\n",
              "성별        0\n",
              "연령대       0\n",
              "거주인구      0\n",
              "근무인구      0\n",
              "방문인구      0\n",
              "거주지역행정구역  0"
            ]
          },
          "metadata": {},
          "execution_count": 12
        }
      ]
    },
    {
      "cell_type": "code",
      "metadata": {
        "colab": {
          "base_uri": "https://localhost:8080/",
          "height": 357
        },
        "id": "mhsZ1NvGcEc5",
        "outputId": "d65466c8-794e-48e0-f186-40515a4b3b9a"
      },
      "source": [
        "long_frgn.isnull().sum().to_frame()"
      ],
      "execution_count": 13,
      "outputs": [
        {
          "output_type": "execute_result",
          "data": {
            "text/html": [
              "<div>\n",
              "<style scoped>\n",
              "    .dataframe tbody tr th:only-of-type {\n",
              "        vertical-align: middle;\n",
              "    }\n",
              "\n",
              "    .dataframe tbody tr th {\n",
              "        vertical-align: top;\n",
              "    }\n",
              "\n",
              "    .dataframe thead th {\n",
              "        text-align: right;\n",
              "    }\n",
              "</style>\n",
              "<table border=\"1\" class=\"dataframe\">\n",
              "  <thead>\n",
              "    <tr style=\"text-align: right;\">\n",
              "      <th></th>\n",
              "      <th>0</th>\n",
              "    </tr>\n",
              "  </thead>\n",
              "  <tbody>\n",
              "    <tr>\n",
              "      <th>날짜</th>\n",
              "      <td>0</td>\n",
              "    </tr>\n",
              "    <tr>\n",
              "      <th>시간</th>\n",
              "      <td>0</td>\n",
              "    </tr>\n",
              "    <tr>\n",
              "      <th>외국인국적코드</th>\n",
              "      <td>0</td>\n",
              "    </tr>\n",
              "    <tr>\n",
              "      <th>시</th>\n",
              "      <td>0</td>\n",
              "    </tr>\n",
              "    <tr>\n",
              "      <th>행정동코드</th>\n",
              "      <td>0</td>\n",
              "    </tr>\n",
              "    <tr>\n",
              "      <th>행정동명</th>\n",
              "      <td>0</td>\n",
              "    </tr>\n",
              "    <tr>\n",
              "      <th>거주인구</th>\n",
              "      <td>0</td>\n",
              "    </tr>\n",
              "    <tr>\n",
              "      <th>근무인구</th>\n",
              "      <td>0</td>\n",
              "    </tr>\n",
              "    <tr>\n",
              "      <th>방문인구</th>\n",
              "      <td>0</td>\n",
              "    </tr>\n",
              "    <tr>\n",
              "      <th>거주지역행정구역</th>\n",
              "      <td>0</td>\n",
              "    </tr>\n",
              "  </tbody>\n",
              "</table>\n",
              "</div>"
            ],
            "text/plain": [
              "          0\n",
              "날짜        0\n",
              "시간        0\n",
              "외국인국적코드   0\n",
              "시         0\n",
              "행정동코드     0\n",
              "행정동명      0\n",
              "거주인구      0\n",
              "근무인구      0\n",
              "방문인구      0\n",
              "거주지역행정구역  0"
            ]
          },
          "metadata": {},
          "execution_count": 13
        }
      ]
    },
    {
      "cell_type": "code",
      "metadata": {
        "colab": {
          "base_uri": "https://localhost:8080/",
          "height": 265
        },
        "id": "5IlvoQJZcEtR",
        "outputId": "8fb14a9d-ad76-4b03-e38d-7004f82fe619"
      },
      "source": [
        "short_frgn.isnull().sum().to_frame()"
      ],
      "execution_count": 14,
      "outputs": [
        {
          "output_type": "execute_result",
          "data": {
            "text/html": [
              "<div>\n",
              "<style scoped>\n",
              "    .dataframe tbody tr th:only-of-type {\n",
              "        vertical-align: middle;\n",
              "    }\n",
              "\n",
              "    .dataframe tbody tr th {\n",
              "        vertical-align: top;\n",
              "    }\n",
              "\n",
              "    .dataframe thead th {\n",
              "        text-align: right;\n",
              "    }\n",
              "</style>\n",
              "<table border=\"1\" class=\"dataframe\">\n",
              "  <thead>\n",
              "    <tr style=\"text-align: right;\">\n",
              "      <th></th>\n",
              "      <th>0</th>\n",
              "    </tr>\n",
              "  </thead>\n",
              "  <tbody>\n",
              "    <tr>\n",
              "      <th>날짜</th>\n",
              "      <td>0</td>\n",
              "    </tr>\n",
              "    <tr>\n",
              "      <th>시간</th>\n",
              "      <td>0</td>\n",
              "    </tr>\n",
              "    <tr>\n",
              "      <th>외국인국적코드</th>\n",
              "      <td>0</td>\n",
              "    </tr>\n",
              "    <tr>\n",
              "      <th>시</th>\n",
              "      <td>0</td>\n",
              "    </tr>\n",
              "    <tr>\n",
              "      <th>행정동코드</th>\n",
              "      <td>0</td>\n",
              "    </tr>\n",
              "    <tr>\n",
              "      <th>행정동명</th>\n",
              "      <td>0</td>\n",
              "    </tr>\n",
              "    <tr>\n",
              "      <th>방문인구</th>\n",
              "      <td>0</td>\n",
              "    </tr>\n",
              "  </tbody>\n",
              "</table>\n",
              "</div>"
            ],
            "text/plain": [
              "         0\n",
              "날짜       0\n",
              "시간       0\n",
              "외국인국적코드  0\n",
              "시        0\n",
              "행정동코드    0\n",
              "행정동명     0\n",
              "방문인구     0"
            ]
          },
          "metadata": {},
          "execution_count": 14
        }
      ]
    },
    {
      "cell_type": "markdown",
      "metadata": {
        "id": "FhVQvy23JHqy"
      },
      "source": [
        "###### '총인구' 컬럼 추가\n",
        "* 내국인 / 장기체류외국인: 거주인구 + 근무인구 + 방문인구\n",
        "* 단기체류외국인: 방문인구만 있음.\n"
      ]
    },
    {
      "cell_type": "code",
      "metadata": {
        "id": "V1hVRl77JEZo"
      },
      "source": [
        "cols = ['거주인구','근무인구','방문인구']\n",
        "korean['총인구'] = korean.loc[:, cols].sum(axis=1)\n",
        "long_frgn['총인구'] = long_frgn.loc[:, cols].sum(axis=1)"
      ],
      "execution_count": 15,
      "outputs": []
    },
    {
      "cell_type": "markdown",
      "metadata": {
        "id": "-t5fDPaYGk_A"
      },
      "source": [
        "###### 시간대 라벨링\n",
        "* 새벽: 1 ~ 5시  \n",
        "* 아침: 6 ~ 9시  \n",
        "* 낮:   10 ~ 17시  \n",
        "* 저녁: 18 ~ 21시  \n",
        "* 밤:   22 ~ 24시"
      ]
    },
    {
      "cell_type": "code",
      "metadata": {
        "id": "E8loX0bDFOsW"
      },
      "source": [
        "def time_labeling(x):\n",
        "    if 1 <= x <= 5:\n",
        "        return '새벽'\n",
        "    elif 6 <= x <= 9:\n",
        "        return '아침'\n",
        "    elif 10 <= x <= 17:\n",
        "        return '낮'\n",
        "    elif 18 <= x <= 21:\n",
        "        return '저녁'\n",
        "    elif 22 <= x <= 24:\n",
        "        return '밤'\n",
        "korean['시간대'] = korean['시간'].apply(time_labeling)\n",
        "long_frgn['시간대'] = long_frgn['시간'].apply(time_labeling)\n",
        "short_frgn['시간대'] = short_frgn['시간'].apply(time_labeling)"
      ],
      "execution_count": 16,
      "outputs": []
    },
    {
      "cell_type": "markdown",
      "metadata": {
        "id": "33Cq-KedPZvd"
      },
      "source": [
        "###### 연령대 라벨링\n",
        "* 0: 10세 미만\n",
        "* 1: 10대\n",
        "* 2: 20대\n",
        "* 3: 30대\n",
        "* 4: 40대\n",
        "* 5: 50대\n",
        "* 6: 60대\n",
        "* 7: 70대\n",
        "* 8: 80세 이상"
      ]
    },
    {
      "cell_type": "code",
      "metadata": {
        "id": "1i-Gzz2EPqiU"
      },
      "source": [
        "temp_list= {0:0, 10:1, 20:2, 30:3, 40:4, 50:5, 60:6, 70:7, 80:8}"
      ],
      "execution_count": 17,
      "outputs": []
    },
    {
      "cell_type": "code",
      "metadata": {
        "id": "u0YI3NmulxAB"
      },
      "source": [
        "korean.head()\n",
        "korean.insert(4, '나이', korean.연령대.map(temp_list))"
      ],
      "execution_count": 18,
      "outputs": []
    },
    {
      "cell_type": "markdown",
      "metadata": {
        "id": "gqNBZjB8PrFP"
      },
      "source": [
        "###### 성별 라벨링\n",
        "* 0: 남성\n",
        "* 1: 여성"
      ]
    },
    {
      "cell_type": "code",
      "metadata": {
        "id": "w85M9yzcPuEB"
      },
      "source": [
        "semp_list= {'남자':0, '여자':1}\n",
        "korean.insert(5, '성', korean.성별.map(semp_list))\n",
        "korean = korean.drop(columns=['성별'])"
      ],
      "execution_count": 19,
      "outputs": []
    },
    {
      "cell_type": "markdown",
      "metadata": {
        "id": "5QD_tSuTzKKQ"
      },
      "source": [
        "#### 3) 거주인구"
      ]
    },
    {
      "cell_type": "code",
      "metadata": {
        "id": "tSIsu9F_aeKP"
      },
      "source": [
        "pop = pd.read_csv('/content/drive/MyDrive/Data/빅콘/03_거주인구_RESIDENT_POP.CSV',encoding='cp949')"
      ],
      "execution_count": 20,
      "outputs": []
    },
    {
      "cell_type": "code",
      "metadata": {
        "id": "HfYrLKCOzMNI"
      },
      "source": [
        "# 년,월,동별 거주인구,외국인인구,총인구 피벗\n",
        "pop2 = pd.pivot_table(data=pop,index=['base_year','base_month','emd_nm'],values=['resid_reg_pop','foreign_pop','total_pop'],aggfunc=sum).reset_index()"
      ],
      "execution_count": 21,
      "outputs": []
    },
    {
      "cell_type": "markdown",
      "metadata": {
        "id": "6AXmBfy3zgD-"
      },
      "source": [
        "#### 4) 카드데이터"
      ]
    },
    {
      "cell_type": "code",
      "metadata": {
        "id": "APkbRkVPaq0U"
      },
      "source": [
        "card = pd.read_csv('/content/drive/MyDrive/Data/빅콘/04_음식관련 카드소비_CARD_SPENDING.CSV',encoding='cp949')"
      ],
      "execution_count": 22,
      "outputs": []
    },
    {
      "cell_type": "code",
      "metadata": {
        "id": "wTL5Gy6xzhrE"
      },
      "source": [
        "card['base_date'] = pd.to_datetime(card.base_date)\n",
        "card['월'] = card['base_date'].dt.month\n",
        "card['년도'] = card['base_date'].dt.year\n",
        "card['index'] = card['년도'].map(str)+\"-\"+card['월'].map(str)+\"-\"+card['emd_nm']\n",
        "\n",
        "cards = pd.pivot_table(data = card, index=['index'],columns='mct_cat_nm',values='use_amt',aggfunc=sum).reset_index()"
      ],
      "execution_count": 23,
      "outputs": []
    },
    {
      "cell_type": "markdown",
      "metadata": {
        "id": "1rx6QRABCq4D"
      },
      "source": [
        "#### 5) 알 수 없음"
      ]
    },
    {
      "cell_type": "code",
      "metadata": {
        "id": "NyPaJjkFCtr8"
      },
      "source": [
        "unknown = food[food.시 == '알수없음']\n",
        "unknown = pd.pivot_table(data = unknown, index = ['년도','월'],values='배출량').reset_index()"
      ],
      "execution_count": 24,
      "outputs": []
    },
    {
      "cell_type": "markdown",
      "metadata": {
        "id": "GajRPcJRagQX"
      },
      "source": [
        "## EDA"
      ]
    },
    {
      "cell_type": "markdown",
      "metadata": {
        "id": "zzdLUeXXahoX"
      },
      "source": [
        "#### 1) 시간대별 총 유동인구 살펴보기"
      ]
    },
    {
      "cell_type": "code",
      "metadata": {
        "id": "5FUXQNGbP0f1",
        "colab": {
          "base_uri": "https://localhost:8080/",
          "height": 142
        },
        "outputId": "963a6208-1bd5-42e5-e2db-787a953d4374"
      },
      "source": [
        "korean.head(3)"
      ],
      "execution_count": 25,
      "outputs": [
        {
          "output_type": "execute_result",
          "data": {
            "text/html": [
              "<div>\n",
              "<style scoped>\n",
              "    .dataframe tbody tr th:only-of-type {\n",
              "        vertical-align: middle;\n",
              "    }\n",
              "\n",
              "    .dataframe tbody tr th {\n",
              "        vertical-align: top;\n",
              "    }\n",
              "\n",
              "    .dataframe thead th {\n",
              "        text-align: right;\n",
              "    }\n",
              "</style>\n",
              "<table border=\"1\" class=\"dataframe\">\n",
              "  <thead>\n",
              "    <tr style=\"text-align: right;\">\n",
              "      <th></th>\n",
              "      <th>날짜</th>\n",
              "      <th>시간</th>\n",
              "      <th>시</th>\n",
              "      <th>행정동코드</th>\n",
              "      <th>나이</th>\n",
              "      <th>성</th>\n",
              "      <th>행정동명</th>\n",
              "      <th>연령대</th>\n",
              "      <th>거주인구</th>\n",
              "      <th>근무인구</th>\n",
              "      <th>방문인구</th>\n",
              "      <th>거주지역행정구역</th>\n",
              "      <th>총인구</th>\n",
              "      <th>시간대</th>\n",
              "    </tr>\n",
              "  </thead>\n",
              "  <tbody>\n",
              "    <tr>\n",
              "      <th>0</th>\n",
              "      <td>2018-01-01</td>\n",
              "      <td>1</td>\n",
              "      <td>제주시</td>\n",
              "      <td>50110250</td>\n",
              "      <td>0</td>\n",
              "      <td>NaN</td>\n",
              "      <td>한림읍</td>\n",
              "      <td>0</td>\n",
              "      <td>638.5509</td>\n",
              "      <td>15.5400</td>\n",
              "      <td>151.5149</td>\n",
              "      <td>제주</td>\n",
              "      <td>805.6058</td>\n",
              "      <td>새벽</td>\n",
              "    </tr>\n",
              "    <tr>\n",
              "      <th>1</th>\n",
              "      <td>2018-01-01</td>\n",
              "      <td>1</td>\n",
              "      <td>제주시</td>\n",
              "      <td>50110250</td>\n",
              "      <td>0</td>\n",
              "      <td>NaN</td>\n",
              "      <td>한림읍</td>\n",
              "      <td>0</td>\n",
              "      <td>0.0000</td>\n",
              "      <td>3.7249</td>\n",
              "      <td>171.3458</td>\n",
              "      <td>그외</td>\n",
              "      <td>175.0707</td>\n",
              "      <td>새벽</td>\n",
              "    </tr>\n",
              "    <tr>\n",
              "      <th>2</th>\n",
              "      <td>2018-01-01</td>\n",
              "      <td>1</td>\n",
              "      <td>제주시</td>\n",
              "      <td>50110250</td>\n",
              "      <td>1</td>\n",
              "      <td>NaN</td>\n",
              "      <td>한림읍</td>\n",
              "      <td>10</td>\n",
              "      <td>668.4577</td>\n",
              "      <td>17.0308</td>\n",
              "      <td>166.0500</td>\n",
              "      <td>제주</td>\n",
              "      <td>851.5385</td>\n",
              "      <td>새벽</td>\n",
              "    </tr>\n",
              "  </tbody>\n",
              "</table>\n",
              "</div>"
            ],
            "text/plain": [
              "           날짜  시간    시     행정동코드  나이  ...     근무인구      방문인구  거주지역행정구역       총인구  시간대\n",
              "0  2018-01-01   1  제주시  50110250   0  ...  15.5400  151.5149        제주  805.6058   새벽\n",
              "1  2018-01-01   1  제주시  50110250   0  ...   3.7249  171.3458        그외  175.0707   새벽\n",
              "2  2018-01-01   1  제주시  50110250   1  ...  17.0308  166.0500        제주  851.5385   새벽\n",
              "\n",
              "[3 rows x 14 columns]"
            ]
          },
          "metadata": {},
          "execution_count": 25
        }
      ]
    },
    {
      "cell_type": "markdown",
      "metadata": {
        "id": "dEcfE41zQifu"
      },
      "source": [
        "###### 시, 행정동, 시간대에 따른 평균 유동인구\n",
        "* 행정동명, 유동인구 높은순으로 정렬\n"
      ]
    },
    {
      "cell_type": "code",
      "metadata": {
        "id": "ck2W7rpKP1vh",
        "colab": {
          "base_uri": "https://localhost:8080/",
          "height": 203
        },
        "outputId": "537ff5b8-304f-45e3-c298-10f59afcf5f8"
      },
      "source": [
        "# 내국인 평균 유동인구수\n",
        "pop_sdt_k = korean.groupby(['시','행정동명','시간대'])['총인구'].agg(**{'내국인평균유동인구':'mean'}).reset_index()\n",
        "pop_sdt_k = pop_sdt_k.sort_values(by=['행정동명','내국인평균유동인구'], ascending=[True, False])\n",
        "pop_sdt_k.head()"
      ],
      "execution_count": 26,
      "outputs": [
        {
          "output_type": "execute_result",
          "data": {
            "text/html": [
              "<div>\n",
              "<style scoped>\n",
              "    .dataframe tbody tr th:only-of-type {\n",
              "        vertical-align: middle;\n",
              "    }\n",
              "\n",
              "    .dataframe tbody tr th {\n",
              "        vertical-align: top;\n",
              "    }\n",
              "\n",
              "    .dataframe thead th {\n",
              "        text-align: right;\n",
              "    }\n",
              "</style>\n",
              "<table border=\"1\" class=\"dataframe\">\n",
              "  <thead>\n",
              "    <tr style=\"text-align: right;\">\n",
              "      <th></th>\n",
              "      <th>시</th>\n",
              "      <th>행정동명</th>\n",
              "      <th>시간대</th>\n",
              "      <th>내국인평균유동인구</th>\n",
              "    </tr>\n",
              "  </thead>\n",
              "  <tbody>\n",
              "    <tr>\n",
              "      <th>88</th>\n",
              "      <td>제주시</td>\n",
              "      <td>건입동</td>\n",
              "      <td>아침</td>\n",
              "      <td>391.057578</td>\n",
              "    </tr>\n",
              "    <tr>\n",
              "      <th>87</th>\n",
              "      <td>제주시</td>\n",
              "      <td>건입동</td>\n",
              "      <td>새벽</td>\n",
              "      <td>373.912720</td>\n",
              "    </tr>\n",
              "    <tr>\n",
              "      <th>85</th>\n",
              "      <td>제주시</td>\n",
              "      <td>건입동</td>\n",
              "      <td>낮</td>\n",
              "      <td>368.964445</td>\n",
              "    </tr>\n",
              "    <tr>\n",
              "      <th>86</th>\n",
              "      <td>제주시</td>\n",
              "      <td>건입동</td>\n",
              "      <td>밤</td>\n",
              "      <td>364.346214</td>\n",
              "    </tr>\n",
              "    <tr>\n",
              "      <th>89</th>\n",
              "      <td>제주시</td>\n",
              "      <td>건입동</td>\n",
              "      <td>저녁</td>\n",
              "      <td>361.372793</td>\n",
              "    </tr>\n",
              "  </tbody>\n",
              "</table>\n",
              "</div>"
            ],
            "text/plain": [
              "      시 행정동명 시간대   내국인평균유동인구\n",
              "88  제주시  건입동  아침  391.057578\n",
              "87  제주시  건입동  새벽  373.912720\n",
              "85  제주시  건입동   낮  368.964445\n",
              "86  제주시  건입동   밤  364.346214\n",
              "89  제주시  건입동  저녁  361.372793"
            ]
          },
          "metadata": {},
          "execution_count": 26
        }
      ]
    },
    {
      "cell_type": "code",
      "metadata": {
        "id": "Ute4SVdLUcH5"
      },
      "source": [
        "# 장기체류외국인 평균 유동인구수\n",
        "pop_sdt_lf = long_frgn.groupby(['시','행정동명','시간대'])['총인구'].agg(**{'장기체류외국인평균유동인구':'mean'}).reset_index()\n",
        "pop_sdt_lf = pop_sdt_lf.sort_values(by=['행정동명','장기체류외국인평균유동인구'], ascending=[True, False])\n",
        "pop_sdt_lf = pop_sdt_lf.sort_values(by='장기체류외국인평균유동인구', ascending=False)"
      ],
      "execution_count": 27,
      "outputs": []
    },
    {
      "cell_type": "code",
      "metadata": {
        "id": "9TXHJ9etUwZ3"
      },
      "source": [
        "# 단기체류외국인 평균 유동인구수\n",
        "pop_sdt_sf = short_frgn.groupby(['시','행정동명','시간대'])['방문인구'].agg(**{'단기체류외국인평균유동인구':'mean'}).reset_index()\n",
        "pop_sdt_sf = pop_sdt_sf.sort_values(by=['행정동명','단기체류외국인평균유동인구'], ascending=[True, False])\n",
        "pop_sdt_sf = pop_sdt_sf.sort_values(by='단기체류외국인평균유동인구', ascending=False)"
      ],
      "execution_count": 28,
      "outputs": []
    },
    {
      "cell_type": "markdown",
      "metadata": {
        "id": "-234Fd9xRMkt"
      },
      "source": [
        "###### 각 동에서 유동인구가 가장 많은 시간대 카운트해서 데이터프레임 생성"
      ]
    },
    {
      "cell_type": "code",
      "metadata": {
        "id": "K0okIS3XRlOG",
        "colab": {
          "base_uri": "https://localhost:8080/",
          "height": 222
        },
        "outputId": "fb7954a0-9b5c-4364-8df1-549f586143de"
      },
      "source": [
        "# 내국인\n",
        "t0,t1,t2,t3,t4 = 0,0,0,0,0\n",
        "\n",
        "i = 0\n",
        "while i <= len(pop_sdt_k)-5:\n",
        "  time = pop_sdt_k.iloc[i,:]['시간대']\n",
        "  if time=='새벽': t0 += 1\n",
        "  elif time=='아침': t1 += 1\n",
        "  elif time=='낮': t2 += 1\n",
        "  elif time=='저녁': t3 += 1\n",
        "  elif time=='밤': t4 += 1\n",
        "  \n",
        "  i += 5\n",
        "\n",
        "df = pd.DataFrame(data=[t0,t1,t2,t3,t4], index=time_order, columns=['count_k'])\n",
        "df"
      ],
      "execution_count": 29,
      "outputs": [
        {
          "output_type": "error",
          "ename": "NameError",
          "evalue": "ignored",
          "traceback": [
            "\u001b[0;31m---------------------------------------------------------------------------\u001b[0m",
            "\u001b[0;31mNameError\u001b[0m                                 Traceback (most recent call last)",
            "\u001b[0;32m<ipython-input-29-04b75f4e3259>\u001b[0m in \u001b[0;36m<module>\u001b[0;34m()\u001b[0m\n\u001b[1;32m     13\u001b[0m   \u001b[0mi\u001b[0m \u001b[0;34m+=\u001b[0m \u001b[0;36m5\u001b[0m\u001b[0;34m\u001b[0m\u001b[0;34m\u001b[0m\u001b[0m\n\u001b[1;32m     14\u001b[0m \u001b[0;34m\u001b[0m\u001b[0m\n\u001b[0;32m---> 15\u001b[0;31m \u001b[0mdf\u001b[0m \u001b[0;34m=\u001b[0m \u001b[0mpd\u001b[0m\u001b[0;34m.\u001b[0m\u001b[0mDataFrame\u001b[0m\u001b[0;34m(\u001b[0m\u001b[0mdata\u001b[0m\u001b[0;34m=\u001b[0m\u001b[0;34m[\u001b[0m\u001b[0mt0\u001b[0m\u001b[0;34m,\u001b[0m\u001b[0mt1\u001b[0m\u001b[0;34m,\u001b[0m\u001b[0mt2\u001b[0m\u001b[0;34m,\u001b[0m\u001b[0mt3\u001b[0m\u001b[0;34m,\u001b[0m\u001b[0mt4\u001b[0m\u001b[0;34m]\u001b[0m\u001b[0;34m,\u001b[0m \u001b[0mindex\u001b[0m\u001b[0;34m=\u001b[0m\u001b[0mtime_order\u001b[0m\u001b[0;34m,\u001b[0m \u001b[0mcolumns\u001b[0m\u001b[0;34m=\u001b[0m\u001b[0;34m[\u001b[0m\u001b[0;34m'count_k'\u001b[0m\u001b[0;34m]\u001b[0m\u001b[0;34m)\u001b[0m\u001b[0;34m\u001b[0m\u001b[0;34m\u001b[0m\u001b[0m\n\u001b[0m\u001b[1;32m     16\u001b[0m \u001b[0mdf\u001b[0m\u001b[0;34m\u001b[0m\u001b[0;34m\u001b[0m\u001b[0m\n",
            "\u001b[0;31mNameError\u001b[0m: name 'time_order' is not defined"
          ]
        }
      ]
    },
    {
      "cell_type": "code",
      "metadata": {
        "id": "Z3bMKv_7TWdl"
      },
      "source": [
        "# 장기체류 외국인\n",
        "lf0,lf1,lf2,lf3,lf4 = 0,0,0,0,0\n",
        "\n",
        "i = 0\n",
        "while i <= len(pop_sdt_lf)-5:\n",
        "  time = pop_sdt_lf.iloc[i,:]['시간대']\n",
        "  if time=='새벽': lf0 += 1\n",
        "  elif time=='아침': lf1 += 1\n",
        "  elif time=='낮': lf2 += 1\n",
        "  elif time=='저녁': lf3 += 1\n",
        "  elif time=='밤': lf4 += 1\n",
        "  \n",
        "  i += 5\n",
        "\n",
        "df['count_lf'] = [lf0,lf1,lf2,lf3,lf4]\n",
        "df"
      ],
      "execution_count": null,
      "outputs": []
    },
    {
      "cell_type": "code",
      "metadata": {
        "id": "J1QXMISQVQZf"
      },
      "source": [
        "# 단기체류 외국인\n",
        "sf0,sf1,sf2,sf3,sf4 = 0,0,0,0,0\n",
        "\n",
        "i = 0\n",
        "while i <= len(pop_sdt_sf)-5:\n",
        "  time = pop_sdt_sf.iloc[i,:]['시간대']\n",
        "  if time=='새벽': sf0 += 1\n",
        "  elif time=='아침': sf1 += 1\n",
        "  elif time=='낮': sf2 += 1\n",
        "  elif time=='저녁': sf3 += 1\n",
        "  elif time=='밤': sf4 += 1\n",
        "  \n",
        "  i += 5\n",
        "\n",
        "df['count_sf'] = [sf0,sf1,sf2,sf3,sf4]\n",
        "df.head()"
      ],
      "execution_count": null,
      "outputs": []
    },
    {
      "cell_type": "code",
      "metadata": {
        "id": "pZ9wiDNnWNZn"
      },
      "source": [
        "df.rename(columns={'count':'내국인', 'count_lf':'장기외국인', 'count_sf':'단기외국인'}, inplace=True)\n",
        "df"
      ],
      "execution_count": null,
      "outputs": []
    },
    {
      "cell_type": "code",
      "metadata": {
        "id": "kKbKvDCrWcqS"
      },
      "source": [
        "# 시간대별 유동인구 그래프\n",
        "x = np.arange(len(time_order))\n",
        "plt.figure(figsize=(15,8))\n",
        "\n",
        "plt.bar(x-0.2, df['내국인'], label='내국인', width=0.2, color='orange')\n",
        "plt.bar(x, df['장기외국인'], label='장기외국인', width=0.2, color='pink')\n",
        "plt.bar(x+0.2, df['단기외국인'], label='단기외국인', width=0.2, color='skyblue')\n",
        "plt.xticks(x, time_order)\n",
        "plt.legend()\n",
        "plt.xlabel('시간대')\n",
        "plt.ylabel('총유동인구')\n",
        "plt.title('시간대별 총 유동인구', fontsize=15)\n",
        "plt.ylim(0, 30)\n",
        "plt.show()"
      ],
      "execution_count": null,
      "outputs": []
    },
    {
      "cell_type": "markdown",
      "metadata": {
        "id": "VP3v7TGvWh2v"
      },
      "source": [
        "* 내국인 -> 낮 > 저녁 \n",
        "  : 내국인은 낮에 활동을 많이 함을 확인할 수 있다.\n",
        "* 장기외국인 -> 새벽 > 낮  \n",
        "  : 장기체류하는 외국인은 새벽에 많이 활동?\n",
        "* 단기외국인(방문인구) -> 새벽 > 낮"
      ]
    },
    {
      "cell_type": "markdown",
      "metadata": {
        "id": "1y3FuPucCxc-"
      },
      "source": [
        "#### 5) 알 수 없음"
      ]
    },
    {
      "cell_type": "code",
      "metadata": {
        "id": "A44GcliFCv-8",
        "colab": {
          "base_uri": "https://localhost:8080/",
          "height": 284
        },
        "outputId": "325e7b54-169b-45c0-9d94-5a22fad29a94"
      },
      "source": [
        "unknown.plot()"
      ],
      "execution_count": 91,
      "outputs": [
        {
          "output_type": "execute_result",
          "data": {
            "text/plain": [
              "<matplotlib.axes._subplots.AxesSubplot at 0x7fe23e313f10>"
            ]
          },
          "metadata": {},
          "execution_count": 91
        },
        {
          "output_type": "display_data",
          "data": {
            "image/png": "[encoded data removed]",
            "text/plain": [
              "<Figure size 432x288 with 1 Axes>"
            ]
          },
          "metadata": {
            "image/png": {
              "width": 378,
              "height": 249
            },
            "needs_background": "light"
          }
        }
      ]
    },
    {
      "cell_type": "markdown",
      "metadata": {
        "id": "fKRcVw_xj2WO"
      },
      "source": [
        "#### 6) 도시 쓰레기량 비교: 평균 누적 모두 사용"
      ]
    },
    {
      "cell_type": "markdown",
      "metadata": {
        "id": "GoPjZruAj80c"
      },
      "source": [
        "1. n개년 평균으로 보기\n",
        "\n",
        "    → 월별로 보았을 때 7, 8월이 가장 배출량이 많음"
      ]
    },
    {
      "cell_type": "code",
      "metadata": {
        "id": "2PnvzCBbkC2p",
        "colab": {
          "base_uri": "https://localhost:8080/",
          "height": 300
        },
        "outputId": "de194292-8919-4a8b-9953-4954c3a2f80c"
      },
      "source": [
        "pd.pivot_table(data = food, index = '월', values = '배출량', aggfunc='mean').plot()"
      ],
      "execution_count": 31,
      "outputs": [
        {
          "output_type": "execute_result",
          "data": {
            "text/plain": [
              "<matplotlib.axes._subplots.AxesSubplot at 0x7fe27ebdfb90>"
            ]
          },
          "metadata": {},
          "execution_count": 31
        },
        {
          "output_type": "display_data",
          "data": {
            "image/png": "[encoded data removed]",
            "text/plain": [
              "<Figure size 432x288 with 1 Axes>"
            ]
          },
          "metadata": {
            "image/png": {
              "width": 385,
              "height": 265
            },
            "needs_background": "light"
          }
        }
      ]
    },
    {
      "cell_type": "markdown",
      "metadata": {
        "id": "JFwRG0YGkBqA"
      },
      "source": [
        "2. n개년 누적으로 보기\n",
        "\n",
        "    → 노형동, 이도2동, 연동(신제주)\n",
        "\n",
        "    → 6월 5월 1월이 가장 배출량이 많음"
      ]
    },
    {
      "cell_type": "code",
      "metadata": {
        "colab": {
          "base_uri": "https://localhost:8080/",
          "height": 169
        },
        "id": "69uwXIJck-Ti",
        "outputId": "efdcb68c-8179-49f4-83f0-e9273952d1d3"
      },
      "source": [
        "food_w.colums"
      ],
      "execution_count": 92,
      "outputs": [
        {
          "output_type": "error",
          "ename": "NameError",
          "evalue": "ignored",
          "traceback": [
            "\u001b[0;31m---------------------------------------------------------------------------\u001b[0m",
            "\u001b[0;31mNameError\u001b[0m                                 Traceback (most recent call last)",
            "\u001b[0;32m<ipython-input-92-f1505594febd>\u001b[0m in \u001b[0;36m<module>\u001b[0;34m()\u001b[0m\n\u001b[0;32m----> 1\u001b[0;31m \u001b[0mfood_w\u001b[0m\u001b[0;34m.\u001b[0m\u001b[0mcolums\u001b[0m\u001b[0;34m\u001b[0m\u001b[0;34m\u001b[0m\u001b[0m\n\u001b[0m",
            "\u001b[0;31mNameError\u001b[0m: name 'food_w' is not defined"
          ]
        }
      ]
    },
    {
      "cell_type": "code",
      "metadata": {
        "id": "ip1WAxZzjYKf",
        "colab": {
          "base_uri": "https://localhost:8080/",
          "height": 186
        },
        "outputId": "8775d7f3-2344-4c74-8364-dd59f37c5d8c"
      },
      "source": [
        "#동별 누적 배출량 소트\n",
        "pd.pivot_table(data = food_w, index = ['행정동'],values='배출량',aggfunc='sum').sort_values('배출량',ascending=False)[:5] "
      ],
      "execution_count": 32,
      "outputs": [
        {
          "output_type": "error",
          "ename": "NameError",
          "evalue": "ignored",
          "traceback": [
            "\u001b[0;31m---------------------------------------------------------------------------\u001b[0m",
            "\u001b[0;31mNameError\u001b[0m                                 Traceback (most recent call last)",
            "\u001b[0;32m<ipython-input-32-18ea0092b4a4>\u001b[0m in \u001b[0;36m<module>\u001b[0;34m()\u001b[0m\n\u001b[1;32m      1\u001b[0m \u001b[0;31m#동별 누적 배출량 소트\u001b[0m\u001b[0;34m\u001b[0m\u001b[0;34m\u001b[0m\u001b[0;34m\u001b[0m\u001b[0m\n\u001b[0;32m----> 2\u001b[0;31m \u001b[0mpd\u001b[0m\u001b[0;34m.\u001b[0m\u001b[0mpivot_table\u001b[0m\u001b[0;34m(\u001b[0m\u001b[0mdata\u001b[0m \u001b[0;34m=\u001b[0m \u001b[0mfood_w\u001b[0m\u001b[0;34m,\u001b[0m \u001b[0mindex\u001b[0m \u001b[0;34m=\u001b[0m \u001b[0;34m[\u001b[0m\u001b[0;34m'행정동'\u001b[0m\u001b[0;34m]\u001b[0m\u001b[0;34m,\u001b[0m\u001b[0mvalues\u001b[0m\u001b[0;34m=\u001b[0m\u001b[0;34m'배출량'\u001b[0m\u001b[0;34m,\u001b[0m\u001b[0maggfunc\u001b[0m\u001b[0;34m=\u001b[0m\u001b[0;34m'sum'\u001b[0m\u001b[0;34m)\u001b[0m\u001b[0;34m.\u001b[0m\u001b[0msort_values\u001b[0m\u001b[0;34m(\u001b[0m\u001b[0;34m'배출량'\u001b[0m\u001b[0;34m,\u001b[0m\u001b[0mascending\u001b[0m\u001b[0;34m=\u001b[0m\u001b[0;32mFalse\u001b[0m\u001b[0;34m)\u001b[0m\u001b[0;34m[\u001b[0m\u001b[0;34m:\u001b[0m\u001b[0;36m5\u001b[0m\u001b[0;34m]\u001b[0m\u001b[0;34m\u001b[0m\u001b[0;34m\u001b[0m\u001b[0m\n\u001b[0m",
            "\u001b[0;31mNameError\u001b[0m: name 'food_w' is not defined"
          ]
        }
      ]
    },
    {
      "cell_type": "markdown",
      "metadata": {
        "id": "eAQ0mgFAmez-"
      },
      "source": [
        "- 월별로 보기"
      ]
    },
    {
      "cell_type": "code",
      "metadata": {
        "id": "72rVkft3md5-",
        "colab": {
          "base_uri": "https://localhost:8080/",
          "height": 234
        },
        "outputId": "7ae9a362-36a3-49c0-ca1f-6378fdfb445d"
      },
      "source": [
        "pd.pivot_table(data = food, index = '월', values = '배출량', aggfunc='sum').sort_values('배출량',ascending=False)[:5]"
      ],
      "execution_count": 33,
      "outputs": [
        {
          "output_type": "execute_result",
          "data": {
            "text/html": [
              "<div>\n",
              "<style scoped>\n",
              "    .dataframe tbody tr th:only-of-type {\n",
              "        vertical-align: middle;\n",
              "    }\n",
              "\n",
              "    .dataframe tbody tr th {\n",
              "        vertical-align: top;\n",
              "    }\n",
              "\n",
              "    .dataframe thead th {\n",
              "        text-align: right;\n",
              "    }\n",
              "</style>\n",
              "<table border=\"1\" class=\"dataframe\">\n",
              "  <thead>\n",
              "    <tr style=\"text-align: right;\">\n",
              "      <th></th>\n",
              "      <th>배출량</th>\n",
              "    </tr>\n",
              "    <tr>\n",
              "      <th>월</th>\n",
              "      <th></th>\n",
              "    </tr>\n",
              "  </thead>\n",
              "  <tbody>\n",
              "    <tr>\n",
              "      <th>6</th>\n",
              "      <td>10320966374</td>\n",
              "    </tr>\n",
              "    <tr>\n",
              "      <th>5</th>\n",
              "      <td>10091062468</td>\n",
              "    </tr>\n",
              "    <tr>\n",
              "      <th>1</th>\n",
              "      <td>10082427518</td>\n",
              "    </tr>\n",
              "    <tr>\n",
              "      <th>3</th>\n",
              "      <td>9826534213</td>\n",
              "    </tr>\n",
              "    <tr>\n",
              "      <th>2</th>\n",
              "      <td>9345960752</td>\n",
              "    </tr>\n",
              "  </tbody>\n",
              "</table>\n",
              "</div>"
            ],
            "text/plain": [
              "           배출량\n",
              "월             \n",
              "6  10320966374\n",
              "5  10091062468\n",
              "1  10082427518\n",
              "3   9826534213\n",
              "2   9345960752"
            ]
          },
          "metadata": {},
          "execution_count": 33
        }
      ]
    },
    {
      "cell_type": "code",
      "metadata": {
        "id": "l1cMQflNmkjc",
        "colab": {
          "base_uri": "https://localhost:8080/",
          "height": 310
        },
        "outputId": "8212de7a-b9fe-415d-979d-7a535e1cc107"
      },
      "source": [
        "pd.pivot_table(data = food, index = '월', values = '배출량', aggfunc='sum').plot()"
      ],
      "execution_count": 34,
      "outputs": [
        {
          "output_type": "execute_result",
          "data": {
            "text/plain": [
              "<matplotlib.axes._subplots.AxesSubplot at 0x7fe27ebac910>"
            ]
          },
          "metadata": {},
          "execution_count": 34
        },
        {
          "output_type": "display_data",
          "data": {
            "image/png": "[encoded data removed]",
            "text/plain": [
              "<Figure size 432x288 with 1 Axes>"
            ]
          },
          "metadata": {
            "image/png": {
              "width": 376,
              "height": 275
            },
            "needs_background": "light"
          }
        }
      ]
    },
    {
      "cell_type": "markdown",
      "metadata": {
        "id": "mC44FwEtmrbe"
      },
      "source": [
        "#### 7) 총거주인구&내국인거주&외국인거주 탐색\n",
        "- **음식물쓰레기 4개년 총합으로 보았을때 5위 소팅 되는 행정동과 총거주인구와 내국인 거주인구 5위 소팅 되는 행정동과 일치한다.**\n",
        "- 제주도민 피셜: **노형동이 신도시, 연동에 제주도청이 있고 이도2동에 시청 법원** 이런거 있어서 각각 구제주/신제주에서 가장...시내쪽중 하나가 아닐까.\n",
        "- 원래는 중앙로쪽에 해서 대충 이도2동부터해서 1동이랑 아님 도남? 이쯤이 사람 되게 많았음 일도동도 좀 있었으려나...\n",
        "- 보통 구제주(이도동이랑 중앙로 그쪽)/신제(연동 노형이쪽동네)주로 나눠서 얘기하는느낌인데 구제주는 오래된 동네다 느낌이 좀더 나는곳도 많고 그런느낌?"
      ]
    },
    {
      "cell_type": "code",
      "metadata": {
        "id": "9iAZNQtYm3mu",
        "colab": {
          "base_uri": "https://localhost:8080/",
          "height": 234
        },
        "outputId": "2aa8499b-9952-4961-c62d-3c3e126408da"
      },
      "source": [
        "# 총거주인구\n",
        "pd.pivot_table(data = pop, index = ['emd_nm'],values='total_pop',aggfunc='mean').sort_values('total_pop',ascending=False)[:5]"
      ],
      "execution_count": 37,
      "outputs": [
        {
          "output_type": "execute_result",
          "data": {
            "text/html": [
              "<div>\n",
              "<style scoped>\n",
              "    .dataframe tbody tr th:only-of-type {\n",
              "        vertical-align: middle;\n",
              "    }\n",
              "\n",
              "    .dataframe tbody tr th {\n",
              "        vertical-align: top;\n",
              "    }\n",
              "\n",
              "    .dataframe thead th {\n",
              "        text-align: right;\n",
              "    }\n",
              "</style>\n",
              "<table border=\"1\" class=\"dataframe\">\n",
              "  <thead>\n",
              "    <tr style=\"text-align: right;\">\n",
              "      <th></th>\n",
              "      <th>total_pop</th>\n",
              "    </tr>\n",
              "    <tr>\n",
              "      <th>emd_nm</th>\n",
              "      <th></th>\n",
              "    </tr>\n",
              "  </thead>\n",
              "  <tbody>\n",
              "    <tr>\n",
              "      <th>노형동</th>\n",
              "      <td>28180.845238</td>\n",
              "    </tr>\n",
              "    <tr>\n",
              "      <th>이도2동</th>\n",
              "      <td>25258.190476</td>\n",
              "    </tr>\n",
              "    <tr>\n",
              "      <th>연동</th>\n",
              "      <td>21774.928571</td>\n",
              "    </tr>\n",
              "    <tr>\n",
              "      <th>애월읍</th>\n",
              "      <td>18521.845238</td>\n",
              "    </tr>\n",
              "    <tr>\n",
              "      <th>아라동</th>\n",
              "      <td>17859.880952</td>\n",
              "    </tr>\n",
              "  </tbody>\n",
              "</table>\n",
              "</div>"
            ],
            "text/plain": [
              "           total_pop\n",
              "emd_nm              \n",
              "노형동     28180.845238\n",
              "이도2동    25258.190476\n",
              "연동      21774.928571\n",
              "애월읍     18521.845238\n",
              "아라동     17859.880952"
            ]
          },
          "metadata": {},
          "execution_count": 37
        }
      ]
    },
    {
      "cell_type": "code",
      "metadata": {
        "id": "HVHO279UoKiw",
        "colab": {
          "base_uri": "https://localhost:8080/",
          "height": 234
        },
        "outputId": "a22bd735-e8e7-4ab6-f190-f4a61869d27a"
      },
      "source": [
        "# 내국인거주\n",
        "pd.pivot_table(data = pop, index = ['emd_nm'],values='resid_reg_pop',aggfunc='mean').sort_values('resid_reg_pop',ascending=False)[:5]"
      ],
      "execution_count": 40,
      "outputs": [
        {
          "output_type": "execute_result",
          "data": {
            "text/html": [
              "<div>\n",
              "<style scoped>\n",
              "    .dataframe tbody tr th:only-of-type {\n",
              "        vertical-align: middle;\n",
              "    }\n",
              "\n",
              "    .dataframe tbody tr th {\n",
              "        vertical-align: top;\n",
              "    }\n",
              "\n",
              "    .dataframe thead th {\n",
              "        text-align: right;\n",
              "    }\n",
              "</style>\n",
              "<table border=\"1\" class=\"dataframe\">\n",
              "  <thead>\n",
              "    <tr style=\"text-align: right;\">\n",
              "      <th></th>\n",
              "      <th>resid_reg_pop</th>\n",
              "    </tr>\n",
              "    <tr>\n",
              "      <th>emd_nm</th>\n",
              "      <th></th>\n",
              "    </tr>\n",
              "  </thead>\n",
              "  <tbody>\n",
              "    <tr>\n",
              "      <th>노형동</th>\n",
              "      <td>27087.523810</td>\n",
              "    </tr>\n",
              "    <tr>\n",
              "      <th>이도2동</th>\n",
              "      <td>24937.047619</td>\n",
              "    </tr>\n",
              "    <tr>\n",
              "      <th>연동</th>\n",
              "      <td>20792.500000</td>\n",
              "    </tr>\n",
              "    <tr>\n",
              "      <th>애월읍</th>\n",
              "      <td>17998.928571</td>\n",
              "    </tr>\n",
              "    <tr>\n",
              "      <th>아라동</th>\n",
              "      <td>17292.345238</td>\n",
              "    </tr>\n",
              "  </tbody>\n",
              "</table>\n",
              "</div>"
            ],
            "text/plain": [
              "        resid_reg_pop\n",
              "emd_nm               \n",
              "노형동      27087.523810\n",
              "이도2동     24937.047619\n",
              "연동       20792.500000\n",
              "애월읍      17998.928571\n",
              "아라동      17292.345238"
            ]
          },
          "metadata": {},
          "execution_count": 40
        }
      ]
    },
    {
      "cell_type": "code",
      "metadata": {
        "id": "hAlcS3GZoKlp",
        "colab": {
          "base_uri": "https://localhost:8080/",
          "height": 234
        },
        "outputId": "58f92550-3bc0-441c-fe95-9e9664b9313a"
      },
      "source": [
        "#외국인거주\n",
        "pd.pivot_table(data = pop, index = ['emd_nm'],values='foreign_pop',aggfunc='mean').sort_values('foreign_pop',ascending=False)[:5]"
      ],
      "execution_count": 41,
      "outputs": [
        {
          "output_type": "execute_result",
          "data": {
            "text/html": [
              "<div>\n",
              "<style scoped>\n",
              "    .dataframe tbody tr th:only-of-type {\n",
              "        vertical-align: middle;\n",
              "    }\n",
              "\n",
              "    .dataframe tbody tr th {\n",
              "        vertical-align: top;\n",
              "    }\n",
              "\n",
              "    .dataframe thead th {\n",
              "        text-align: right;\n",
              "    }\n",
              "</style>\n",
              "<table border=\"1\" class=\"dataframe\">\n",
              "  <thead>\n",
              "    <tr style=\"text-align: right;\">\n",
              "      <th></th>\n",
              "      <th>foreign_pop</th>\n",
              "    </tr>\n",
              "    <tr>\n",
              "      <th>emd_nm</th>\n",
              "      <th></th>\n",
              "    </tr>\n",
              "  </thead>\n",
              "  <tbody>\n",
              "    <tr>\n",
              "      <th>한림읍</th>\n",
              "      <td>1788.083333</td>\n",
              "    </tr>\n",
              "    <tr>\n",
              "      <th>노형동</th>\n",
              "      <td>1093.321429</td>\n",
              "    </tr>\n",
              "    <tr>\n",
              "      <th>연동</th>\n",
              "      <td>982.428571</td>\n",
              "    </tr>\n",
              "    <tr>\n",
              "      <th>성산읍</th>\n",
              "      <td>845.761905</td>\n",
              "    </tr>\n",
              "    <tr>\n",
              "      <th>대정읍</th>\n",
              "      <td>842.464286</td>\n",
              "    </tr>\n",
              "  </tbody>\n",
              "</table>\n",
              "</div>"
            ],
            "text/plain": [
              "        foreign_pop\n",
              "emd_nm             \n",
              "한림읍     1788.083333\n",
              "노형동     1093.321429\n",
              "연동       982.428571\n",
              "성산읍      845.761905\n",
              "대정읍      842.464286"
            ]
          },
          "metadata": {},
          "execution_count": 41
        }
      ]
    },
    {
      "cell_type": "markdown",
      "metadata": {
        "id": "xY-C28hGm2_V"
      },
      "source": [
        "- 상관관계결과\n",
        "  - 배출량과 배출금액은 상관관계 1이다\n",
        "  - 배출량과 배출건수와도 밀접한 상관관계\n",
        "  - 총인구와 내국인거주와도 밀접한 상관관계"
      ]
    },
    {
      "cell_type": "code",
      "metadata": {
        "id": "Nk1FTvvrpKQe",
        "colab": {
          "base_uri": "https://localhost:8080/",
          "height": 203
        },
        "outputId": "acfb23ad-a19f-4e4a-b0ec-9a34c55b5af4"
      },
      "source": [
        "# food 피벗\n",
        "fw_dong = pd.pivot_table(data = food, index = ['년도', '월', '행정동'],values='배출량',aggfunc='sum').reset_index()\n",
        "fw_dong.head()"
      ],
      "execution_count": 45,
      "outputs": [
        {
          "output_type": "execute_result",
          "data": {
            "text/html": [
              "<div>\n",
              "<style scoped>\n",
              "    .dataframe tbody tr th:only-of-type {\n",
              "        vertical-align: middle;\n",
              "    }\n",
              "\n",
              "    .dataframe tbody tr th {\n",
              "        vertical-align: top;\n",
              "    }\n",
              "\n",
              "    .dataframe thead th {\n",
              "        text-align: right;\n",
              "    }\n",
              "</style>\n",
              "<table border=\"1\" class=\"dataframe\">\n",
              "  <thead>\n",
              "    <tr style=\"text-align: right;\">\n",
              "      <th></th>\n",
              "      <th>년도</th>\n",
              "      <th>월</th>\n",
              "      <th>행정동</th>\n",
              "      <th>배출량</th>\n",
              "    </tr>\n",
              "  </thead>\n",
              "  <tbody>\n",
              "    <tr>\n",
              "      <th>0</th>\n",
              "      <td>2018</td>\n",
              "      <td>1</td>\n",
              "      <td>건입동</td>\n",
              "      <td>45646550</td>\n",
              "    </tr>\n",
              "    <tr>\n",
              "      <th>1</th>\n",
              "      <td>2018</td>\n",
              "      <td>1</td>\n",
              "      <td>남원읍</td>\n",
              "      <td>42437700</td>\n",
              "    </tr>\n",
              "    <tr>\n",
              "      <th>2</th>\n",
              "      <td>2018</td>\n",
              "      <td>1</td>\n",
              "      <td>노형동</td>\n",
              "      <td>265018400</td>\n",
              "    </tr>\n",
              "    <tr>\n",
              "      <th>3</th>\n",
              "      <td>2018</td>\n",
              "      <td>1</td>\n",
              "      <td>대륜동</td>\n",
              "      <td>57612600</td>\n",
              "    </tr>\n",
              "    <tr>\n",
              "      <th>4</th>\n",
              "      <td>2018</td>\n",
              "      <td>1</td>\n",
              "      <td>대정읍</td>\n",
              "      <td>38885550</td>\n",
              "    </tr>\n",
              "  </tbody>\n",
              "</table>\n",
              "</div>"
            ],
            "text/plain": [
              "     년도  월  행정동        배출량\n",
              "0  2018  1  건입동   45646550\n",
              "1  2018  1  남원읍   42437700\n",
              "2  2018  1  노형동  265018400\n",
              "3  2018  1  대륜동   57612600\n",
              "4  2018  1  대정읍   38885550"
            ]
          },
          "metadata": {},
          "execution_count": 45
        }
      ]
    },
    {
      "cell_type": "code",
      "metadata": {
        "id": "tsZ5_FAppKTR",
        "colab": {
          "base_uri": "https://localhost:8080/",
          "height": 203
        },
        "outputId": "9b2a8f94-512e-47f6-a9d7-4629881bb974"
      },
      "source": [
        "fm_dong = pd.pivot_table(data = food, index = ['년도', '월', '행정동'],values='배출금액',aggfunc='sum').reset_index()\n",
        "fm_dong.head()"
      ],
      "execution_count": 46,
      "outputs": [
        {
          "output_type": "execute_result",
          "data": {
            "text/html": [
              "<div>\n",
              "<style scoped>\n",
              "    .dataframe tbody tr th:only-of-type {\n",
              "        vertical-align: middle;\n",
              "    }\n",
              "\n",
              "    .dataframe tbody tr th {\n",
              "        vertical-align: top;\n",
              "    }\n",
              "\n",
              "    .dataframe thead th {\n",
              "        text-align: right;\n",
              "    }\n",
              "</style>\n",
              "<table border=\"1\" class=\"dataframe\">\n",
              "  <thead>\n",
              "    <tr style=\"text-align: right;\">\n",
              "      <th></th>\n",
              "      <th>년도</th>\n",
              "      <th>월</th>\n",
              "      <th>행정동</th>\n",
              "      <th>배출금액</th>\n",
              "    </tr>\n",
              "  </thead>\n",
              "  <tbody>\n",
              "    <tr>\n",
              "      <th>0</th>\n",
              "      <td>2018</td>\n",
              "      <td>1</td>\n",
              "      <td>건입동</td>\n",
              "      <td>1364804</td>\n",
              "    </tr>\n",
              "    <tr>\n",
              "      <th>1</th>\n",
              "      <td>2018</td>\n",
              "      <td>1</td>\n",
              "      <td>남원읍</td>\n",
              "      <td>1270773</td>\n",
              "    </tr>\n",
              "    <tr>\n",
              "      <th>2</th>\n",
              "      <td>2018</td>\n",
              "      <td>1</td>\n",
              "      <td>노형동</td>\n",
              "      <td>7883340</td>\n",
              "    </tr>\n",
              "    <tr>\n",
              "      <th>3</th>\n",
              "      <td>2018</td>\n",
              "      <td>1</td>\n",
              "      <td>대륜동</td>\n",
              "      <td>1676850</td>\n",
              "    </tr>\n",
              "    <tr>\n",
              "      <th>4</th>\n",
              "      <td>2018</td>\n",
              "      <td>1</td>\n",
              "      <td>대정읍</td>\n",
              "      <td>1164122</td>\n",
              "    </tr>\n",
              "  </tbody>\n",
              "</table>\n",
              "</div>"
            ],
            "text/plain": [
              "     년도  월  행정동     배출금액\n",
              "0  2018  1  건입동  1364804\n",
              "1  2018  1  남원읍  1270773\n",
              "2  2018  1  노형동  7883340\n",
              "3  2018  1  대륜동  1676850\n",
              "4  2018  1  대정읍  1164122"
            ]
          },
          "metadata": {},
          "execution_count": 46
        }
      ]
    },
    {
      "cell_type": "code",
      "metadata": {
        "id": "y48tCWQApKW3",
        "colab": {
          "base_uri": "https://localhost:8080/",
          "height": 203
        },
        "outputId": "c186a99e-560d-49b2-ed52-eb4a7118a94f"
      },
      "source": [
        "fg_dong = pd.pivot_table(data = food, index = ['년도', '월', '행정동'],values='배출건수',aggfunc='sum').reset_index()\n",
        "fg_dong.head()"
      ],
      "execution_count": 47,
      "outputs": [
        {
          "output_type": "execute_result",
          "data": {
            "text/html": [
              "<div>\n",
              "<style scoped>\n",
              "    .dataframe tbody tr th:only-of-type {\n",
              "        vertical-align: middle;\n",
              "    }\n",
              "\n",
              "    .dataframe tbody tr th {\n",
              "        vertical-align: top;\n",
              "    }\n",
              "\n",
              "    .dataframe thead th {\n",
              "        text-align: right;\n",
              "    }\n",
              "</style>\n",
              "<table border=\"1\" class=\"dataframe\">\n",
              "  <thead>\n",
              "    <tr style=\"text-align: right;\">\n",
              "      <th></th>\n",
              "      <th>년도</th>\n",
              "      <th>월</th>\n",
              "      <th>행정동</th>\n",
              "      <th>배출건수</th>\n",
              "    </tr>\n",
              "  </thead>\n",
              "  <tbody>\n",
              "    <tr>\n",
              "      <th>0</th>\n",
              "      <td>2018</td>\n",
              "      <td>1</td>\n",
              "      <td>건입동</td>\n",
              "      <td>18416</td>\n",
              "    </tr>\n",
              "    <tr>\n",
              "      <th>1</th>\n",
              "      <td>2018</td>\n",
              "      <td>1</td>\n",
              "      <td>남원읍</td>\n",
              "      <td>9570</td>\n",
              "    </tr>\n",
              "    <tr>\n",
              "      <th>2</th>\n",
              "      <td>2018</td>\n",
              "      <td>1</td>\n",
              "      <td>노형동</td>\n",
              "      <td>113990</td>\n",
              "    </tr>\n",
              "    <tr>\n",
              "      <th>3</th>\n",
              "      <td>2018</td>\n",
              "      <td>1</td>\n",
              "      <td>대륜동</td>\n",
              "      <td>21666</td>\n",
              "    </tr>\n",
              "    <tr>\n",
              "      <th>4</th>\n",
              "      <td>2018</td>\n",
              "      <td>1</td>\n",
              "      <td>대정읍</td>\n",
              "      <td>10185</td>\n",
              "    </tr>\n",
              "  </tbody>\n",
              "</table>\n",
              "</div>"
            ],
            "text/plain": [
              "     년도  월  행정동    배출건수\n",
              "0  2018  1  건입동   18416\n",
              "1  2018  1  남원읍    9570\n",
              "2  2018  1  노형동  113990\n",
              "3  2018  1  대륜동   21666\n",
              "4  2018  1  대정읍   10185"
            ]
          },
          "metadata": {},
          "execution_count": 47
        }
      ]
    },
    {
      "cell_type": "code",
      "metadata": {
        "id": "WrMhsMgIpRvI",
        "colab": {
          "base_uri": "https://localhost:8080/",
          "height": 203
        },
        "outputId": "cd1d4cde-fabb-4f7e-ff21-82b274e4eddd"
      },
      "source": [
        "food_w2 = pd.pivot_table(data = food, index = ['년도', '월', '행정동'],values=['배출량','배출금액','배출건수'],aggfunc='sum').reset_index()\n",
        "food_w2.head()"
      ],
      "execution_count": 48,
      "outputs": [
        {
          "output_type": "execute_result",
          "data": {
            "text/html": [
              "<div>\n",
              "<style scoped>\n",
              "    .dataframe tbody tr th:only-of-type {\n",
              "        vertical-align: middle;\n",
              "    }\n",
              "\n",
              "    .dataframe tbody tr th {\n",
              "        vertical-align: top;\n",
              "    }\n",
              "\n",
              "    .dataframe thead th {\n",
              "        text-align: right;\n",
              "    }\n",
              "</style>\n",
              "<table border=\"1\" class=\"dataframe\">\n",
              "  <thead>\n",
              "    <tr style=\"text-align: right;\">\n",
              "      <th></th>\n",
              "      <th>년도</th>\n",
              "      <th>월</th>\n",
              "      <th>행정동</th>\n",
              "      <th>배출건수</th>\n",
              "      <th>배출금액</th>\n",
              "      <th>배출량</th>\n",
              "    </tr>\n",
              "  </thead>\n",
              "  <tbody>\n",
              "    <tr>\n",
              "      <th>0</th>\n",
              "      <td>2018</td>\n",
              "      <td>1</td>\n",
              "      <td>건입동</td>\n",
              "      <td>18416</td>\n",
              "      <td>1364804</td>\n",
              "      <td>45646550</td>\n",
              "    </tr>\n",
              "    <tr>\n",
              "      <th>1</th>\n",
              "      <td>2018</td>\n",
              "      <td>1</td>\n",
              "      <td>남원읍</td>\n",
              "      <td>9570</td>\n",
              "      <td>1270773</td>\n",
              "      <td>42437700</td>\n",
              "    </tr>\n",
              "    <tr>\n",
              "      <th>2</th>\n",
              "      <td>2018</td>\n",
              "      <td>1</td>\n",
              "      <td>노형동</td>\n",
              "      <td>113990</td>\n",
              "      <td>7883340</td>\n",
              "      <td>265018400</td>\n",
              "    </tr>\n",
              "    <tr>\n",
              "      <th>3</th>\n",
              "      <td>2018</td>\n",
              "      <td>1</td>\n",
              "      <td>대륜동</td>\n",
              "      <td>21666</td>\n",
              "      <td>1676850</td>\n",
              "      <td>57612600</td>\n",
              "    </tr>\n",
              "    <tr>\n",
              "      <th>4</th>\n",
              "      <td>2018</td>\n",
              "      <td>1</td>\n",
              "      <td>대정읍</td>\n",
              "      <td>10185</td>\n",
              "      <td>1164122</td>\n",
              "      <td>38885550</td>\n",
              "    </tr>\n",
              "  </tbody>\n",
              "</table>\n",
              "</div>"
            ],
            "text/plain": [
              "     년도  월  행정동    배출건수     배출금액        배출량\n",
              "0  2018  1  건입동   18416  1364804   45646550\n",
              "1  2018  1  남원읍    9570  1270773   42437700\n",
              "2  2018  1  노형동  113990  7883340  265018400\n",
              "3  2018  1  대륜동   21666  1676850   57612600\n",
              "4  2018  1  대정읍   10185  1164122   38885550"
            ]
          },
          "metadata": {},
          "execution_count": 48
        }
      ]
    },
    {
      "cell_type": "code",
      "metadata": {
        "colab": {
          "base_uri": "https://localhost:8080/"
        },
        "id": "I3hDeP-TfmFR",
        "outputId": "3021447d-85c8-491c-f504-14ace3ed751e"
      },
      "source": [
        "pop.columns"
      ],
      "execution_count": 50,
      "outputs": [
        {
          "output_type": "execute_result",
          "data": {
            "text/plain": [
              "Index(['base_year', 'base_month', 'city', 'emd_cd', 'emd_nm', 'sex',\n",
              "       'resid_reg_pop', 'foreign_pop', 'total_pop'],\n",
              "      dtype='object')"
            ]
          },
          "metadata": {},
          "execution_count": 50
        }
      ]
    },
    {
      "cell_type": "code",
      "metadata": {
        "id": "pFL2DFP1pYKe",
        "colab": {
          "base_uri": "https://localhost:8080/",
          "height": 203
        },
        "outputId": "17557bd0-60f1-47bc-d085-85d337237411"
      },
      "source": [
        "# pop 피벗\n",
        "r_pop2 = pd.pivot_table(data=pop,index=['base_year', 'base_month', 'emd_nm'],values=['resid_reg_pop','foreign_pop','total_pop'],aggfunc=sum).reset_index()\n",
        "r_pop2.head()"
      ],
      "execution_count": 51,
      "outputs": [
        {
          "output_type": "execute_result",
          "data": {
            "text/html": [
              "<div>\n",
              "<style scoped>\n",
              "    .dataframe tbody tr th:only-of-type {\n",
              "        vertical-align: middle;\n",
              "    }\n",
              "\n",
              "    .dataframe tbody tr th {\n",
              "        vertical-align: top;\n",
              "    }\n",
              "\n",
              "    .dataframe thead th {\n",
              "        text-align: right;\n",
              "    }\n",
              "</style>\n",
              "<table border=\"1\" class=\"dataframe\">\n",
              "  <thead>\n",
              "    <tr style=\"text-align: right;\">\n",
              "      <th></th>\n",
              "      <th>base_year</th>\n",
              "      <th>base_month</th>\n",
              "      <th>emd_nm</th>\n",
              "      <th>foreign_pop</th>\n",
              "      <th>resid_reg_pop</th>\n",
              "      <th>total_pop</th>\n",
              "    </tr>\n",
              "  </thead>\n",
              "  <tbody>\n",
              "    <tr>\n",
              "      <th>0</th>\n",
              "      <td>2018</td>\n",
              "      <td>1</td>\n",
              "      <td>건입동</td>\n",
              "      <td>228</td>\n",
              "      <td>9800</td>\n",
              "      <td>10028</td>\n",
              "    </tr>\n",
              "    <tr>\n",
              "      <th>1</th>\n",
              "      <td>2018</td>\n",
              "      <td>1</td>\n",
              "      <td>구좌읍</td>\n",
              "      <td>552</td>\n",
              "      <td>15574</td>\n",
              "      <td>16126</td>\n",
              "    </tr>\n",
              "    <tr>\n",
              "      <th>2</th>\n",
              "      <td>2018</td>\n",
              "      <td>1</td>\n",
              "      <td>남원읍</td>\n",
              "      <td>628</td>\n",
              "      <td>19112</td>\n",
              "      <td>19740</td>\n",
              "    </tr>\n",
              "    <tr>\n",
              "      <th>3</th>\n",
              "      <td>2018</td>\n",
              "      <td>1</td>\n",
              "      <td>노형동</td>\n",
              "      <td>1589</td>\n",
              "      <td>53369</td>\n",
              "      <td>54958</td>\n",
              "    </tr>\n",
              "    <tr>\n",
              "      <th>4</th>\n",
              "      <td>2018</td>\n",
              "      <td>1</td>\n",
              "      <td>대륜동</td>\n",
              "      <td>178</td>\n",
              "      <td>13473</td>\n",
              "      <td>13651</td>\n",
              "    </tr>\n",
              "  </tbody>\n",
              "</table>\n",
              "</div>"
            ],
            "text/plain": [
              "   base_year  base_month emd_nm  foreign_pop  resid_reg_pop  total_pop\n",
              "0       2018           1    건입동          228           9800      10028\n",
              "1       2018           1    구좌읍          552          15574      16126\n",
              "2       2018           1    남원읍          628          19112      19740\n",
              "3       2018           1    노형동         1589          53369      54958\n",
              "4       2018           1    대륜동          178          13473      13651"
            ]
          },
          "metadata": {},
          "execution_count": 51
        }
      ]
    },
    {
      "cell_type": "code",
      "metadata": {
        "id": "tvrMJyiYopST",
        "colab": {
          "base_uri": "https://localhost:8080/",
          "height": 351
        },
        "outputId": "ed7136fa-a5ea-4258-8e44-0cf794d22855"
      },
      "source": [
        "# 행정동 기준으로 합치기\n",
        "merge_pop = pd.merge(r_pop2,food_w2)\n",
        "merge_pop.head(10)"
      ],
      "execution_count": 52,
      "outputs": [
        {
          "output_type": "error",
          "ename": "MergeError",
          "evalue": "ignored",
          "traceback": [
            "\u001b[0;31m---------------------------------------------------------------------------\u001b[0m",
            "\u001b[0;31mMergeError\u001b[0m                                Traceback (most recent call last)",
            "\u001b[0;32m<ipython-input-52-5b662e52263d>\u001b[0m in \u001b[0;36m<module>\u001b[0;34m()\u001b[0m\n\u001b[1;32m      1\u001b[0m \u001b[0;31m# 행정동 기준으로 합치기\u001b[0m\u001b[0;34m\u001b[0m\u001b[0;34m\u001b[0m\u001b[0;34m\u001b[0m\u001b[0m\n\u001b[0;32m----> 2\u001b[0;31m \u001b[0mmerge_pop\u001b[0m \u001b[0;34m=\u001b[0m \u001b[0mpd\u001b[0m\u001b[0;34m.\u001b[0m\u001b[0mmerge\u001b[0m\u001b[0;34m(\u001b[0m\u001b[0mr_pop2\u001b[0m\u001b[0;34m,\u001b[0m\u001b[0mfood_w2\u001b[0m\u001b[0;34m)\u001b[0m\u001b[0;34m\u001b[0m\u001b[0;34m\u001b[0m\u001b[0m\n\u001b[0m\u001b[1;32m      3\u001b[0m \u001b[0mmerge_pop\u001b[0m\u001b[0;34m.\u001b[0m\u001b[0mhead\u001b[0m\u001b[0;34m(\u001b[0m\u001b[0;36m10\u001b[0m\u001b[0;34m)\u001b[0m\u001b[0;34m\u001b[0m\u001b[0;34m\u001b[0m\u001b[0m\n",
            "\u001b[0;32m/usr/local/lib/python3.7/dist-packages/pandas/core/reshape/merge.py\u001b[0m in \u001b[0;36mmerge\u001b[0;34m(left, right, how, on, left_on, right_on, left_index, right_index, sort, suffixes, copy, indicator, validate)\u001b[0m\n\u001b[1;32m     85\u001b[0m         \u001b[0mcopy\u001b[0m\u001b[0;34m=\u001b[0m\u001b[0mcopy\u001b[0m\u001b[0;34m,\u001b[0m\u001b[0;34m\u001b[0m\u001b[0;34m\u001b[0m\u001b[0m\n\u001b[1;32m     86\u001b[0m         \u001b[0mindicator\u001b[0m\u001b[0;34m=\u001b[0m\u001b[0mindicator\u001b[0m\u001b[0;34m,\u001b[0m\u001b[0;34m\u001b[0m\u001b[0;34m\u001b[0m\u001b[0m\n\u001b[0;32m---> 87\u001b[0;31m         \u001b[0mvalidate\u001b[0m\u001b[0;34m=\u001b[0m\u001b[0mvalidate\u001b[0m\u001b[0;34m,\u001b[0m\u001b[0;34m\u001b[0m\u001b[0;34m\u001b[0m\u001b[0m\n\u001b[0m\u001b[1;32m     88\u001b[0m     )\n\u001b[1;32m     89\u001b[0m     \u001b[0;32mreturn\u001b[0m \u001b[0mop\u001b[0m\u001b[0;34m.\u001b[0m\u001b[0mget_result\u001b[0m\u001b[0;34m(\u001b[0m\u001b[0;34m)\u001b[0m\u001b[0;34m\u001b[0m\u001b[0;34m\u001b[0m\u001b[0m\n",
            "\u001b[0;32m/usr/local/lib/python3.7/dist-packages/pandas/core/reshape/merge.py\u001b[0m in \u001b[0;36m__init__\u001b[0;34m(self, left, right, how, on, left_on, right_on, axis, left_index, right_index, sort, suffixes, copy, indicator, validate)\u001b[0m\n\u001b[1;32m    643\u001b[0m             \u001b[0mwarnings\u001b[0m\u001b[0;34m.\u001b[0m\u001b[0mwarn\u001b[0m\u001b[0;34m(\u001b[0m\u001b[0mmsg\u001b[0m\u001b[0;34m,\u001b[0m \u001b[0mUserWarning\u001b[0m\u001b[0;34m)\u001b[0m\u001b[0;34m\u001b[0m\u001b[0;34m\u001b[0m\u001b[0m\n\u001b[1;32m    644\u001b[0m \u001b[0;34m\u001b[0m\u001b[0m\n\u001b[0;32m--> 645\u001b[0;31m         \u001b[0mself\u001b[0m\u001b[0;34m.\u001b[0m\u001b[0m_validate_specification\u001b[0m\u001b[0;34m(\u001b[0m\u001b[0;34m)\u001b[0m\u001b[0;34m\u001b[0m\u001b[0;34m\u001b[0m\u001b[0m\n\u001b[0m\u001b[1;32m    646\u001b[0m \u001b[0;34m\u001b[0m\u001b[0m\n\u001b[1;32m    647\u001b[0m         \u001b[0;31m# note this function has side effects\u001b[0m\u001b[0;34m\u001b[0m\u001b[0;34m\u001b[0m\u001b[0;34m\u001b[0m\u001b[0m\n",
            "\u001b[0;32m/usr/local/lib/python3.7/dist-packages/pandas/core/reshape/merge.py\u001b[0m in \u001b[0;36m_validate_specification\u001b[0;34m(self)\u001b[0m\n\u001b[1;32m   1215\u001b[0m                 \u001b[0;32mif\u001b[0m \u001b[0mlen\u001b[0m\u001b[0;34m(\u001b[0m\u001b[0mcommon_cols\u001b[0m\u001b[0;34m)\u001b[0m \u001b[0;34m==\u001b[0m \u001b[0;36m0\u001b[0m\u001b[0;34m:\u001b[0m\u001b[0;34m\u001b[0m\u001b[0;34m\u001b[0m\u001b[0m\n\u001b[1;32m   1216\u001b[0m                     raise MergeError(\n\u001b[0;32m-> 1217\u001b[0;31m                         \u001b[0;34m\"No common columns to perform merge on. \"\u001b[0m\u001b[0;34m\u001b[0m\u001b[0;34m\u001b[0m\u001b[0m\n\u001b[0m\u001b[1;32m   1218\u001b[0m                         \u001b[0;34mf\"Merge options: left_on={self.left_on}, \"\u001b[0m\u001b[0;34m\u001b[0m\u001b[0;34m\u001b[0m\u001b[0m\n\u001b[1;32m   1219\u001b[0m                         \u001b[0;34mf\"right_on={self.right_on}, \"\u001b[0m\u001b[0;34m\u001b[0m\u001b[0;34m\u001b[0m\u001b[0m\n",
            "\u001b[0;31mMergeError\u001b[0m: No common columns to perform merge on. Merge options: left_on=None, right_on=None, left_index=False, right_index=False"
          ]
        }
      ]
    },
    {
      "cell_type": "code",
      "metadata": {
        "id": "Dbq1IpIUopVB"
      },
      "source": [
        "merge_pop.columns = ['년도','월','행정동','내국인거주','외국인인구','총거주인구','배출건수','배출금액','배출량']\n",
        "\n",
        "corr_df = merge_pop.corr(method='pearson')\n",
        "\n",
        "plt.figure(figsize=(8, 6))\n",
        "sns.heatmap(corr_df, annot=True)\n",
        "plt.show()"
      ],
      "execution_count": null,
      "outputs": []
    },
    {
      "cell_type": "markdown",
      "metadata": {
        "id": "zLkVOwipmrdw"
      },
      "source": [
        "#### 8) 음식관련 카드소비 데이터 탐색: 데이터 탐색수 상관관계"
      ]
    },
    {
      "cell_type": "code",
      "metadata": {
        "id": "mQT8dxeoprST",
        "colab": {
          "base_uri": "https://localhost:8080/",
          "height": 351
        },
        "outputId": "7c0443eb-43e7-4272-db48-3e8871a9e91c"
      },
      "source": [
        "card.columns = ['행정동','업종명','결제건수','결제금액','년','월','일']"
      ],
      "execution_count": 53,
      "outputs": [
        {
          "output_type": "error",
          "ename": "ValueError",
          "evalue": "ignored",
          "traceback": [
            "\u001b[0;31m---------------------------------------------------------------------------\u001b[0m",
            "\u001b[0;31mValueError\u001b[0m                                Traceback (most recent call last)",
            "\u001b[0;32m<ipython-input-53-64f8dd9f1427>\u001b[0m in \u001b[0;36m<module>\u001b[0;34m()\u001b[0m\n\u001b[0;32m----> 1\u001b[0;31m \u001b[0mcard\u001b[0m\u001b[0;34m.\u001b[0m\u001b[0mcolumns\u001b[0m \u001b[0;34m=\u001b[0m \u001b[0;34m[\u001b[0m\u001b[0;34m'행정동'\u001b[0m\u001b[0;34m,\u001b[0m\u001b[0;34m'업종명'\u001b[0m\u001b[0;34m,\u001b[0m\u001b[0;34m'결제건수'\u001b[0m\u001b[0;34m,\u001b[0m\u001b[0;34m'결제금액'\u001b[0m\u001b[0;34m,\u001b[0m\u001b[0;34m'년'\u001b[0m\u001b[0;34m,\u001b[0m\u001b[0;34m'월'\u001b[0m\u001b[0;34m,\u001b[0m\u001b[0;34m'일'\u001b[0m\u001b[0;34m]\u001b[0m\u001b[0;34m\u001b[0m\u001b[0;34m\u001b[0m\u001b[0m\n\u001b[0m",
            "\u001b[0;32m/usr/local/lib/python3.7/dist-packages/pandas/core/generic.py\u001b[0m in \u001b[0;36m__setattr__\u001b[0;34m(self, name, value)\u001b[0m\n\u001b[1;32m   5152\u001b[0m         \u001b[0;32mtry\u001b[0m\u001b[0;34m:\u001b[0m\u001b[0;34m\u001b[0m\u001b[0;34m\u001b[0m\u001b[0m\n\u001b[1;32m   5153\u001b[0m             \u001b[0mobject\u001b[0m\u001b[0;34m.\u001b[0m\u001b[0m__getattribute__\u001b[0m\u001b[0;34m(\u001b[0m\u001b[0mself\u001b[0m\u001b[0;34m,\u001b[0m \u001b[0mname\u001b[0m\u001b[0;34m)\u001b[0m\u001b[0;34m\u001b[0m\u001b[0;34m\u001b[0m\u001b[0m\n\u001b[0;32m-> 5154\u001b[0;31m             \u001b[0;32mreturn\u001b[0m \u001b[0mobject\u001b[0m\u001b[0;34m.\u001b[0m\u001b[0m__setattr__\u001b[0m\u001b[0;34m(\u001b[0m\u001b[0mself\u001b[0m\u001b[0;34m,\u001b[0m \u001b[0mname\u001b[0m\u001b[0;34m,\u001b[0m \u001b[0mvalue\u001b[0m\u001b[0;34m)\u001b[0m\u001b[0;34m\u001b[0m\u001b[0;34m\u001b[0m\u001b[0m\n\u001b[0m\u001b[1;32m   5155\u001b[0m         \u001b[0;32mexcept\u001b[0m \u001b[0mAttributeError\u001b[0m\u001b[0;34m:\u001b[0m\u001b[0;34m\u001b[0m\u001b[0;34m\u001b[0m\u001b[0m\n\u001b[1;32m   5156\u001b[0m             \u001b[0;32mpass\u001b[0m\u001b[0;34m\u001b[0m\u001b[0;34m\u001b[0m\u001b[0m\n",
            "\u001b[0;32mpandas/_libs/properties.pyx\u001b[0m in \u001b[0;36mpandas._libs.properties.AxisProperty.__set__\u001b[0;34m()\u001b[0m\n",
            "\u001b[0;32m/usr/local/lib/python3.7/dist-packages/pandas/core/generic.py\u001b[0m in \u001b[0;36m_set_axis\u001b[0;34m(self, axis, labels)\u001b[0m\n\u001b[1;32m    562\u001b[0m     \u001b[0;32mdef\u001b[0m \u001b[0m_set_axis\u001b[0m\u001b[0;34m(\u001b[0m\u001b[0mself\u001b[0m\u001b[0;34m,\u001b[0m \u001b[0maxis\u001b[0m\u001b[0;34m:\u001b[0m \u001b[0mint\u001b[0m\u001b[0;34m,\u001b[0m \u001b[0mlabels\u001b[0m\u001b[0;34m:\u001b[0m \u001b[0mIndex\u001b[0m\u001b[0;34m)\u001b[0m \u001b[0;34m->\u001b[0m \u001b[0;32mNone\u001b[0m\u001b[0;34m:\u001b[0m\u001b[0;34m\u001b[0m\u001b[0;34m\u001b[0m\u001b[0m\n\u001b[1;32m    563\u001b[0m         \u001b[0mlabels\u001b[0m \u001b[0;34m=\u001b[0m \u001b[0mensure_index\u001b[0m\u001b[0;34m(\u001b[0m\u001b[0mlabels\u001b[0m\u001b[0;34m)\u001b[0m\u001b[0;34m\u001b[0m\u001b[0;34m\u001b[0m\u001b[0m\n\u001b[0;32m--> 564\u001b[0;31m         \u001b[0mself\u001b[0m\u001b[0;34m.\u001b[0m\u001b[0m_mgr\u001b[0m\u001b[0;34m.\u001b[0m\u001b[0mset_axis\u001b[0m\u001b[0;34m(\u001b[0m\u001b[0maxis\u001b[0m\u001b[0;34m,\u001b[0m \u001b[0mlabels\u001b[0m\u001b[0;34m)\u001b[0m\u001b[0;34m\u001b[0m\u001b[0;34m\u001b[0m\u001b[0m\n\u001b[0m\u001b[1;32m    565\u001b[0m         \u001b[0mself\u001b[0m\u001b[0;34m.\u001b[0m\u001b[0m_clear_item_cache\u001b[0m\u001b[0;34m(\u001b[0m\u001b[0;34m)\u001b[0m\u001b[0;34m\u001b[0m\u001b[0;34m\u001b[0m\u001b[0m\n\u001b[1;32m    566\u001b[0m \u001b[0;34m\u001b[0m\u001b[0m\n",
            "\u001b[0;32m/usr/local/lib/python3.7/dist-packages/pandas/core/internals/managers.py\u001b[0m in \u001b[0;36mset_axis\u001b[0;34m(self, axis, new_labels)\u001b[0m\n\u001b[1;32m    225\u001b[0m         \u001b[0;32mif\u001b[0m \u001b[0mnew_len\u001b[0m \u001b[0;34m!=\u001b[0m \u001b[0mold_len\u001b[0m\u001b[0;34m:\u001b[0m\u001b[0;34m\u001b[0m\u001b[0;34m\u001b[0m\u001b[0m\n\u001b[1;32m    226\u001b[0m             raise ValueError(\n\u001b[0;32m--> 227\u001b[0;31m                 \u001b[0;34mf\"Length mismatch: Expected axis has {old_len} elements, new \"\u001b[0m\u001b[0;34m\u001b[0m\u001b[0;34m\u001b[0m\u001b[0m\n\u001b[0m\u001b[1;32m    228\u001b[0m                 \u001b[0;34mf\"values have {new_len} elements\"\u001b[0m\u001b[0;34m\u001b[0m\u001b[0;34m\u001b[0m\u001b[0m\n\u001b[1;32m    229\u001b[0m             )\n",
            "\u001b[0;31mValueError\u001b[0m: Length mismatch: Expected axis has 11 elements, new values have 7 elements"
          ]
        }
      ]
    },
    {
      "cell_type": "code",
      "metadata": {
        "id": "kpDU-SK0prXs",
        "colab": {
          "base_uri": "https://localhost:8080/",
          "height": 310
        },
        "outputId": "8b2b03de-d09a-40b6-e6d5-e4f9fff6d1e2"
      },
      "source": [
        "card_s1 = pd.pivot_table(data=card,index=['년', '월', '행정동','업종명'],values=['결제건수','결제금액'],aggfunc=sum).reset_index()\n",
        "card_s1.head()"
      ],
      "execution_count": 54,
      "outputs": [
        {
          "output_type": "error",
          "ename": "KeyError",
          "evalue": "ignored",
          "traceback": [
            "\u001b[0;31m---------------------------------------------------------------------------\u001b[0m",
            "\u001b[0;31mKeyError\u001b[0m                                  Traceback (most recent call last)",
            "\u001b[0;32m<ipython-input-54-392fff15cf2c>\u001b[0m in \u001b[0;36m<module>\u001b[0;34m()\u001b[0m\n\u001b[0;32m----> 1\u001b[0;31m \u001b[0mcard_s1\u001b[0m \u001b[0;34m=\u001b[0m \u001b[0mpd\u001b[0m\u001b[0;34m.\u001b[0m\u001b[0mpivot_table\u001b[0m\u001b[0;34m(\u001b[0m\u001b[0mdata\u001b[0m\u001b[0;34m=\u001b[0m\u001b[0mcard\u001b[0m\u001b[0;34m,\u001b[0m\u001b[0mindex\u001b[0m\u001b[0;34m=\u001b[0m\u001b[0;34m[\u001b[0m\u001b[0;34m'년'\u001b[0m\u001b[0;34m,\u001b[0m \u001b[0;34m'월'\u001b[0m\u001b[0;34m,\u001b[0m \u001b[0;34m'행정동'\u001b[0m\u001b[0;34m,\u001b[0m\u001b[0;34m'업종명'\u001b[0m\u001b[0;34m]\u001b[0m\u001b[0;34m,\u001b[0m\u001b[0mvalues\u001b[0m\u001b[0;34m=\u001b[0m\u001b[0;34m[\u001b[0m\u001b[0;34m'결제건수'\u001b[0m\u001b[0;34m,\u001b[0m\u001b[0;34m'결제금액'\u001b[0m\u001b[0;34m]\u001b[0m\u001b[0;34m,\u001b[0m\u001b[0maggfunc\u001b[0m\u001b[0;34m=\u001b[0m\u001b[0msum\u001b[0m\u001b[0;34m)\u001b[0m\u001b[0;34m.\u001b[0m\u001b[0mreset_index\u001b[0m\u001b[0;34m(\u001b[0m\u001b[0;34m)\u001b[0m\u001b[0;34m\u001b[0m\u001b[0;34m\u001b[0m\u001b[0m\n\u001b[0m\u001b[1;32m      2\u001b[0m \u001b[0mcard_s1\u001b[0m\u001b[0;34m.\u001b[0m\u001b[0mhead\u001b[0m\u001b[0;34m(\u001b[0m\u001b[0;34m)\u001b[0m\u001b[0;34m\u001b[0m\u001b[0;34m\u001b[0m\u001b[0m\n",
            "\u001b[0;32m/usr/local/lib/python3.7/dist-packages/pandas/core/reshape/pivot.py\u001b[0m in \u001b[0;36mpivot_table\u001b[0;34m(data, values, index, columns, aggfunc, fill_value, margins, dropna, margins_name, observed)\u001b[0m\n\u001b[1;32m     86\u001b[0m         \u001b[0;32mfor\u001b[0m \u001b[0mi\u001b[0m \u001b[0;32min\u001b[0m \u001b[0mvalues\u001b[0m\u001b[0;34m:\u001b[0m\u001b[0;34m\u001b[0m\u001b[0;34m\u001b[0m\u001b[0m\n\u001b[1;32m     87\u001b[0m             \u001b[0;32mif\u001b[0m \u001b[0mi\u001b[0m \u001b[0;32mnot\u001b[0m \u001b[0;32min\u001b[0m \u001b[0mdata\u001b[0m\u001b[0;34m:\u001b[0m\u001b[0;34m\u001b[0m\u001b[0;34m\u001b[0m\u001b[0m\n\u001b[0;32m---> 88\u001b[0;31m                 \u001b[0;32mraise\u001b[0m \u001b[0mKeyError\u001b[0m\u001b[0;34m(\u001b[0m\u001b[0mi\u001b[0m\u001b[0;34m)\u001b[0m\u001b[0;34m\u001b[0m\u001b[0;34m\u001b[0m\u001b[0m\n\u001b[0m\u001b[1;32m     89\u001b[0m \u001b[0;34m\u001b[0m\u001b[0m\n\u001b[1;32m     90\u001b[0m         \u001b[0mto_filter\u001b[0m \u001b[0;34m=\u001b[0m \u001b[0;34m[\u001b[0m\u001b[0;34m]\u001b[0m\u001b[0;34m\u001b[0m\u001b[0;34m\u001b[0m\u001b[0m\n",
            "\u001b[0;31mKeyError\u001b[0m: '결제건수'"
          ]
        }
      ]
    },
    {
      "cell_type": "markdown",
      "metadata": {
        "id": "p_k4uE16qih1"
      },
      "source": [
        "- 행정동별 결제건수, 결제금액"
      ]
    },
    {
      "cell_type": "code",
      "metadata": {
        "id": "G3rDB_Ugpra-"
      },
      "source": [
        "card_s2 = pd.pivot_table(data=card,index=['년', '월', '행정동'],values=['결제건수','결제금액'],aggfunc=sum).reset_index()\n",
        "card_s2.head()"
      ],
      "execution_count": null,
      "outputs": []
    },
    {
      "cell_type": "markdown",
      "metadata": {
        "id": "G7t3LUCymrnl"
      },
      "source": [
        "- 행정동별 결제건수&결제금액 소트"
      ]
    },
    {
      "cell_type": "code",
      "metadata": {
        "id": "MNuZmvSequWd"
      },
      "source": [
        "pd.pivot_table(data=card,index=['행정동'],values=['결제건수'],aggfunc='sum').sort_values('결제건수',ascending=False)[:5]"
      ],
      "execution_count": null,
      "outputs": []
    },
    {
      "cell_type": "code",
      "metadata": {
        "id": "pdP3NMwrquY_"
      },
      "source": [
        "pd.pivot_table(data=card,index=['행정동'],values=['결제금액'],aggfunc='sum').sort_values('결제금액',ascending=False)[:5]"
      ],
      "execution_count": null,
      "outputs": []
    },
    {
      "cell_type": "code",
      "metadata": {
        "id": "PUPoZgOHqubk"
      },
      "source": [
        "pd.pivot_table(data=card,index=['년', '월', '행정동'],values=['결제금액'],aggfunc='sum').sort_values('결제금액',ascending=False)[:5] #쓰레기 배출량이 많은 8,9월"
      ],
      "execution_count": null,
      "outputs": []
    },
    {
      "cell_type": "markdown",
      "metadata": {
        "id": "o4DJvjLZq_c1"
      },
      "source": [
        "- 평균으로 보면?"
      ]
    },
    {
      "cell_type": "code",
      "metadata": {
        "id": "TNP7VKSjrBaS"
      },
      "source": [
        "card_s2_m = pd.pivot_table(data=card,index=['행정동'],values=['결제건수','결제금액'],aggfunc='mean').reset_index()\n",
        "card_s2_m.sort_values('결제건수',ascending=False)[:5]"
      ],
      "execution_count": null,
      "outputs": []
    },
    {
      "cell_type": "code",
      "metadata": {
        "id": "p6oUb92ErECK"
      },
      "source": [
        "#결제건수 소팅\n",
        "card_s2_m = pd.pivot_table(data=card,index=['행정동'],values=['결제건수'],aggfunc='mean').reset_index()\n",
        "card_s2_m.sort_values('결제건수',ascending=False)[:5]"
      ],
      "execution_count": null,
      "outputs": []
    },
    {
      "cell_type": "code",
      "metadata": {
        "id": "5fvBiim1rEFE"
      },
      "source": [
        "#결제금액\n",
        "card_s2_m = pd.pivot_table(data=card,index=['행정동'],values=['결제금액'],aggfunc='mean').reset_index()\n",
        "card_s2_m.sort_values('결제금액',ascending=False)[:5]"
      ],
      "execution_count": null,
      "outputs": []
    },
    {
      "cell_type": "markdown",
      "metadata": {
        "id": "ccQvE6GSrPdF"
      },
      "source": [
        "#### 9)총거주인구&내국인거주&외국인거주 + 카드결제건수&카드결제금액 + 쓰레기 연관관계\n",
        "- 결제금액과 결제건수는 연관관계가 있다"
      ]
    },
    {
      "cell_type": "code",
      "metadata": {
        "id": "updlgbJprEIs"
      },
      "source": [
        "merge_pop2 = pd.merge(merge_pop,card_s2)\n",
        "merge_pop2.head(10)"
      ],
      "execution_count": null,
      "outputs": []
    },
    {
      "cell_type": "code",
      "metadata": {
        "id": "yvx6g5AGrWlv"
      },
      "source": [
        "merge_pop2.columns = ['년','월','행정동','내국인거주','외국인인구','총거주인구','배출건수','배출금액','배출량', '결제건수', '결제금액']"
      ],
      "execution_count": null,
      "outputs": []
    },
    {
      "cell_type": "code",
      "metadata": {
        "id": "FIvt-3vCrWs4"
      },
      "source": [
        "corr_df = merge_pop2.corr(method='pearson')\n",
        "\n",
        "plt.figure(figsize=(8, 6))\n",
        "sns.heatmap(corr_df, annot=True)\n",
        "plt.show()"
      ],
      "execution_count": null,
      "outputs": []
    },
    {
      "cell_type": "code",
      "metadata": {
        "id": "wTZoWmXLrac0"
      },
      "source": [
        "#행정동, 업종별 결제건수\n",
        "card_s3 = pd.pivot_table(data=card,index=['년', '월', '행정동'], columns='업종명', values='결제건수',aggfunc=sum).reset_index()\n",
        "card_s3.head()"
      ],
      "execution_count": null,
      "outputs": []
    },
    {
      "cell_type": "code",
      "metadata": {
        "id": "Wsess1gnrk5G"
      },
      "source": [
        "merge_pop3 = pd.merge(merge_pop2,card_s3)\n",
        "merge_pop3.head(5)"
      ],
      "execution_count": null,
      "outputs": []
    },
    {
      "cell_type": "markdown",
      "metadata": {
        "id": "kRs2PAHlroR7"
      },
      "source": [
        "\n",
        "#### 10)총거주인구&내국인거주&외국인거주 + 카드결제건수 + 쓰레기 연관관계"
      ]
    },
    {
      "cell_type": "code",
      "metadata": {
        "id": "pEqcW2nBrk8L"
      },
      "source": [
        "corr_df = merge_pop3.corr(method='pearson')\n",
        "\n",
        "plt.figure(figsize=(10, 10))\n",
        "sns.heatmap(corr_df, annot=True)\n",
        "plt.show()"
      ],
      "execution_count": null,
      "outputs": []
    },
    {
      "cell_type": "markdown",
      "metadata": {
        "id": "5w8lytCWrueG"
      },
      "source": [
        "11) 총거주인구&내국인거주&외국인거주 + 카드결제금액 + 쓰레기 연관관계"
      ]
    },
    {
      "cell_type": "code",
      "metadata": {
        "id": "4UQfZR3UrlAS"
      },
      "source": [
        "#행정동, 업종별 결제금액\n",
        "card_s4 = pd.pivot_table(data=card,index=['년', '월', '행정동'], columns='업종명', values='결제금액',aggfunc=sum).reset_index()\n",
        "card_s4.head()"
      ],
      "execution_count": null,
      "outputs": []
    },
    {
      "cell_type": "code",
      "metadata": {
        "id": "gYbZjB1kr0NP"
      },
      "source": [
        "merge_pop4 = pd.merge(merge_pop2,card_s4)\n",
        "merge_pop4.head(5)"
      ],
      "execution_count": null,
      "outputs": []
    },
    {
      "cell_type": "code",
      "metadata": {
        "id": "xpDtt7ler026"
      },
      "source": [
        "corr_df = merge_pop4.corr(method='pearson')\n",
        "\n",
        "plt.figure(figsize=(10, 10))\n",
        "sns.heatmap(corr_df, annot=True)\n",
        "plt.show()"
      ],
      "execution_count": null,
      "outputs": []
    },
    {
      "cell_type": "markdown",
      "metadata": {
        "id": "D2QvrOIVr5Fm"
      },
      "source": [
        "#### 12) 유동인구 분석\n",
        "- 쓰레기dt + 거주인구dt + 유동인구0,1,2\n",
        "- 평균으로 나온 중앙동과 관련성이 있다.\n",
        "- type 0 : 내국인 1: 장기외국인 2: 단기외국인"
      ]
    },
    {
      "cell_type": "markdown",
      "metadata": {
        "id": "Nyk-hlRtsODZ"
      },
      "source": [
        "- 쓰레기량과 거주인구&방문인구&근무인구의 상관관계"
      ]
    },
    {
      "cell_type": "code",
      "metadata": {
        "id": "dN23fEbgsGFU"
      },
      "source": [
        "n_move2 = pd.pivot_table(data=korean,index=['년', '월', '시간대', '행정동'],values=['거주인구','근무인구','방문인구'],aggfunc='mean').reset_index()\n",
        "n_move2.head()"
      ],
      "execution_count": null,
      "outputs": []
    },
    {
      "cell_type": "code",
      "metadata": {
        "id": "OakrBRDOsGNY"
      },
      "source": [
        "merge_pop5 = pd.merge(food_w2, n_move2)\n",
        "\n",
        "corr_df = merge_pop5.corr(method='pearson')\n",
        "\n",
        "plt.figure(figsize=(10, 10))\n",
        "sns.heatmap(corr_df, annot=True)\n",
        "plt.show()"
      ],
      "execution_count": null,
      "outputs": []
    },
    {
      "cell_type": "markdown",
      "metadata": {
        "id": "KWfaPVSSr5Ih"
      },
      "source": [
        "- 행정동을 기점으로\n",
        "- 날짜, 연령대, 성별, 거주지역 행정지역의\n",
        "- 거주인구, 근무인구 , 방문인구 탐색\n",
        "#### 13 행정동별 거주인구&근무인구&방문인구\n",
        "- 거주인구"
      ]
    },
    {
      "cell_type": "code",
      "metadata": {
        "id": "3M4CHBlbr05T",
        "colab": {
          "base_uri": "https://localhost:8080/",
          "height": 316
        },
        "outputId": "bea8cafd-9bed-4b10-d37d-a5431a369db5"
      },
      "source": [
        "pd.pivot_table(data = korean, index = ['행정동'],values='거주인구',aggfunc='mean').sort_values('거주인구',ascending=False)[:5]"
      ],
      "execution_count": 57,
      "outputs": [
        {
          "output_type": "error",
          "ename": "KeyError",
          "evalue": "ignored",
          "traceback": [
            "\u001b[0;31m---------------------------------------------------------------------------\u001b[0m",
            "\u001b[0;31mKeyError\u001b[0m                                  Traceback (most recent call last)",
            "\u001b[0;32m<ipython-input-57-8fd973db1e09>\u001b[0m in \u001b[0;36m<module>\u001b[0;34m()\u001b[0m\n\u001b[0;32m----> 1\u001b[0;31m \u001b[0mpd\u001b[0m\u001b[0;34m.\u001b[0m\u001b[0mpivot_table\u001b[0m\u001b[0;34m(\u001b[0m\u001b[0mdata\u001b[0m \u001b[0;34m=\u001b[0m \u001b[0mkorean\u001b[0m\u001b[0;34m,\u001b[0m \u001b[0mindex\u001b[0m \u001b[0;34m=\u001b[0m \u001b[0;34m[\u001b[0m\u001b[0;34m'행정동'\u001b[0m\u001b[0;34m]\u001b[0m\u001b[0;34m,\u001b[0m\u001b[0mvalues\u001b[0m\u001b[0;34m=\u001b[0m\u001b[0;34m'거주인구'\u001b[0m\u001b[0;34m,\u001b[0m\u001b[0maggfunc\u001b[0m\u001b[0;34m=\u001b[0m\u001b[0;34m'mean'\u001b[0m\u001b[0;34m)\u001b[0m\u001b[0;34m.\u001b[0m\u001b[0msort_values\u001b[0m\u001b[0;34m(\u001b[0m\u001b[0;34m'거주인구'\u001b[0m\u001b[0;34m,\u001b[0m\u001b[0mascending\u001b[0m\u001b[0;34m=\u001b[0m\u001b[0;32mFalse\u001b[0m\u001b[0;34m)\u001b[0m\u001b[0;34m[\u001b[0m\u001b[0;34m:\u001b[0m\u001b[0;36m5\u001b[0m\u001b[0;34m]\u001b[0m\u001b[0;34m\u001b[0m\u001b[0;34m\u001b[0m\u001b[0m\n\u001b[0m",
            "\u001b[0;32m/usr/local/lib/python3.7/dist-packages/pandas/core/reshape/pivot.py\u001b[0m in \u001b[0;36mpivot_table\u001b[0;34m(data, values, index, columns, aggfunc, fill_value, margins, dropna, margins_name, observed)\u001b[0m\n\u001b[1;32m    109\u001b[0m         \u001b[0mvalues\u001b[0m \u001b[0;34m=\u001b[0m \u001b[0mlist\u001b[0m\u001b[0;34m(\u001b[0m\u001b[0mvalues\u001b[0m\u001b[0;34m)\u001b[0m\u001b[0;34m\u001b[0m\u001b[0;34m\u001b[0m\u001b[0m\n\u001b[1;32m    110\u001b[0m \u001b[0;34m\u001b[0m\u001b[0m\n\u001b[0;32m--> 111\u001b[0;31m     \u001b[0mgrouped\u001b[0m \u001b[0;34m=\u001b[0m \u001b[0mdata\u001b[0m\u001b[0;34m.\u001b[0m\u001b[0mgroupby\u001b[0m\u001b[0;34m(\u001b[0m\u001b[0mkeys\u001b[0m\u001b[0;34m,\u001b[0m \u001b[0mobserved\u001b[0m\u001b[0;34m=\u001b[0m\u001b[0mobserved\u001b[0m\u001b[0;34m)\u001b[0m\u001b[0;34m\u001b[0m\u001b[0;34m\u001b[0m\u001b[0m\n\u001b[0m\u001b[1;32m    112\u001b[0m     \u001b[0magged\u001b[0m \u001b[0;34m=\u001b[0m \u001b[0mgrouped\u001b[0m\u001b[0;34m.\u001b[0m\u001b[0magg\u001b[0m\u001b[0;34m(\u001b[0m\u001b[0maggfunc\u001b[0m\u001b[0;34m)\u001b[0m\u001b[0;34m\u001b[0m\u001b[0;34m\u001b[0m\u001b[0m\n\u001b[1;32m    113\u001b[0m     \u001b[0;32mif\u001b[0m \u001b[0mdropna\u001b[0m \u001b[0;32mand\u001b[0m \u001b[0misinstance\u001b[0m\u001b[0;34m(\u001b[0m\u001b[0magged\u001b[0m\u001b[0;34m,\u001b[0m \u001b[0mABCDataFrame\u001b[0m\u001b[0;34m)\u001b[0m \u001b[0;32mand\u001b[0m \u001b[0mlen\u001b[0m\u001b[0;34m(\u001b[0m\u001b[0magged\u001b[0m\u001b[0;34m.\u001b[0m\u001b[0mcolumns\u001b[0m\u001b[0;34m)\u001b[0m\u001b[0;34m:\u001b[0m\u001b[0;34m\u001b[0m\u001b[0;34m\u001b[0m\u001b[0m\n",
            "\u001b[0;32m/usr/local/lib/python3.7/dist-packages/pandas/core/frame.py\u001b[0m in \u001b[0;36mgroupby\u001b[0;34m(self, by, axis, level, as_index, sort, group_keys, squeeze, observed, dropna)\u001b[0m\n\u001b[1;32m   6523\u001b[0m             \u001b[0msqueeze\u001b[0m\u001b[0;34m=\u001b[0m\u001b[0msqueeze\u001b[0m\u001b[0;34m,\u001b[0m\u001b[0;34m\u001b[0m\u001b[0;34m\u001b[0m\u001b[0m\n\u001b[1;32m   6524\u001b[0m             \u001b[0mobserved\u001b[0m\u001b[0;34m=\u001b[0m\u001b[0mobserved\u001b[0m\u001b[0;34m,\u001b[0m\u001b[0;34m\u001b[0m\u001b[0;34m\u001b[0m\u001b[0m\n\u001b[0;32m-> 6525\u001b[0;31m             \u001b[0mdropna\u001b[0m\u001b[0;34m=\u001b[0m\u001b[0mdropna\u001b[0m\u001b[0;34m,\u001b[0m\u001b[0;34m\u001b[0m\u001b[0;34m\u001b[0m\u001b[0m\n\u001b[0m\u001b[1;32m   6526\u001b[0m         )\n\u001b[1;32m   6527\u001b[0m \u001b[0;34m\u001b[0m\u001b[0m\n",
            "\u001b[0;32m/usr/local/lib/python3.7/dist-packages/pandas/core/groupby/groupby.py\u001b[0m in \u001b[0;36m__init__\u001b[0;34m(self, obj, keys, axis, level, grouper, exclusions, selection, as_index, sort, group_keys, squeeze, observed, mutated, dropna)\u001b[0m\n\u001b[1;32m    531\u001b[0m                 \u001b[0mobserved\u001b[0m\u001b[0;34m=\u001b[0m\u001b[0mobserved\u001b[0m\u001b[0;34m,\u001b[0m\u001b[0;34m\u001b[0m\u001b[0;34m\u001b[0m\u001b[0m\n\u001b[1;32m    532\u001b[0m                 \u001b[0mmutated\u001b[0m\u001b[0;34m=\u001b[0m\u001b[0mself\u001b[0m\u001b[0;34m.\u001b[0m\u001b[0mmutated\u001b[0m\u001b[0;34m,\u001b[0m\u001b[0;34m\u001b[0m\u001b[0;34m\u001b[0m\u001b[0m\n\u001b[0;32m--> 533\u001b[0;31m                 \u001b[0mdropna\u001b[0m\u001b[0;34m=\u001b[0m\u001b[0mself\u001b[0m\u001b[0;34m.\u001b[0m\u001b[0mdropna\u001b[0m\u001b[0;34m,\u001b[0m\u001b[0;34m\u001b[0m\u001b[0;34m\u001b[0m\u001b[0m\n\u001b[0m\u001b[1;32m    534\u001b[0m             )\n\u001b[1;32m    535\u001b[0m \u001b[0;34m\u001b[0m\u001b[0m\n",
            "\u001b[0;32m/usr/local/lib/python3.7/dist-packages/pandas/core/groupby/grouper.py\u001b[0m in \u001b[0;36mget_grouper\u001b[0;34m(obj, key, axis, level, sort, observed, mutated, validate, dropna)\u001b[0m\n\u001b[1;32m    784\u001b[0m                 \u001b[0min_axis\u001b[0m\u001b[0;34m,\u001b[0m \u001b[0mname\u001b[0m\u001b[0;34m,\u001b[0m \u001b[0mlevel\u001b[0m\u001b[0;34m,\u001b[0m \u001b[0mgpr\u001b[0m \u001b[0;34m=\u001b[0m \u001b[0;32mFalse\u001b[0m\u001b[0;34m,\u001b[0m \u001b[0;32mNone\u001b[0m\u001b[0;34m,\u001b[0m \u001b[0mgpr\u001b[0m\u001b[0;34m,\u001b[0m \u001b[0;32mNone\u001b[0m\u001b[0;34m\u001b[0m\u001b[0;34m\u001b[0m\u001b[0m\n\u001b[1;32m    785\u001b[0m             \u001b[0;32melse\u001b[0m\u001b[0;34m:\u001b[0m\u001b[0;34m\u001b[0m\u001b[0;34m\u001b[0m\u001b[0m\n\u001b[0;32m--> 786\u001b[0;31m                 \u001b[0;32mraise\u001b[0m \u001b[0mKeyError\u001b[0m\u001b[0;34m(\u001b[0m\u001b[0mgpr\u001b[0m\u001b[0;34m)\u001b[0m\u001b[0;34m\u001b[0m\u001b[0;34m\u001b[0m\u001b[0m\n\u001b[0m\u001b[1;32m    787\u001b[0m         \u001b[0;32melif\u001b[0m \u001b[0misinstance\u001b[0m\u001b[0;34m(\u001b[0m\u001b[0mgpr\u001b[0m\u001b[0;34m,\u001b[0m \u001b[0mGrouper\u001b[0m\u001b[0;34m)\u001b[0m \u001b[0;32mand\u001b[0m \u001b[0mgpr\u001b[0m\u001b[0;34m.\u001b[0m\u001b[0mkey\u001b[0m \u001b[0;32mis\u001b[0m \u001b[0;32mnot\u001b[0m \u001b[0;32mNone\u001b[0m\u001b[0;34m:\u001b[0m\u001b[0;34m\u001b[0m\u001b[0;34m\u001b[0m\u001b[0m\n\u001b[1;32m    788\u001b[0m             \u001b[0;31m# Add key to exclusions\u001b[0m\u001b[0;34m\u001b[0m\u001b[0;34m\u001b[0m\u001b[0;34m\u001b[0m\u001b[0m\n",
            "\u001b[0;31mKeyError\u001b[0m: '행정동'"
          ]
        }
      ]
    },
    {
      "cell_type": "code",
      "metadata": {
        "id": "jXsihzgLr08B",
        "colab": {
          "base_uri": "https://localhost:8080/",
          "height": 316
        },
        "outputId": "9547ae30-d6e6-4f85-d455-a7b975a514e6"
      },
      "source": [
        "pd.pivot_table(data = korean, index = ['년','행정동'],values='거주인구',aggfunc='mean').sort_values('거주인구',ascending=False)[:5]"
      ],
      "execution_count": 58,
      "outputs": [
        {
          "output_type": "error",
          "ename": "KeyError",
          "evalue": "ignored",
          "traceback": [
            "\u001b[0;31m---------------------------------------------------------------------------\u001b[0m",
            "\u001b[0;31mKeyError\u001b[0m                                  Traceback (most recent call last)",
            "\u001b[0;32m<ipython-input-58-efbe08a7c6fb>\u001b[0m in \u001b[0;36m<module>\u001b[0;34m()\u001b[0m\n\u001b[0;32m----> 1\u001b[0;31m \u001b[0mpd\u001b[0m\u001b[0;34m.\u001b[0m\u001b[0mpivot_table\u001b[0m\u001b[0;34m(\u001b[0m\u001b[0mdata\u001b[0m \u001b[0;34m=\u001b[0m \u001b[0mkorean\u001b[0m\u001b[0;34m,\u001b[0m \u001b[0mindex\u001b[0m \u001b[0;34m=\u001b[0m \u001b[0;34m[\u001b[0m\u001b[0;34m'년'\u001b[0m\u001b[0;34m,\u001b[0m\u001b[0;34m'행정동'\u001b[0m\u001b[0;34m]\u001b[0m\u001b[0;34m,\u001b[0m\u001b[0mvalues\u001b[0m\u001b[0;34m=\u001b[0m\u001b[0;34m'거주인구'\u001b[0m\u001b[0;34m,\u001b[0m\u001b[0maggfunc\u001b[0m\u001b[0;34m=\u001b[0m\u001b[0;34m'mean'\u001b[0m\u001b[0;34m)\u001b[0m\u001b[0;34m.\u001b[0m\u001b[0msort_values\u001b[0m\u001b[0;34m(\u001b[0m\u001b[0;34m'거주인구'\u001b[0m\u001b[0;34m,\u001b[0m\u001b[0mascending\u001b[0m\u001b[0;34m=\u001b[0m\u001b[0;32mFalse\u001b[0m\u001b[0;34m)\u001b[0m\u001b[0;34m[\u001b[0m\u001b[0;34m:\u001b[0m\u001b[0;36m5\u001b[0m\u001b[0;34m]\u001b[0m\u001b[0;34m\u001b[0m\u001b[0;34m\u001b[0m\u001b[0m\n\u001b[0m",
            "\u001b[0;32m/usr/local/lib/python3.7/dist-packages/pandas/core/reshape/pivot.py\u001b[0m in \u001b[0;36mpivot_table\u001b[0;34m(data, values, index, columns, aggfunc, fill_value, margins, dropna, margins_name, observed)\u001b[0m\n\u001b[1;32m    109\u001b[0m         \u001b[0mvalues\u001b[0m \u001b[0;34m=\u001b[0m \u001b[0mlist\u001b[0m\u001b[0;34m(\u001b[0m\u001b[0mvalues\u001b[0m\u001b[0;34m)\u001b[0m\u001b[0;34m\u001b[0m\u001b[0;34m\u001b[0m\u001b[0m\n\u001b[1;32m    110\u001b[0m \u001b[0;34m\u001b[0m\u001b[0m\n\u001b[0;32m--> 111\u001b[0;31m     \u001b[0mgrouped\u001b[0m \u001b[0;34m=\u001b[0m \u001b[0mdata\u001b[0m\u001b[0;34m.\u001b[0m\u001b[0mgroupby\u001b[0m\u001b[0;34m(\u001b[0m\u001b[0mkeys\u001b[0m\u001b[0;34m,\u001b[0m \u001b[0mobserved\u001b[0m\u001b[0;34m=\u001b[0m\u001b[0mobserved\u001b[0m\u001b[0;34m)\u001b[0m\u001b[0;34m\u001b[0m\u001b[0;34m\u001b[0m\u001b[0m\n\u001b[0m\u001b[1;32m    112\u001b[0m     \u001b[0magged\u001b[0m \u001b[0;34m=\u001b[0m \u001b[0mgrouped\u001b[0m\u001b[0;34m.\u001b[0m\u001b[0magg\u001b[0m\u001b[0;34m(\u001b[0m\u001b[0maggfunc\u001b[0m\u001b[0;34m)\u001b[0m\u001b[0;34m\u001b[0m\u001b[0;34m\u001b[0m\u001b[0m\n\u001b[1;32m    113\u001b[0m     \u001b[0;32mif\u001b[0m \u001b[0mdropna\u001b[0m \u001b[0;32mand\u001b[0m \u001b[0misinstance\u001b[0m\u001b[0;34m(\u001b[0m\u001b[0magged\u001b[0m\u001b[0;34m,\u001b[0m \u001b[0mABCDataFrame\u001b[0m\u001b[0;34m)\u001b[0m \u001b[0;32mand\u001b[0m \u001b[0mlen\u001b[0m\u001b[0;34m(\u001b[0m\u001b[0magged\u001b[0m\u001b[0;34m.\u001b[0m\u001b[0mcolumns\u001b[0m\u001b[0;34m)\u001b[0m\u001b[0;34m:\u001b[0m\u001b[0;34m\u001b[0m\u001b[0;34m\u001b[0m\u001b[0m\n",
            "\u001b[0;32m/usr/local/lib/python3.7/dist-packages/pandas/core/frame.py\u001b[0m in \u001b[0;36mgroupby\u001b[0;34m(self, by, axis, level, as_index, sort, group_keys, squeeze, observed, dropna)\u001b[0m\n\u001b[1;32m   6523\u001b[0m             \u001b[0msqueeze\u001b[0m\u001b[0;34m=\u001b[0m\u001b[0msqueeze\u001b[0m\u001b[0;34m,\u001b[0m\u001b[0;34m\u001b[0m\u001b[0;34m\u001b[0m\u001b[0m\n\u001b[1;32m   6524\u001b[0m             \u001b[0mobserved\u001b[0m\u001b[0;34m=\u001b[0m\u001b[0mobserved\u001b[0m\u001b[0;34m,\u001b[0m\u001b[0;34m\u001b[0m\u001b[0;34m\u001b[0m\u001b[0m\n\u001b[0;32m-> 6525\u001b[0;31m             \u001b[0mdropna\u001b[0m\u001b[0;34m=\u001b[0m\u001b[0mdropna\u001b[0m\u001b[0;34m,\u001b[0m\u001b[0;34m\u001b[0m\u001b[0;34m\u001b[0m\u001b[0m\n\u001b[0m\u001b[1;32m   6526\u001b[0m         )\n\u001b[1;32m   6527\u001b[0m \u001b[0;34m\u001b[0m\u001b[0m\n",
            "\u001b[0;32m/usr/local/lib/python3.7/dist-packages/pandas/core/groupby/groupby.py\u001b[0m in \u001b[0;36m__init__\u001b[0;34m(self, obj, keys, axis, level, grouper, exclusions, selection, as_index, sort, group_keys, squeeze, observed, mutated, dropna)\u001b[0m\n\u001b[1;32m    531\u001b[0m                 \u001b[0mobserved\u001b[0m\u001b[0;34m=\u001b[0m\u001b[0mobserved\u001b[0m\u001b[0;34m,\u001b[0m\u001b[0;34m\u001b[0m\u001b[0;34m\u001b[0m\u001b[0m\n\u001b[1;32m    532\u001b[0m                 \u001b[0mmutated\u001b[0m\u001b[0;34m=\u001b[0m\u001b[0mself\u001b[0m\u001b[0;34m.\u001b[0m\u001b[0mmutated\u001b[0m\u001b[0;34m,\u001b[0m\u001b[0;34m\u001b[0m\u001b[0;34m\u001b[0m\u001b[0m\n\u001b[0;32m--> 533\u001b[0;31m                 \u001b[0mdropna\u001b[0m\u001b[0;34m=\u001b[0m\u001b[0mself\u001b[0m\u001b[0;34m.\u001b[0m\u001b[0mdropna\u001b[0m\u001b[0;34m,\u001b[0m\u001b[0;34m\u001b[0m\u001b[0;34m\u001b[0m\u001b[0m\n\u001b[0m\u001b[1;32m    534\u001b[0m             )\n\u001b[1;32m    535\u001b[0m \u001b[0;34m\u001b[0m\u001b[0m\n",
            "\u001b[0;32m/usr/local/lib/python3.7/dist-packages/pandas/core/groupby/grouper.py\u001b[0m in \u001b[0;36mget_grouper\u001b[0;34m(obj, key, axis, level, sort, observed, mutated, validate, dropna)\u001b[0m\n\u001b[1;32m    784\u001b[0m                 \u001b[0min_axis\u001b[0m\u001b[0;34m,\u001b[0m \u001b[0mname\u001b[0m\u001b[0;34m,\u001b[0m \u001b[0mlevel\u001b[0m\u001b[0;34m,\u001b[0m \u001b[0mgpr\u001b[0m \u001b[0;34m=\u001b[0m \u001b[0;32mFalse\u001b[0m\u001b[0;34m,\u001b[0m \u001b[0;32mNone\u001b[0m\u001b[0;34m,\u001b[0m \u001b[0mgpr\u001b[0m\u001b[0;34m,\u001b[0m \u001b[0;32mNone\u001b[0m\u001b[0;34m\u001b[0m\u001b[0;34m\u001b[0m\u001b[0m\n\u001b[1;32m    785\u001b[0m             \u001b[0;32melse\u001b[0m\u001b[0;34m:\u001b[0m\u001b[0;34m\u001b[0m\u001b[0;34m\u001b[0m\u001b[0m\n\u001b[0;32m--> 786\u001b[0;31m                 \u001b[0;32mraise\u001b[0m \u001b[0mKeyError\u001b[0m\u001b[0;34m(\u001b[0m\u001b[0mgpr\u001b[0m\u001b[0;34m)\u001b[0m\u001b[0;34m\u001b[0m\u001b[0;34m\u001b[0m\u001b[0m\n\u001b[0m\u001b[1;32m    787\u001b[0m         \u001b[0;32melif\u001b[0m \u001b[0misinstance\u001b[0m\u001b[0;34m(\u001b[0m\u001b[0mgpr\u001b[0m\u001b[0;34m,\u001b[0m \u001b[0mGrouper\u001b[0m\u001b[0;34m)\u001b[0m \u001b[0;32mand\u001b[0m \u001b[0mgpr\u001b[0m\u001b[0;34m.\u001b[0m\u001b[0mkey\u001b[0m \u001b[0;32mis\u001b[0m \u001b[0;32mnot\u001b[0m \u001b[0;32mNone\u001b[0m\u001b[0;34m:\u001b[0m\u001b[0;34m\u001b[0m\u001b[0;34m\u001b[0m\u001b[0m\n\u001b[1;32m    788\u001b[0m             \u001b[0;31m# Add key to exclusions\u001b[0m\u001b[0;34m\u001b[0m\u001b[0;34m\u001b[0m\u001b[0;34m\u001b[0m\u001b[0m\n",
            "\u001b[0;31mKeyError\u001b[0m: '년'"
          ]
        }
      ]
    },
    {
      "cell_type": "code",
      "metadata": {
        "id": "VDLPJPzRsuq8"
      },
      "source": [
        "n_move3 = pd.pivot_table(data=korean,index=['시간대', '행정동'],values=['거주인구','근무인구','방문인구'],aggfunc='mean').reset_index()\n",
        "n_move3.sort_values('거주인구',ascending=False)[:10]"
      ],
      "execution_count": null,
      "outputs": []
    },
    {
      "cell_type": "markdown",
      "metadata": {
        "id": "TwtauGbfs-lz"
      },
      "source": [
        "  - 이도2동, 노형동, 연동"
      ]
    },
    {
      "cell_type": "code",
      "metadata": {
        "id": "G7Q8cVeEtDEK"
      },
      "source": [
        " # 노형동만 보기\n",
        "nh_move = n_move3[n_move3.행정동 == '노형동']\n",
        "pd.pivot_table(data = nh_move, index = ['시간대'], values = '거주인구', aggfunc='mean').plot()"
      ],
      "execution_count": null,
      "outputs": []
    },
    {
      "cell_type": "code",
      "metadata": {
        "id": "L6M03UrTtDGg"
      },
      "source": [
        " # 이도2동만 보기\n",
        "id_move = n_move3[n_move3.행정동 == '이도2동']\n",
        "pd.pivot_table(data = id_move, index = ['시간대'], values = '거주인구', aggfunc='mean').plot()"
      ],
      "execution_count": null,
      "outputs": []
    },
    {
      "cell_type": "code",
      "metadata": {
        "id": "6Jn0MCqHtDIz"
      },
      "source": [
        " # 연동만 보기\n",
        "y_move = n_move3[n_move3.행정동 == '연동']\n",
        "pd.pivot_table(data = y_move, index = ['시간대'], values = '거주인구', aggfunc='mean').plot()"
      ],
      "execution_count": null,
      "outputs": []
    },
    {
      "cell_type": "markdown",
      "metadata": {
        "id": "thGAkN8ptMBz"
      },
      "source": [
        "#### 14) 연령대 비교"
      ]
    },
    {
      "cell_type": "markdown",
      "metadata": {
        "id": "qIhzK44XtrdO"
      },
      "source": [
        "- 40, 50대와 10대가 거주하는 사람이 많은 곳일수록 쓰레기 배출량이 높다"
      ]
    },
    {
      "cell_type": "code",
      "metadata": {
        "id": "Bgaq42VttO2D"
      },
      "source": [
        "n_move4 = pd.pivot_table(data=korean,index=['나이', '행정동'],values=['거주인구','근무인구','방문인구'],aggfunc='mean').reset_index()\n",
        "n_move4.sort_values('거주인구',ascending=False)[:10]"
      ],
      "execution_count": null,
      "outputs": []
    },
    {
      "cell_type": "code",
      "metadata": {
        "id": "denymjF2tk7-"
      },
      "source": [
        " # 노형동만 보기\n",
        "nh_move = n_move5[n_move5.행정동 == '노형동']\n",
        "pd.pivot_table(data = nh_move, index = ['나이'], values = '거주인구', aggfunc='mean').plot()"
      ],
      "execution_count": null,
      "outputs": []
    },
    {
      "cell_type": "code",
      "metadata": {
        "id": "1cxji8aAtk-h"
      },
      "source": [
        " # 이도2동만 보기\n",
        "id_move = n_move5[n_move5.행정동 == '이도2동']\n",
        "pd.pivot_table(data = id_move, index = ['나이'], values = '거주인구', aggfunc='mean').plot()"
      ],
      "execution_count": null,
      "outputs": []
    },
    {
      "cell_type": "code",
      "metadata": {
        "id": "rApL4A1_tnUJ"
      },
      "source": [
        " # 연동만 보기\n",
        "y_move = n_move5[n_move5.행정동 == '연동']\n",
        "pd.pivot_table(data = y_move, index = ['나이'], values = '거주인구', aggfunc='mean').plot()"
      ],
      "execution_count": null,
      "outputs": []
    },
    {
      "cell_type": "markdown",
      "metadata": {
        "id": "MULEduQDM4qL"
      },
      "source": [
        "## 변수선택\n",
        "상관관계를 보기 위한 ym_dong 생성"
      ]
    },
    {
      "cell_type": "code",
      "metadata": {
        "id": "Elcv3F3-M8RV"
      },
      "source": [
        "ym_dong = pd.pivot_table(data = food, index = ['년도','월','행정동',],values='배출량',aggfunc='sum').reset_index()\n",
        "ym_dong['index'] = ym_dong['년도'].map(str)+\"-\"+ym_dong['월'].map(str)+\"-\"+ym_dong['행정동']\n",
        "\n",
        "del ym_dong['년도']\n",
        "del ym_dong['월']\n",
        "del ym_dong['행정동']"
      ],
      "execution_count": 59,
      "outputs": []
    },
    {
      "cell_type": "markdown",
      "metadata": {
        "id": "rjKZCq9aLINK"
      },
      "source": [
        "### 월 변수"
      ]
    },
    {
      "cell_type": "code",
      "metadata": {
        "id": "OxtU3iu3F1Cm",
        "colab": {
          "base_uri": "https://localhost:8080/",
          "height": 332
        },
        "outputId": "3445d9a1-fbad-466f-f20c-76e3d913848d"
      },
      "source": [
        "month_dong = pd.pivot_table(data = food, index = ['행정동','월'],values='배출량',aggfunc='mean').reset_index()\n",
        "\n",
        "mm = pd.pivot_table(data = month_dong, index = '월', values = '배출량', aggfunc=sum)\n",
        "\n",
        "plt.figure(figsize=(20,20))\n",
        "mm.plot(kind='bar',color='green',rot=0)\n",
        "plt.ylabel('배출량')\n",
        "plt.title('제주시 전체 월별 음식물 쓰레기 배출량')"
      ],
      "execution_count": 60,
      "outputs": [
        {
          "output_type": "execute_result",
          "data": {
            "text/plain": [
              "Text(0.5, 1.0, '제주시 전체 월별 음식물 쓰레기 배출량')"
            ]
          },
          "metadata": {},
          "execution_count": 60
        },
        {
          "output_type": "display_data",
          "data": {
            "text/plain": [
              "<Figure size 1440x1440 with 0 Axes>"
            ]
          },
          "metadata": {}
        },
        {
          "output_type": "display_data",
          "data": {
            "image/png": "[encoded data removed]",
            "text/plain": [
              "<Figure size 432x288 with 1 Axes>"
            ]
          },
          "metadata": {
            "image/png": {
              "width": 385,
              "height": 280
            },
            "needs_background": "light"
          }
        }
      ]
    },
    {
      "cell_type": "code",
      "metadata": {
        "id": "6t8M2H9-IUBV",
        "colab": {
          "base_uri": "https://localhost:8080/",
          "height": 418
        },
        "outputId": "3a36f55e-a21a-4bd4-caad-2a11cdbea8d7"
      },
      "source": [
        "mm = mm.reset_index()\n",
        "mm['계절'] = ['여름' if x in range(6,10) else '그외' for x in mm['월']]\n",
        "mm"
      ],
      "execution_count": 61,
      "outputs": [
        {
          "output_type": "execute_result",
          "data": {
            "text/html": [
              "<div>\n",
              "<style scoped>\n",
              "    .dataframe tbody tr th:only-of-type {\n",
              "        vertical-align: middle;\n",
              "    }\n",
              "\n",
              "    .dataframe tbody tr th {\n",
              "        vertical-align: top;\n",
              "    }\n",
              "\n",
              "    .dataframe thead th {\n",
              "        text-align: right;\n",
              "    }\n",
              "</style>\n",
              "<table border=\"1\" class=\"dataframe\">\n",
              "  <thead>\n",
              "    <tr style=\"text-align: right;\">\n",
              "      <th></th>\n",
              "      <th>월</th>\n",
              "      <th>배출량</th>\n",
              "      <th>계절</th>\n",
              "    </tr>\n",
              "  </thead>\n",
              "  <tbody>\n",
              "    <tr>\n",
              "      <th>0</th>\n",
              "      <td>1</td>\n",
              "      <td>2.255020e+06</td>\n",
              "      <td>그외</td>\n",
              "    </tr>\n",
              "    <tr>\n",
              "      <th>1</th>\n",
              "      <td>2</td>\n",
              "      <td>2.264107e+06</td>\n",
              "      <td>그외</td>\n",
              "    </tr>\n",
              "    <tr>\n",
              "      <th>2</th>\n",
              "      <td>3</td>\n",
              "      <td>2.207242e+06</td>\n",
              "      <td>그외</td>\n",
              "    </tr>\n",
              "    <tr>\n",
              "      <th>3</th>\n",
              "      <td>4</td>\n",
              "      <td>2.148389e+06</td>\n",
              "      <td>그외</td>\n",
              "    </tr>\n",
              "    <tr>\n",
              "      <th>4</th>\n",
              "      <td>5</td>\n",
              "      <td>2.216127e+06</td>\n",
              "      <td>그외</td>\n",
              "    </tr>\n",
              "    <tr>\n",
              "      <th>5</th>\n",
              "      <td>6</td>\n",
              "      <td>2.355321e+06</td>\n",
              "      <td>여름</td>\n",
              "    </tr>\n",
              "    <tr>\n",
              "      <th>6</th>\n",
              "      <td>7</td>\n",
              "      <td>2.615271e+06</td>\n",
              "      <td>여름</td>\n",
              "    </tr>\n",
              "    <tr>\n",
              "      <th>7</th>\n",
              "      <td>8</td>\n",
              "      <td>2.606836e+06</td>\n",
              "      <td>여름</td>\n",
              "    </tr>\n",
              "    <tr>\n",
              "      <th>8</th>\n",
              "      <td>9</td>\n",
              "      <td>2.379961e+06</td>\n",
              "      <td>여름</td>\n",
              "    </tr>\n",
              "    <tr>\n",
              "      <th>9</th>\n",
              "      <td>10</td>\n",
              "      <td>2.219615e+06</td>\n",
              "      <td>그외</td>\n",
              "    </tr>\n",
              "    <tr>\n",
              "      <th>10</th>\n",
              "      <td>11</td>\n",
              "      <td>2.291119e+06</td>\n",
              "      <td>그외</td>\n",
              "    </tr>\n",
              "    <tr>\n",
              "      <th>11</th>\n",
              "      <td>12</td>\n",
              "      <td>2.312103e+06</td>\n",
              "      <td>그외</td>\n",
              "    </tr>\n",
              "  </tbody>\n",
              "</table>\n",
              "</div>"
            ],
            "text/plain": [
              "     월           배출량  계절\n",
              "0    1  2.255020e+06  그외\n",
              "1    2  2.264107e+06  그외\n",
              "2    3  2.207242e+06  그외\n",
              "3    4  2.148389e+06  그외\n",
              "4    5  2.216127e+06  그외\n",
              "5    6  2.355321e+06  여름\n",
              "6    7  2.615271e+06  여름\n",
              "7    8  2.606836e+06  여름\n",
              "8    9  2.379961e+06  여름\n",
              "9   10  2.219615e+06  그외\n",
              "10  11  2.291119e+06  그외\n",
              "11  12  2.312103e+06  그외"
            ]
          },
          "metadata": {},
          "execution_count": 61
        }
      ]
    },
    {
      "cell_type": "code",
      "metadata": {
        "id": "ZNkD8iyeKS37",
        "colab": {
          "base_uri": "https://localhost:8080/"
        },
        "outputId": "bde2e347-0d01-4d8f-8b44-b0e372c9e83c"
      },
      "source": [
        "summer = mm[mm.계절 == '여름']['배출량']\n",
        "not_summer = mm[mm.계절 != '여름']['배출량']\n",
        "\n",
        "import scipy.stats\n",
        "scipy.stats.ttest_ind(summer, not_summer,equal_var=False)"
      ],
      "execution_count": 62,
      "outputs": [
        {
          "output_type": "execute_result",
          "data": {
            "text/plain": [
              "Ttest_indResult(statistic=3.4338341432986264, pvalue=0.033843403912884)"
            ]
          },
          "metadata": {},
          "execution_count": 62
        }
      ]
    },
    {
      "cell_type": "markdown",
      "metadata": {
        "id": "V8GiyDKTF8C7"
      },
      "source": [
        "여름으로 설정한 6,7,8,9월의 평균 배출량이 그렇지 않은 월의 평균 배출량보다 유의미하게 차이남을 알 수 있다. "
      ]
    },
    {
      "cell_type": "markdown",
      "metadata": {
        "id": "uiyz_s7mLJ4n"
      },
      "source": [
        "### 주민등록인구 변수"
      ]
    },
    {
      "cell_type": "code",
      "metadata": {
        "id": "6tjqyWozLFyE"
      },
      "source": [
        "# 음식물 쓰레기 배출량과 합치기 위한 인덱스 컬럼 생성\n",
        "pop2['index'] = pop2['base_year'].map(str)+\"-\"+pop2['base_month'].map(str)+\"-\"+pop2['emd_nm']\n",
        "\n",
        "# 음식물 쓰레기 배출량과 합치기 \n",
        "merge_pop = pd.merge(pop2,ym_dong)\n",
        "del merge_pop['emd_nm']\n",
        "del merge_pop['base_year']\n",
        "del merge_pop['base_month']"
      ],
      "execution_count": 63,
      "outputs": []
    },
    {
      "cell_type": "code",
      "metadata": {
        "id": "oSm-svyVTNN-",
        "colab": {
          "base_uri": "https://localhost:8080/",
          "height": 295
        },
        "outputId": "b4b1d490-ffc2-4074-8721-6c733653eb06"
      },
      "source": [
        "pop['외국인비율'] = (pop['foreign_pop']/pop['total_pop']) * 100\n",
        "pop.describe()"
      ],
      "execution_count": 64,
      "outputs": [
        {
          "output_type": "execute_result",
          "data": {
            "text/html": [
              "<div>\n",
              "<style scoped>\n",
              "    .dataframe tbody tr th:only-of-type {\n",
              "        vertical-align: middle;\n",
              "    }\n",
              "\n",
              "    .dataframe tbody tr th {\n",
              "        vertical-align: top;\n",
              "    }\n",
              "\n",
              "    .dataframe thead th {\n",
              "        text-align: right;\n",
              "    }\n",
              "</style>\n",
              "<table border=\"1\" class=\"dataframe\">\n",
              "  <thead>\n",
              "    <tr style=\"text-align: right;\">\n",
              "      <th></th>\n",
              "      <th>base_year</th>\n",
              "      <th>base_month</th>\n",
              "      <th>emd_cd</th>\n",
              "      <th>resid_reg_pop</th>\n",
              "      <th>foreign_pop</th>\n",
              "      <th>total_pop</th>\n",
              "      <th>외국인비율</th>\n",
              "    </tr>\n",
              "  </thead>\n",
              "  <tbody>\n",
              "    <tr>\n",
              "      <th>count</th>\n",
              "      <td>3612.000000</td>\n",
              "      <td>3612.000000</td>\n",
              "      <td>3.612000e+03</td>\n",
              "      <td>3612.00000</td>\n",
              "      <td>3612.000000</td>\n",
              "      <td>3612.000000</td>\n",
              "      <td>3612.000000</td>\n",
              "    </tr>\n",
              "    <tr>\n",
              "      <th>mean</th>\n",
              "      <td>2019.285714</td>\n",
              "      <td>6.071429</td>\n",
              "      <td>5.011841e+07</td>\n",
              "      <td>7782.42691</td>\n",
              "      <td>280.084718</td>\n",
              "      <td>8062.511628</td>\n",
              "      <td>3.640361</td>\n",
              "    </tr>\n",
              "    <tr>\n",
              "      <th>std</th>\n",
              "      <td>1.030300</td>\n",
              "      <td>3.425820</td>\n",
              "      <td>9.764379e+03</td>\n",
              "      <td>6430.85599</td>\n",
              "      <td>366.921095</td>\n",
              "      <td>6638.318372</td>\n",
              "      <td>3.663199</td>\n",
              "    </tr>\n",
              "    <tr>\n",
              "      <th>min</th>\n",
              "      <td>2018.000000</td>\n",
              "      <td>1.000000</td>\n",
              "      <td>5.011025e+07</td>\n",
              "      <td>752.00000</td>\n",
              "      <td>10.000000</td>\n",
              "      <td>763.000000</td>\n",
              "      <td>0.464339</td>\n",
              "    </tr>\n",
              "    <tr>\n",
              "      <th>25%</th>\n",
              "      <td>2018.000000</td>\n",
              "      <td>3.000000</td>\n",
              "      <td>5.011054e+07</td>\n",
              "      <td>2538.00000</td>\n",
              "      <td>65.000000</td>\n",
              "      <td>2633.750000</td>\n",
              "      <td>1.523708</td>\n",
              "    </tr>\n",
              "    <tr>\n",
              "      <th>50%</th>\n",
              "      <td>2019.000000</td>\n",
              "      <td>6.000000</td>\n",
              "      <td>5.011065e+07</td>\n",
              "      <td>6292.50000</td>\n",
              "      <td>134.500000</td>\n",
              "      <td>6542.000000</td>\n",
              "      <td>2.615822</td>\n",
              "    </tr>\n",
              "    <tr>\n",
              "      <th>75%</th>\n",
              "      <td>2020.000000</td>\n",
              "      <td>9.000000</td>\n",
              "      <td>5.013052e+07</td>\n",
              "      <td>10941.25000</td>\n",
              "      <td>330.000000</td>\n",
              "      <td>11712.500000</td>\n",
              "      <td>4.329850</td>\n",
              "    </tr>\n",
              "    <tr>\n",
              "      <th>max</th>\n",
              "      <td>2021.000000</td>\n",
              "      <td>12.000000</td>\n",
              "      <td>5.013062e+07</td>\n",
              "      <td>28241.00000</td>\n",
              "      <td>2396.000000</td>\n",
              "      <td>29178.000000</td>\n",
              "      <td>25.803922</td>\n",
              "    </tr>\n",
              "  </tbody>\n",
              "</table>\n",
              "</div>"
            ],
            "text/plain": [
              "         base_year   base_month  ...     total_pop        외국인비율\n",
              "count  3612.000000  3612.000000  ...   3612.000000  3612.000000\n",
              "mean   2019.285714     6.071429  ...   8062.511628     3.640361\n",
              "std       1.030300     3.425820  ...   6638.318372     3.663199\n",
              "min    2018.000000     1.000000  ...    763.000000     0.464339\n",
              "25%    2018.000000     3.000000  ...   2633.750000     1.523708\n",
              "50%    2019.000000     6.000000  ...   6542.000000     2.615822\n",
              "75%    2020.000000     9.000000  ...  11712.500000     4.329850\n",
              "max    2021.000000    12.000000  ...  29178.000000    25.803922\n",
              "\n",
              "[8 rows x 7 columns]"
            ]
          },
          "metadata": {},
          "execution_count": 64
        }
      ]
    },
    {
      "cell_type": "code",
      "metadata": {
        "id": "pcvl6B5UMvlq",
        "colab": {
          "base_uri": "https://localhost:8080/",
          "height": 379
        },
        "outputId": "d4ca4f0a-1133-49e4-8f80-b437911acf1c"
      },
      "source": [
        "corr_df = merge_pop.corr(method='pearson')\n",
        "\n",
        "plt.figure(figsize=(8, 6))\n",
        "sns.heatmap(corr_df, annot=True,cmap='Greens')\n",
        "plt.show()"
      ],
      "execution_count": 65,
      "outputs": [
        {
          "output_type": "display_data",
          "data": {
            "image/png": "[encoded data removed]",
            "text/plain": [
              "<Figure size 576x432 with 2 Axes>"
            ]
          },
          "metadata": {
            "image/png": {
              "width": 449,
              "height": 362
            },
            "needs_background": "light"
          }
        }
      ]
    },
    {
      "cell_type": "markdown",
      "metadata": {
        "id": "uZYUm4QpNErB"
      },
      "source": [
        "외국인의 경우, 평균적으로 5%미만을 차지하고 있고 전체 혹은 내국인거주인구와 비교했을 때 상관관계가 떨어지므로 변수에서 제외한다.  \n",
        "거주인구 혹은 총 인구는 배출량과 높은 상관관계를 가지고 있음을 볼 수 있다.  \n",
        "-> 둘 중 어떤걸 사용할지는 우리 마음 "
      ]
    },
    {
      "cell_type": "markdown",
      "metadata": {
        "id": "lDyrueEZOQW1"
      },
      "source": [
        "### 카드 변수"
      ]
    },
    {
      "cell_type": "code",
      "metadata": {
        "id": "tOkZfNT3NpAH",
        "colab": {
          "base_uri": "https://localhost:8080/",
          "height": 142
        },
        "outputId": "9665869b-3828-4362-d492-c3f9425bcdb4"
      },
      "source": [
        "merge_card = pd.merge(cards,ym_dong)\n",
        "merge_card[:3]"
      ],
      "execution_count": 66,
      "outputs": [
        {
          "output_type": "execute_result",
          "data": {
            "text/html": [
              "<div>\n",
              "<style scoped>\n",
              "    .dataframe tbody tr th:only-of-type {\n",
              "        vertical-align: middle;\n",
              "    }\n",
              "\n",
              "    .dataframe tbody tr th {\n",
              "        vertical-align: top;\n",
              "    }\n",
              "\n",
              "    .dataframe thead th {\n",
              "        text-align: right;\n",
              "    }\n",
              "</style>\n",
              "<table border=\"1\" class=\"dataframe\">\n",
              "  <thead>\n",
              "    <tr style=\"text-align: right;\">\n",
              "      <th></th>\n",
              "      <th>index</th>\n",
              "      <th>간식</th>\n",
              "      <th>농축수산물</th>\n",
              "      <th>마트/슈퍼마켓</th>\n",
              "      <th>배달</th>\n",
              "      <th>부페</th>\n",
              "      <th>식품</th>\n",
              "      <th>아시아음식</th>\n",
              "      <th>양식</th>\n",
              "      <th>주점및주류판매</th>\n",
              "      <th>패스트푸드</th>\n",
              "      <th>한식</th>\n",
              "      <th>배출량</th>\n",
              "    </tr>\n",
              "  </thead>\n",
              "  <tbody>\n",
              "    <tr>\n",
              "      <th>0</th>\n",
              "      <td>2018-1-건입동</td>\n",
              "      <td>52714107.0</td>\n",
              "      <td>180535251.0</td>\n",
              "      <td>6.134581e+08</td>\n",
              "      <td>11571838.0</td>\n",
              "      <td>5081850.0</td>\n",
              "      <td>2.792194e+08</td>\n",
              "      <td>69893850.0</td>\n",
              "      <td>37051483.0</td>\n",
              "      <td>14468297.0</td>\n",
              "      <td>55110922.0</td>\n",
              "      <td>7.055836e+08</td>\n",
              "      <td>45646550</td>\n",
              "    </tr>\n",
              "    <tr>\n",
              "      <th>1</th>\n",
              "      <td>2018-1-남원읍</td>\n",
              "      <td>36003854.0</td>\n",
              "      <td>132565191.0</td>\n",
              "      <td>7.007385e+08</td>\n",
              "      <td>5163749.0</td>\n",
              "      <td>836173.0</td>\n",
              "      <td>2.854035e+08</td>\n",
              "      <td>87237934.0</td>\n",
              "      <td>18314275.0</td>\n",
              "      <td>9074662.0</td>\n",
              "      <td>57030976.0</td>\n",
              "      <td>5.459299e+08</td>\n",
              "      <td>42437700</td>\n",
              "    </tr>\n",
              "    <tr>\n",
              "      <th>2</th>\n",
              "      <td>2018-1-노형동</td>\n",
              "      <td>398428801.0</td>\n",
              "      <td>521442784.0</td>\n",
              "      <td>4.918396e+09</td>\n",
              "      <td>86216063.0</td>\n",
              "      <td>15383521.0</td>\n",
              "      <td>1.100095e+09</td>\n",
              "      <td>478343394.0</td>\n",
              "      <td>230258664.0</td>\n",
              "      <td>114581724.0</td>\n",
              "      <td>402990583.0</td>\n",
              "      <td>4.035121e+09</td>\n",
              "      <td>265018400</td>\n",
              "    </tr>\n",
              "  </tbody>\n",
              "</table>\n",
              "</div>"
            ],
            "text/plain": [
              "        index           간식        농축수산물  ...        패스트푸드            한식        배출량\n",
              "0  2018-1-건입동   52714107.0  180535251.0  ...   55110922.0  7.055836e+08   45646550\n",
              "1  2018-1-남원읍   36003854.0  132565191.0  ...   57030976.0  5.459299e+08   42437700\n",
              "2  2018-1-노형동  398428801.0  521442784.0  ...  402990583.0  4.035121e+09  265018400\n",
              "\n",
              "[3 rows x 13 columns]"
            ]
          },
          "metadata": {},
          "execution_count": 66
        }
      ]
    },
    {
      "cell_type": "code",
      "metadata": {
        "id": "pD4KAXAbOdDb",
        "colab": {
          "base_uri": "https://localhost:8080/",
          "height": 431
        },
        "outputId": "399e238a-8f91-4716-9562-cbb0a382bf08"
      },
      "source": [
        "corr_df = merge_card.corr(method='pearson')\n",
        "\n",
        "plt.figure(figsize=(8, 6))\n",
        "sns.heatmap(corr_df, annot=True,cmap='Greens')\n",
        "plt.show()"
      ],
      "execution_count": 67,
      "outputs": [
        {
          "output_type": "display_data",
          "data": {
            "image/png": "[encoded data removed]",
            "text/plain": [
              "<Figure size 576x432 with 2 Axes>"
            ]
          },
          "metadata": {
            "image/png": {
              "width": 501,
              "height": 414
            },
            "needs_background": "light"
          }
        }
      ]
    },
    {
      "cell_type": "markdown",
      "metadata": {
        "id": "1wtFe7w5OlYK"
      },
      "source": [
        "카드 소비의 경우 대부분이 높게 나온 편에 속하나,  \n",
        "한식, 패스트푸드, 아시아음식, 간식, 양식, 마트/슈퍼마켓이 0.9이상의 상관관계를 보임을 알 수 있다. "
      ]
    },
    {
      "cell_type": "markdown",
      "metadata": {
        "id": "yvdJKofl6hVs"
      },
      "source": [
        "## 데이터셋 생성"
      ]
    },
    {
      "cell_type": "code",
      "metadata": {
        "id": "_eIXtrHA62KS",
        "colab": {
          "base_uri": "https://localhost:8080/",
          "height": 203
        },
        "outputId": "8c4aef11-782b-4be1-c9e4-8b1d1d7823b8"
      },
      "source": [
        "df_pop = merge_pop[['index','배출량','total_pop']]\n",
        "df_merge = merge_card[['index','한식', '패스트푸드', '아시아음식', '간식', '양식', '마트/슈퍼마켓']]\n",
        "dataset = pd.merge(df_pop,df_merge)\n",
        "\n",
        "dataset['년도'] = [ x.split('-')[0] for x in dataset['index']]\n",
        "dataset['월'] = [ x.split('-')[1] for x in dataset['index']]\n",
        "dataset['읍면동'] = [ x.split('-')[2] for x in dataset['index']]\n",
        "del dataset['index']\n",
        "\n",
        "dataset.head()"
      ],
      "execution_count": 79,
      "outputs": [
        {
          "output_type": "execute_result",
          "data": {
            "text/html": [
              "<div>\n",
              "<style scoped>\n",
              "    .dataframe tbody tr th:only-of-type {\n",
              "        vertical-align: middle;\n",
              "    }\n",
              "\n",
              "    .dataframe tbody tr th {\n",
              "        vertical-align: top;\n",
              "    }\n",
              "\n",
              "    .dataframe thead th {\n",
              "        text-align: right;\n",
              "    }\n",
              "</style>\n",
              "<table border=\"1\" class=\"dataframe\">\n",
              "  <thead>\n",
              "    <tr style=\"text-align: right;\">\n",
              "      <th></th>\n",
              "      <th>배출량</th>\n",
              "      <th>total_pop</th>\n",
              "      <th>한식</th>\n",
              "      <th>패스트푸드</th>\n",
              "      <th>아시아음식</th>\n",
              "      <th>간식</th>\n",
              "      <th>양식</th>\n",
              "      <th>마트/슈퍼마켓</th>\n",
              "      <th>년도</th>\n",
              "      <th>월</th>\n",
              "      <th>읍면동</th>\n",
              "    </tr>\n",
              "  </thead>\n",
              "  <tbody>\n",
              "    <tr>\n",
              "      <th>0</th>\n",
              "      <td>45646550</td>\n",
              "      <td>10028</td>\n",
              "      <td>7.055836e+08</td>\n",
              "      <td>55110922.0</td>\n",
              "      <td>69893850.0</td>\n",
              "      <td>52714107.0</td>\n",
              "      <td>37051483.0</td>\n",
              "      <td>6.134581e+08</td>\n",
              "      <td>2018</td>\n",
              "      <td>1</td>\n",
              "      <td>건입동</td>\n",
              "    </tr>\n",
              "    <tr>\n",
              "      <th>1</th>\n",
              "      <td>42437700</td>\n",
              "      <td>19740</td>\n",
              "      <td>5.459299e+08</td>\n",
              "      <td>57030976.0</td>\n",
              "      <td>87237934.0</td>\n",
              "      <td>36003854.0</td>\n",
              "      <td>18314275.0</td>\n",
              "      <td>7.007385e+08</td>\n",
              "      <td>2018</td>\n",
              "      <td>1</td>\n",
              "      <td>남원읍</td>\n",
              "    </tr>\n",
              "    <tr>\n",
              "      <th>2</th>\n",
              "      <td>265018400</td>\n",
              "      <td>54958</td>\n",
              "      <td>4.035121e+09</td>\n",
              "      <td>402990583.0</td>\n",
              "      <td>478343394.0</td>\n",
              "      <td>398428801.0</td>\n",
              "      <td>230258664.0</td>\n",
              "      <td>4.918396e+09</td>\n",
              "      <td>2018</td>\n",
              "      <td>1</td>\n",
              "      <td>노형동</td>\n",
              "    </tr>\n",
              "    <tr>\n",
              "      <th>3</th>\n",
              "      <td>57612600</td>\n",
              "      <td>13651</td>\n",
              "      <td>6.700034e+08</td>\n",
              "      <td>81574888.0</td>\n",
              "      <td>92484907.0</td>\n",
              "      <td>62481472.0</td>\n",
              "      <td>38325300.0</td>\n",
              "      <td>1.204811e+09</td>\n",
              "      <td>2018</td>\n",
              "      <td>1</td>\n",
              "      <td>대륜동</td>\n",
              "    </tr>\n",
              "    <tr>\n",
              "      <th>4</th>\n",
              "      <td>38885550</td>\n",
              "      <td>22603</td>\n",
              "      <td>7.621949e+08</td>\n",
              "      <td>98015164.0</td>\n",
              "      <td>96196033.0</td>\n",
              "      <td>88847534.0</td>\n",
              "      <td>117581563.0</td>\n",
              "      <td>1.360298e+09</td>\n",
              "      <td>2018</td>\n",
              "      <td>1</td>\n",
              "      <td>대정읍</td>\n",
              "    </tr>\n",
              "  </tbody>\n",
              "</table>\n",
              "</div>"
            ],
            "text/plain": [
              "         배출량  total_pop            한식        패스트푸드  ...       마트/슈퍼마켓    년도  월  읍면동\n",
              "0   45646550      10028  7.055836e+08   55110922.0  ...  6.134581e+08  2018  1  건입동\n",
              "1   42437700      19740  5.459299e+08   57030976.0  ...  7.007385e+08  2018  1  남원읍\n",
              "2  265018400      54958  4.035121e+09  402990583.0  ...  4.918396e+09  2018  1  노형동\n",
              "3   57612600      13651  6.700034e+08   81574888.0  ...  1.204811e+09  2018  1  대륜동\n",
              "4   38885550      22603  7.621949e+08   98015164.0  ...  1.360298e+09  2018  1  대정읍\n",
              "\n",
              "[5 rows x 11 columns]"
            ]
          },
          "metadata": {},
          "execution_count": 79
        }
      ]
    },
    {
      "cell_type": "markdown",
      "metadata": {
        "id": "OVbJnqPODGM0"
      },
      "source": [
        "#### 읍면동처리"
      ]
    },
    {
      "cell_type": "code",
      "metadata": {
        "id": "ezmEIM5JBfAS",
        "colab": {
          "base_uri": "https://localhost:8080/",
          "height": 554
        },
        "outputId": "d2861e5e-ec0a-4609-9858-57a649231523"
      },
      "source": [
        "encoded_읍면동 = pd.get_dummies(dataset['읍면동'],prefix=\"읍면동\")\n",
        "dataset = pd.concat((dataset,encoded_읍면동),axis=1)\n",
        "\n",
        "dong_em_g = dataset.groupby('읍면동')['배출량'].agg('mean').sort_values(ascending = False)\n",
        "\n",
        "for i, d in enumerate(list(dong_em_g.index)):\n",
        "    dataset.loc[dataset['읍면동'] == d, '읍면동'] = i\n",
        "\n",
        "dataset['읍면동'] = pd.to_numeric(dataset['읍면동'])\n",
        "dataset.astype('float')"
      ],
      "execution_count": 80,
      "outputs": [
        {
          "output_type": "execute_result",
          "data": {
            "text/html": [
              "<div>\n",
              "<style scoped>\n",
              "    .dataframe tbody tr th:only-of-type {\n",
              "        vertical-align: middle;\n",
              "    }\n",
              "\n",
              "    .dataframe tbody tr th {\n",
              "        vertical-align: top;\n",
              "    }\n",
              "\n",
              "    .dataframe thead th {\n",
              "        text-align: right;\n",
              "    }\n",
              "</style>\n",
              "<table border=\"1\" class=\"dataframe\">\n",
              "  <thead>\n",
              "    <tr style=\"text-align: right;\">\n",
              "      <th></th>\n",
              "      <th>배출량</th>\n",
              "      <th>total_pop</th>\n",
              "      <th>한식</th>\n",
              "      <th>패스트푸드</th>\n",
              "      <th>아시아음식</th>\n",
              "      <th>간식</th>\n",
              "      <th>양식</th>\n",
              "      <th>마트/슈퍼마켓</th>\n",
              "      <th>년도</th>\n",
              "      <th>월</th>\n",
              "      <th>읍면동</th>\n",
              "      <th>읍면동_건입동</th>\n",
              "      <th>읍면동_구좌읍</th>\n",
              "      <th>읍면동_남원읍</th>\n",
              "      <th>읍면동_노형동</th>\n",
              "      <th>읍면동_대륜동</th>\n",
              "      <th>읍면동_대정읍</th>\n",
              "      <th>읍면동_대천동</th>\n",
              "      <th>읍면동_도두동</th>\n",
              "      <th>읍면동_동홍동</th>\n",
              "      <th>읍면동_봉개동</th>\n",
              "      <th>읍면동_삼도1동</th>\n",
              "      <th>읍면동_삼도2동</th>\n",
              "      <th>읍면동_삼양동</th>\n",
              "      <th>읍면동_서홍동</th>\n",
              "      <th>읍면동_성산읍</th>\n",
              "      <th>읍면동_송산동</th>\n",
              "      <th>읍면동_아라동</th>\n",
              "      <th>읍면동_안덕면</th>\n",
              "      <th>읍면동_애월읍</th>\n",
              "      <th>읍면동_연동</th>\n",
              "      <th>읍면동_영천동</th>\n",
              "      <th>읍면동_예래동</th>\n",
              "      <th>읍면동_오라동</th>\n",
              "      <th>읍면동_외도동</th>\n",
              "      <th>읍면동_용담1동</th>\n",
              "      <th>읍면동_용담2동</th>\n",
              "      <th>읍면동_이도1동</th>\n",
              "      <th>읍면동_이도2동</th>\n",
              "      <th>읍면동_이호동</th>\n",
              "      <th>읍면동_일도1동</th>\n",
              "      <th>읍면동_일도2동</th>\n",
              "      <th>읍면동_정방동</th>\n",
              "      <th>읍면동_조천읍</th>\n",
              "      <th>읍면동_중문동</th>\n",
              "      <th>읍면동_중앙동</th>\n",
              "      <th>읍면동_천지동</th>\n",
              "      <th>읍면동_표선면</th>\n",
              "      <th>읍면동_한경면</th>\n",
              "      <th>읍면동_한림읍</th>\n",
              "      <th>읍면동_화북동</th>\n",
              "      <th>읍면동_효돈동</th>\n",
              "    </tr>\n",
              "  </thead>\n",
              "  <tbody>\n",
              "    <tr>\n",
              "      <th>0</th>\n",
              "      <td>45646550.0</td>\n",
              "      <td>10028.0</td>\n",
              "      <td>7.055836e+08</td>\n",
              "      <td>55110922.0</td>\n",
              "      <td>69893850.0</td>\n",
              "      <td>52714107.0</td>\n",
              "      <td>37051483.0</td>\n",
              "      <td>6.134581e+08</td>\n",
              "      <td>2018.0</td>\n",
              "      <td>1.0</td>\n",
              "      <td>22.0</td>\n",
              "      <td>1.0</td>\n",
              "      <td>0.0</td>\n",
              "      <td>0.0</td>\n",
              "      <td>0.0</td>\n",
              "      <td>0.0</td>\n",
              "      <td>0.0</td>\n",
              "      <td>0.0</td>\n",
              "      <td>0.0</td>\n",
              "      <td>0.0</td>\n",
              "      <td>0.0</td>\n",
              "      <td>0.0</td>\n",
              "      <td>0.0</td>\n",
              "      <td>0.0</td>\n",
              "      <td>0.0</td>\n",
              "      <td>0.0</td>\n",
              "      <td>0.0</td>\n",
              "      <td>0.0</td>\n",
              "      <td>0.0</td>\n",
              "      <td>0.0</td>\n",
              "      <td>0.0</td>\n",
              "      <td>0.0</td>\n",
              "      <td>0.0</td>\n",
              "      <td>0.0</td>\n",
              "      <td>0.0</td>\n",
              "      <td>0.0</td>\n",
              "      <td>0.0</td>\n",
              "      <td>0.0</td>\n",
              "      <td>0.0</td>\n",
              "      <td>0.0</td>\n",
              "      <td>0.0</td>\n",
              "      <td>0.0</td>\n",
              "      <td>0.0</td>\n",
              "      <td>0.0</td>\n",
              "      <td>0.0</td>\n",
              "      <td>0.0</td>\n",
              "      <td>0.0</td>\n",
              "      <td>0.0</td>\n",
              "      <td>0.0</td>\n",
              "      <td>0.0</td>\n",
              "      <td>0.0</td>\n",
              "      <td>0.0</td>\n",
              "    </tr>\n",
              "    <tr>\n",
              "      <th>1</th>\n",
              "      <td>42437700.0</td>\n",
              "      <td>19740.0</td>\n",
              "      <td>5.459299e+08</td>\n",
              "      <td>57030976.0</td>\n",
              "      <td>87237934.0</td>\n",
              "      <td>36003854.0</td>\n",
              "      <td>18314275.0</td>\n",
              "      <td>7.007385e+08</td>\n",
              "      <td>2018.0</td>\n",
              "      <td>1.0</td>\n",
              "      <td>15.0</td>\n",
              "      <td>0.0</td>\n",
              "      <td>0.0</td>\n",
              "      <td>1.0</td>\n",
              "      <td>0.0</td>\n",
              "      <td>0.0</td>\n",
              "      <td>0.0</td>\n",
              "      <td>0.0</td>\n",
              "      <td>0.0</td>\n",
              "      <td>0.0</td>\n",
              "      <td>0.0</td>\n",
              "      <td>0.0</td>\n",
              "      <td>0.0</td>\n",
              "      <td>0.0</td>\n",
              "      <td>0.0</td>\n",
              "      <td>0.0</td>\n",
              "      <td>0.0</td>\n",
              "      <td>0.0</td>\n",
              "      <td>0.0</td>\n",
              "      <td>0.0</td>\n",
              "      <td>0.0</td>\n",
              "      <td>0.0</td>\n",
              "      <td>0.0</td>\n",
              "      <td>0.0</td>\n",
              "      <td>0.0</td>\n",
              "      <td>0.0</td>\n",
              "      <td>0.0</td>\n",
              "      <td>0.0</td>\n",
              "      <td>0.0</td>\n",
              "      <td>0.0</td>\n",
              "      <td>0.0</td>\n",
              "      <td>0.0</td>\n",
              "      <td>0.0</td>\n",
              "      <td>0.0</td>\n",
              "      <td>0.0</td>\n",
              "      <td>0.0</td>\n",
              "      <td>0.0</td>\n",
              "      <td>0.0</td>\n",
              "      <td>0.0</td>\n",
              "      <td>0.0</td>\n",
              "      <td>0.0</td>\n",
              "      <td>0.0</td>\n",
              "    </tr>\n",
              "    <tr>\n",
              "      <th>2</th>\n",
              "      <td>265018400.0</td>\n",
              "      <td>54958.0</td>\n",
              "      <td>4.035121e+09</td>\n",
              "      <td>402990583.0</td>\n",
              "      <td>478343394.0</td>\n",
              "      <td>398428801.0</td>\n",
              "      <td>230258664.0</td>\n",
              "      <td>4.918396e+09</td>\n",
              "      <td>2018.0</td>\n",
              "      <td>1.0</td>\n",
              "      <td>0.0</td>\n",
              "      <td>0.0</td>\n",
              "      <td>0.0</td>\n",
              "      <td>0.0</td>\n",
              "      <td>1.0</td>\n",
              "      <td>0.0</td>\n",
              "      <td>0.0</td>\n",
              "      <td>0.0</td>\n",
              "      <td>0.0</td>\n",
              "      <td>0.0</td>\n",
              "      <td>0.0</td>\n",
              "      <td>0.0</td>\n",
              "      <td>0.0</td>\n",
              "      <td>0.0</td>\n",
              "      <td>0.0</td>\n",
              "      <td>0.0</td>\n",
              "      <td>0.0</td>\n",
              "      <td>0.0</td>\n",
              "      <td>0.0</td>\n",
              "      <td>0.0</td>\n",
              "      <td>0.0</td>\n",
              "      <td>0.0</td>\n",
              "      <td>0.0</td>\n",
              "      <td>0.0</td>\n",
              "      <td>0.0</td>\n",
              "      <td>0.0</td>\n",
              "      <td>0.0</td>\n",
              "      <td>0.0</td>\n",
              "      <td>0.0</td>\n",
              "      <td>0.0</td>\n",
              "      <td>0.0</td>\n",
              "      <td>0.0</td>\n",
              "      <td>0.0</td>\n",
              "      <td>0.0</td>\n",
              "      <td>0.0</td>\n",
              "      <td>0.0</td>\n",
              "      <td>0.0</td>\n",
              "      <td>0.0</td>\n",
              "      <td>0.0</td>\n",
              "      <td>0.0</td>\n",
              "      <td>0.0</td>\n",
              "      <td>0.0</td>\n",
              "    </tr>\n",
              "    <tr>\n",
              "      <th>3</th>\n",
              "      <td>57612600.0</td>\n",
              "      <td>13651.0</td>\n",
              "      <td>6.700034e+08</td>\n",
              "      <td>81574888.0</td>\n",
              "      <td>92484907.0</td>\n",
              "      <td>62481472.0</td>\n",
              "      <td>38325300.0</td>\n",
              "      <td>1.204811e+09</td>\n",
              "      <td>2018.0</td>\n",
              "      <td>1.0</td>\n",
              "      <td>17.0</td>\n",
              "      <td>0.0</td>\n",
              "      <td>0.0</td>\n",
              "      <td>0.0</td>\n",
              "      <td>0.0</td>\n",
              "      <td>1.0</td>\n",
              "      <td>0.0</td>\n",
              "      <td>0.0</td>\n",
              "      <td>0.0</td>\n",
              "      <td>0.0</td>\n",
              "      <td>0.0</td>\n",
              "      <td>0.0</td>\n",
              "      <td>0.0</td>\n",
              "      <td>0.0</td>\n",
              "      <td>0.0</td>\n",
              "      <td>0.0</td>\n",
              "      <td>0.0</td>\n",
              "      <td>0.0</td>\n",
              "      <td>0.0</td>\n",
              "      <td>0.0</td>\n",
              "      <td>0.0</td>\n",
              "      <td>0.0</td>\n",
              "      <td>0.0</td>\n",
              "      <td>0.0</td>\n",
              "      <td>0.0</td>\n",
              "      <td>0.0</td>\n",
              "      <td>0.0</td>\n",
              "      <td>0.0</td>\n",
              "      <td>0.0</td>\n",
              "      <td>0.0</td>\n",
              "      <td>0.0</td>\n",
              "      <td>0.0</td>\n",
              "      <td>0.0</td>\n",
              "      <td>0.0</td>\n",
              "      <td>0.0</td>\n",
              "      <td>0.0</td>\n",
              "      <td>0.0</td>\n",
              "      <td>0.0</td>\n",
              "      <td>0.0</td>\n",
              "      <td>0.0</td>\n",
              "      <td>0.0</td>\n",
              "      <td>0.0</td>\n",
              "    </tr>\n",
              "    <tr>\n",
              "      <th>4</th>\n",
              "      <td>38885550.0</td>\n",
              "      <td>22603.0</td>\n",
              "      <td>7.621949e+08</td>\n",
              "      <td>98015164.0</td>\n",
              "      <td>96196033.0</td>\n",
              "      <td>88847534.0</td>\n",
              "      <td>117581563.0</td>\n",
              "      <td>1.360298e+09</td>\n",
              "      <td>2018.0</td>\n",
              "      <td>1.0</td>\n",
              "      <td>9.0</td>\n",
              "      <td>0.0</td>\n",
              "      <td>0.0</td>\n",
              "      <td>0.0</td>\n",
              "      <td>0.0</td>\n",
              "      <td>0.0</td>\n",
              "      <td>1.0</td>\n",
              "      <td>0.0</td>\n",
              "      <td>0.0</td>\n",
              "      <td>0.0</td>\n",
              "      <td>0.0</td>\n",
              "      <td>0.0</td>\n",
              "      <td>0.0</td>\n",
              "      <td>0.0</td>\n",
              "      <td>0.0</td>\n",
              "      <td>0.0</td>\n",
              "      <td>0.0</td>\n",
              "      <td>0.0</td>\n",
              "      <td>0.0</td>\n",
              "      <td>0.0</td>\n",
              "      <td>0.0</td>\n",
              "      <td>0.0</td>\n",
              "      <td>0.0</td>\n",
              "      <td>0.0</td>\n",
              "      <td>0.0</td>\n",
              "      <td>0.0</td>\n",
              "      <td>0.0</td>\n",
              "      <td>0.0</td>\n",
              "      <td>0.0</td>\n",
              "      <td>0.0</td>\n",
              "      <td>0.0</td>\n",
              "      <td>0.0</td>\n",
              "      <td>0.0</td>\n",
              "      <td>0.0</td>\n",
              "      <td>0.0</td>\n",
              "      <td>0.0</td>\n",
              "      <td>0.0</td>\n",
              "      <td>0.0</td>\n",
              "      <td>0.0</td>\n",
              "      <td>0.0</td>\n",
              "      <td>0.0</td>\n",
              "      <td>0.0</td>\n",
              "    </tr>\n",
              "    <tr>\n",
              "      <th>...</th>\n",
              "      <td>...</td>\n",
              "      <td>...</td>\n",
              "      <td>...</td>\n",
              "      <td>...</td>\n",
              "      <td>...</td>\n",
              "      <td>...</td>\n",
              "      <td>...</td>\n",
              "      <td>...</td>\n",
              "      <td>...</td>\n",
              "      <td>...</td>\n",
              "      <td>...</td>\n",
              "      <td>...</td>\n",
              "      <td>...</td>\n",
              "      <td>...</td>\n",
              "      <td>...</td>\n",
              "      <td>...</td>\n",
              "      <td>...</td>\n",
              "      <td>...</td>\n",
              "      <td>...</td>\n",
              "      <td>...</td>\n",
              "      <td>...</td>\n",
              "      <td>...</td>\n",
              "      <td>...</td>\n",
              "      <td>...</td>\n",
              "      <td>...</td>\n",
              "      <td>...</td>\n",
              "      <td>...</td>\n",
              "      <td>...</td>\n",
              "      <td>...</td>\n",
              "      <td>...</td>\n",
              "      <td>...</td>\n",
              "      <td>...</td>\n",
              "      <td>...</td>\n",
              "      <td>...</td>\n",
              "      <td>...</td>\n",
              "      <td>...</td>\n",
              "      <td>...</td>\n",
              "      <td>...</td>\n",
              "      <td>...</td>\n",
              "      <td>...</td>\n",
              "      <td>...</td>\n",
              "      <td>...</td>\n",
              "      <td>...</td>\n",
              "      <td>...</td>\n",
              "      <td>...</td>\n",
              "      <td>...</td>\n",
              "      <td>...</td>\n",
              "      <td>...</td>\n",
              "      <td>...</td>\n",
              "      <td>...</td>\n",
              "      <td>...</td>\n",
              "      <td>...</td>\n",
              "    </tr>\n",
              "    <tr>\n",
              "      <th>1629</th>\n",
              "      <td>42453750.0</td>\n",
              "      <td>12681.0</td>\n",
              "      <td>3.694372e+08</td>\n",
              "      <td>35656312.0</td>\n",
              "      <td>54575350.0</td>\n",
              "      <td>22969352.0</td>\n",
              "      <td>15667947.0</td>\n",
              "      <td>5.403033e+08</td>\n",
              "      <td>2021.0</td>\n",
              "      <td>6.0</td>\n",
              "      <td>32.0</td>\n",
              "      <td>0.0</td>\n",
              "      <td>0.0</td>\n",
              "      <td>0.0</td>\n",
              "      <td>0.0</td>\n",
              "      <td>0.0</td>\n",
              "      <td>0.0</td>\n",
              "      <td>0.0</td>\n",
              "      <td>0.0</td>\n",
              "      <td>0.0</td>\n",
              "      <td>0.0</td>\n",
              "      <td>0.0</td>\n",
              "      <td>0.0</td>\n",
              "      <td>0.0</td>\n",
              "      <td>0.0</td>\n",
              "      <td>0.0</td>\n",
              "      <td>0.0</td>\n",
              "      <td>0.0</td>\n",
              "      <td>0.0</td>\n",
              "      <td>0.0</td>\n",
              "      <td>0.0</td>\n",
              "      <td>0.0</td>\n",
              "      <td>0.0</td>\n",
              "      <td>0.0</td>\n",
              "      <td>0.0</td>\n",
              "      <td>0.0</td>\n",
              "      <td>0.0</td>\n",
              "      <td>0.0</td>\n",
              "      <td>0.0</td>\n",
              "      <td>0.0</td>\n",
              "      <td>0.0</td>\n",
              "      <td>0.0</td>\n",
              "      <td>0.0</td>\n",
              "      <td>0.0</td>\n",
              "      <td>0.0</td>\n",
              "      <td>0.0</td>\n",
              "      <td>0.0</td>\n",
              "      <td>1.0</td>\n",
              "      <td>0.0</td>\n",
              "      <td>0.0</td>\n",
              "      <td>0.0</td>\n",
              "      <td>0.0</td>\n",
              "    </tr>\n",
              "    <tr>\n",
              "      <th>1630</th>\n",
              "      <td>27060150.0</td>\n",
              "      <td>9495.0</td>\n",
              "      <td>2.672529e+08</td>\n",
              "      <td>26876799.0</td>\n",
              "      <td>48106115.0</td>\n",
              "      <td>23045501.0</td>\n",
              "      <td>14955649.0</td>\n",
              "      <td>3.763189e+08</td>\n",
              "      <td>2021.0</td>\n",
              "      <td>6.0</td>\n",
              "      <td>36.0</td>\n",
              "      <td>0.0</td>\n",
              "      <td>0.0</td>\n",
              "      <td>0.0</td>\n",
              "      <td>0.0</td>\n",
              "      <td>0.0</td>\n",
              "      <td>0.0</td>\n",
              "      <td>0.0</td>\n",
              "      <td>0.0</td>\n",
              "      <td>0.0</td>\n",
              "      <td>0.0</td>\n",
              "      <td>0.0</td>\n",
              "      <td>0.0</td>\n",
              "      <td>0.0</td>\n",
              "      <td>0.0</td>\n",
              "      <td>0.0</td>\n",
              "      <td>0.0</td>\n",
              "      <td>0.0</td>\n",
              "      <td>0.0</td>\n",
              "      <td>0.0</td>\n",
              "      <td>0.0</td>\n",
              "      <td>0.0</td>\n",
              "      <td>0.0</td>\n",
              "      <td>0.0</td>\n",
              "      <td>0.0</td>\n",
              "      <td>0.0</td>\n",
              "      <td>0.0</td>\n",
              "      <td>0.0</td>\n",
              "      <td>0.0</td>\n",
              "      <td>0.0</td>\n",
              "      <td>0.0</td>\n",
              "      <td>0.0</td>\n",
              "      <td>0.0</td>\n",
              "      <td>0.0</td>\n",
              "      <td>0.0</td>\n",
              "      <td>0.0</td>\n",
              "      <td>0.0</td>\n",
              "      <td>0.0</td>\n",
              "      <td>1.0</td>\n",
              "      <td>0.0</td>\n",
              "      <td>0.0</td>\n",
              "      <td>0.0</td>\n",
              "    </tr>\n",
              "    <tr>\n",
              "      <th>1631</th>\n",
              "      <td>82746990.0</td>\n",
              "      <td>24462.0</td>\n",
              "      <td>8.988106e+08</td>\n",
              "      <td>81433739.0</td>\n",
              "      <td>105470802.0</td>\n",
              "      <td>74235134.0</td>\n",
              "      <td>40153504.0</td>\n",
              "      <td>7.934176e+08</td>\n",
              "      <td>2021.0</td>\n",
              "      <td>6.0</td>\n",
              "      <td>12.0</td>\n",
              "      <td>0.0</td>\n",
              "      <td>0.0</td>\n",
              "      <td>0.0</td>\n",
              "      <td>0.0</td>\n",
              "      <td>0.0</td>\n",
              "      <td>0.0</td>\n",
              "      <td>0.0</td>\n",
              "      <td>0.0</td>\n",
              "      <td>0.0</td>\n",
              "      <td>0.0</td>\n",
              "      <td>0.0</td>\n",
              "      <td>0.0</td>\n",
              "      <td>0.0</td>\n",
              "      <td>0.0</td>\n",
              "      <td>0.0</td>\n",
              "      <td>0.0</td>\n",
              "      <td>0.0</td>\n",
              "      <td>0.0</td>\n",
              "      <td>0.0</td>\n",
              "      <td>0.0</td>\n",
              "      <td>0.0</td>\n",
              "      <td>0.0</td>\n",
              "      <td>0.0</td>\n",
              "      <td>0.0</td>\n",
              "      <td>0.0</td>\n",
              "      <td>0.0</td>\n",
              "      <td>0.0</td>\n",
              "      <td>0.0</td>\n",
              "      <td>0.0</td>\n",
              "      <td>0.0</td>\n",
              "      <td>0.0</td>\n",
              "      <td>0.0</td>\n",
              "      <td>0.0</td>\n",
              "      <td>0.0</td>\n",
              "      <td>0.0</td>\n",
              "      <td>0.0</td>\n",
              "      <td>0.0</td>\n",
              "      <td>0.0</td>\n",
              "      <td>1.0</td>\n",
              "      <td>0.0</td>\n",
              "      <td>0.0</td>\n",
              "    </tr>\n",
              "    <tr>\n",
              "      <th>1632</th>\n",
              "      <td>110750050.0</td>\n",
              "      <td>24630.0</td>\n",
              "      <td>1.411014e+09</td>\n",
              "      <td>125227233.0</td>\n",
              "      <td>141865970.0</td>\n",
              "      <td>129374585.0</td>\n",
              "      <td>48038685.0</td>\n",
              "      <td>1.392380e+09</td>\n",
              "      <td>2021.0</td>\n",
              "      <td>6.0</td>\n",
              "      <td>5.0</td>\n",
              "      <td>0.0</td>\n",
              "      <td>0.0</td>\n",
              "      <td>0.0</td>\n",
              "      <td>0.0</td>\n",
              "      <td>0.0</td>\n",
              "      <td>0.0</td>\n",
              "      <td>0.0</td>\n",
              "      <td>0.0</td>\n",
              "      <td>0.0</td>\n",
              "      <td>0.0</td>\n",
              "      <td>0.0</td>\n",
              "      <td>0.0</td>\n",
              "      <td>0.0</td>\n",
              "      <td>0.0</td>\n",
              "      <td>0.0</td>\n",
              "      <td>0.0</td>\n",
              "      <td>0.0</td>\n",
              "      <td>0.0</td>\n",
              "      <td>0.0</td>\n",
              "      <td>0.0</td>\n",
              "      <td>0.0</td>\n",
              "      <td>0.0</td>\n",
              "      <td>0.0</td>\n",
              "      <td>0.0</td>\n",
              "      <td>0.0</td>\n",
              "      <td>0.0</td>\n",
              "      <td>0.0</td>\n",
              "      <td>0.0</td>\n",
              "      <td>0.0</td>\n",
              "      <td>0.0</td>\n",
              "      <td>0.0</td>\n",
              "      <td>0.0</td>\n",
              "      <td>0.0</td>\n",
              "      <td>0.0</td>\n",
              "      <td>0.0</td>\n",
              "      <td>0.0</td>\n",
              "      <td>0.0</td>\n",
              "      <td>0.0</td>\n",
              "      <td>0.0</td>\n",
              "      <td>1.0</td>\n",
              "      <td>0.0</td>\n",
              "    </tr>\n",
              "    <tr>\n",
              "      <th>1633</th>\n",
              "      <td>27554100.0</td>\n",
              "      <td>5314.0</td>\n",
              "      <td>2.011394e+08</td>\n",
              "      <td>20827922.0</td>\n",
              "      <td>25716378.0</td>\n",
              "      <td>13479246.0</td>\n",
              "      <td>9302910.0</td>\n",
              "      <td>3.844809e+08</td>\n",
              "      <td>2021.0</td>\n",
              "      <td>6.0</td>\n",
              "      <td>40.0</td>\n",
              "      <td>0.0</td>\n",
              "      <td>0.0</td>\n",
              "      <td>0.0</td>\n",
              "      <td>0.0</td>\n",
              "      <td>0.0</td>\n",
              "      <td>0.0</td>\n",
              "      <td>0.0</td>\n",
              "      <td>0.0</td>\n",
              "      <td>0.0</td>\n",
              "      <td>0.0</td>\n",
              "      <td>0.0</td>\n",
              "      <td>0.0</td>\n",
              "      <td>0.0</td>\n",
              "      <td>0.0</td>\n",
              "      <td>0.0</td>\n",
              "      <td>0.0</td>\n",
              "      <td>0.0</td>\n",
              "      <td>0.0</td>\n",
              "      <td>0.0</td>\n",
              "      <td>0.0</td>\n",
              "      <td>0.0</td>\n",
              "      <td>0.0</td>\n",
              "      <td>0.0</td>\n",
              "      <td>0.0</td>\n",
              "      <td>0.0</td>\n",
              "      <td>0.0</td>\n",
              "      <td>0.0</td>\n",
              "      <td>0.0</td>\n",
              "      <td>0.0</td>\n",
              "      <td>0.0</td>\n",
              "      <td>0.0</td>\n",
              "      <td>0.0</td>\n",
              "      <td>0.0</td>\n",
              "      <td>0.0</td>\n",
              "      <td>0.0</td>\n",
              "      <td>0.0</td>\n",
              "      <td>0.0</td>\n",
              "      <td>0.0</td>\n",
              "      <td>0.0</td>\n",
              "      <td>0.0</td>\n",
              "      <td>1.0</td>\n",
              "    </tr>\n",
              "  </tbody>\n",
              "</table>\n",
              "<p>1634 rows × 52 columns</p>\n",
              "</div>"
            ],
            "text/plain": [
              "              배출량  total_pop            한식  ...  읍면동_한림읍  읍면동_화북동  읍면동_효돈동\n",
              "0      45646550.0    10028.0  7.055836e+08  ...      0.0      0.0      0.0\n",
              "1      42437700.0    19740.0  5.459299e+08  ...      0.0      0.0      0.0\n",
              "2     265018400.0    54958.0  4.035121e+09  ...      0.0      0.0      0.0\n",
              "3      57612600.0    13651.0  6.700034e+08  ...      0.0      0.0      0.0\n",
              "4      38885550.0    22603.0  7.621949e+08  ...      0.0      0.0      0.0\n",
              "...           ...        ...           ...  ...      ...      ...      ...\n",
              "1629   42453750.0    12681.0  3.694372e+08  ...      0.0      0.0      0.0\n",
              "1630   27060150.0     9495.0  2.672529e+08  ...      0.0      0.0      0.0\n",
              "1631   82746990.0    24462.0  8.988106e+08  ...      1.0      0.0      0.0\n",
              "1632  110750050.0    24630.0  1.411014e+09  ...      0.0      1.0      0.0\n",
              "1633   27554100.0     5314.0  2.011394e+08  ...      0.0      0.0      1.0\n",
              "\n",
              "[1634 rows x 52 columns]"
            ]
          },
          "metadata": {},
          "execution_count": 80
        }
      ]
    },
    {
      "cell_type": "markdown",
      "metadata": {
        "id": "MpR7C_whDjXA"
      },
      "source": [
        "#### 월처리"
      ]
    },
    {
      "cell_type": "code",
      "metadata": {
        "id": "AhccfnGtCeWx"
      },
      "source": [
        "encoded_월 = pd.get_dummies(dataset['월'],prefix=\"월\")\n",
        "dataset = pd.concat((dataset,encoded_월),axis=1)\n",
        "del dataset['월']"
      ],
      "execution_count": 81,
      "outputs": []
    },
    {
      "cell_type": "markdown",
      "metadata": {
        "id": "CPcyQ70vDkf5"
      },
      "source": [
        "#### 배출량 로그화\n"
      ]
    },
    {
      "cell_type": "code",
      "metadata": {
        "id": "fEB_81RzDkLQ",
        "colab": {
          "base_uri": "https://localhost:8080/",
          "height": 279
        },
        "outputId": "1661a602-ff6b-4089-8982-1cce317dd303"
      },
      "source": [
        "dataset['log_em_g'] = np.log1p(dataset['배출량'])\n",
        "real_price = dataset['배출량'] # 원래 가격\n",
        "dataset.drop('배출량', axis=1, inplace=True)\n",
        "del dataset['년도']\n",
        "dataset.head(3)"
      ],
      "execution_count": 82,
      "outputs": [
        {
          "output_type": "execute_result",
          "data": {
            "text/html": [
              "<div>\n",
              "<style scoped>\n",
              "    .dataframe tbody tr th:only-of-type {\n",
              "        vertical-align: middle;\n",
              "    }\n",
              "\n",
              "    .dataframe tbody tr th {\n",
              "        vertical-align: top;\n",
              "    }\n",
              "\n",
              "    .dataframe thead th {\n",
              "        text-align: right;\n",
              "    }\n",
              "</style>\n",
              "<table border=\"1\" class=\"dataframe\">\n",
              "  <thead>\n",
              "    <tr style=\"text-align: right;\">\n",
              "      <th></th>\n",
              "      <th>total_pop</th>\n",
              "      <th>한식</th>\n",
              "      <th>패스트푸드</th>\n",
              "      <th>아시아음식</th>\n",
              "      <th>간식</th>\n",
              "      <th>양식</th>\n",
              "      <th>마트/슈퍼마켓</th>\n",
              "      <th>읍면동</th>\n",
              "      <th>읍면동_건입동</th>\n",
              "      <th>읍면동_구좌읍</th>\n",
              "      <th>읍면동_남원읍</th>\n",
              "      <th>읍면동_노형동</th>\n",
              "      <th>읍면동_대륜동</th>\n",
              "      <th>읍면동_대정읍</th>\n",
              "      <th>읍면동_대천동</th>\n",
              "      <th>읍면동_도두동</th>\n",
              "      <th>읍면동_동홍동</th>\n",
              "      <th>읍면동_봉개동</th>\n",
              "      <th>읍면동_삼도1동</th>\n",
              "      <th>읍면동_삼도2동</th>\n",
              "      <th>읍면동_삼양동</th>\n",
              "      <th>읍면동_서홍동</th>\n",
              "      <th>읍면동_성산읍</th>\n",
              "      <th>읍면동_송산동</th>\n",
              "      <th>읍면동_아라동</th>\n",
              "      <th>읍면동_안덕면</th>\n",
              "      <th>읍면동_애월읍</th>\n",
              "      <th>읍면동_연동</th>\n",
              "      <th>읍면동_영천동</th>\n",
              "      <th>읍면동_예래동</th>\n",
              "      <th>읍면동_오라동</th>\n",
              "      <th>읍면동_외도동</th>\n",
              "      <th>읍면동_용담1동</th>\n",
              "      <th>읍면동_용담2동</th>\n",
              "      <th>읍면동_이도1동</th>\n",
              "      <th>읍면동_이도2동</th>\n",
              "      <th>읍면동_이호동</th>\n",
              "      <th>읍면동_일도1동</th>\n",
              "      <th>읍면동_일도2동</th>\n",
              "      <th>읍면동_정방동</th>\n",
              "      <th>읍면동_조천읍</th>\n",
              "      <th>읍면동_중문동</th>\n",
              "      <th>읍면동_중앙동</th>\n",
              "      <th>읍면동_천지동</th>\n",
              "      <th>읍면동_표선면</th>\n",
              "      <th>읍면동_한경면</th>\n",
              "      <th>읍면동_한림읍</th>\n",
              "      <th>읍면동_화북동</th>\n",
              "      <th>읍면동_효돈동</th>\n",
              "      <th>월_1</th>\n",
              "      <th>월_10</th>\n",
              "      <th>월_11</th>\n",
              "      <th>월_12</th>\n",
              "      <th>월_2</th>\n",
              "      <th>월_3</th>\n",
              "      <th>월_4</th>\n",
              "      <th>월_5</th>\n",
              "      <th>월_6</th>\n",
              "      <th>월_7</th>\n",
              "      <th>월_8</th>\n",
              "      <th>월_9</th>\n",
              "      <th>log_em_g</th>\n",
              "    </tr>\n",
              "  </thead>\n",
              "  <tbody>\n",
              "    <tr>\n",
              "      <th>0</th>\n",
              "      <td>10028</td>\n",
              "      <td>7.055836e+08</td>\n",
              "      <td>55110922.0</td>\n",
              "      <td>69893850.0</td>\n",
              "      <td>52714107.0</td>\n",
              "      <td>37051483.0</td>\n",
              "      <td>6.134581e+08</td>\n",
              "      <td>22</td>\n",
              "      <td>1</td>\n",
              "      <td>0</td>\n",
              "      <td>0</td>\n",
              "      <td>0</td>\n",
              "      <td>0</td>\n",
              "      <td>0</td>\n",
              "      <td>0</td>\n",
              "      <td>0</td>\n",
              "      <td>0</td>\n",
              "      <td>0</td>\n",
              "      <td>0</td>\n",
              "      <td>0</td>\n",
              "      <td>0</td>\n",
              "      <td>0</td>\n",
              "      <td>0</td>\n",
              "      <td>0</td>\n",
              "      <td>0</td>\n",
              "      <td>0</td>\n",
              "      <td>0</td>\n",
              "      <td>0</td>\n",
              "      <td>0</td>\n",
              "      <td>0</td>\n",
              "      <td>0</td>\n",
              "      <td>0</td>\n",
              "      <td>0</td>\n",
              "      <td>0</td>\n",
              "      <td>0</td>\n",
              "      <td>0</td>\n",
              "      <td>0</td>\n",
              "      <td>0</td>\n",
              "      <td>0</td>\n",
              "      <td>0</td>\n",
              "      <td>0</td>\n",
              "      <td>0</td>\n",
              "      <td>0</td>\n",
              "      <td>0</td>\n",
              "      <td>0</td>\n",
              "      <td>0</td>\n",
              "      <td>0</td>\n",
              "      <td>0</td>\n",
              "      <td>0</td>\n",
              "      <td>1</td>\n",
              "      <td>0</td>\n",
              "      <td>0</td>\n",
              "      <td>0</td>\n",
              "      <td>0</td>\n",
              "      <td>0</td>\n",
              "      <td>0</td>\n",
              "      <td>0</td>\n",
              "      <td>0</td>\n",
              "      <td>0</td>\n",
              "      <td>0</td>\n",
              "      <td>0</td>\n",
              "      <td>17.636439</td>\n",
              "    </tr>\n",
              "    <tr>\n",
              "      <th>1</th>\n",
              "      <td>19740</td>\n",
              "      <td>5.459299e+08</td>\n",
              "      <td>57030976.0</td>\n",
              "      <td>87237934.0</td>\n",
              "      <td>36003854.0</td>\n",
              "      <td>18314275.0</td>\n",
              "      <td>7.007385e+08</td>\n",
              "      <td>15</td>\n",
              "      <td>0</td>\n",
              "      <td>0</td>\n",
              "      <td>1</td>\n",
              "      <td>0</td>\n",
              "      <td>0</td>\n",
              "      <td>0</td>\n",
              "      <td>0</td>\n",
              "      <td>0</td>\n",
              "      <td>0</td>\n",
              "      <td>0</td>\n",
              "      <td>0</td>\n",
              "      <td>0</td>\n",
              "      <td>0</td>\n",
              "      <td>0</td>\n",
              "      <td>0</td>\n",
              "      <td>0</td>\n",
              "      <td>0</td>\n",
              "      <td>0</td>\n",
              "      <td>0</td>\n",
              "      <td>0</td>\n",
              "      <td>0</td>\n",
              "      <td>0</td>\n",
              "      <td>0</td>\n",
              "      <td>0</td>\n",
              "      <td>0</td>\n",
              "      <td>0</td>\n",
              "      <td>0</td>\n",
              "      <td>0</td>\n",
              "      <td>0</td>\n",
              "      <td>0</td>\n",
              "      <td>0</td>\n",
              "      <td>0</td>\n",
              "      <td>0</td>\n",
              "      <td>0</td>\n",
              "      <td>0</td>\n",
              "      <td>0</td>\n",
              "      <td>0</td>\n",
              "      <td>0</td>\n",
              "      <td>0</td>\n",
              "      <td>0</td>\n",
              "      <td>0</td>\n",
              "      <td>1</td>\n",
              "      <td>0</td>\n",
              "      <td>0</td>\n",
              "      <td>0</td>\n",
              "      <td>0</td>\n",
              "      <td>0</td>\n",
              "      <td>0</td>\n",
              "      <td>0</td>\n",
              "      <td>0</td>\n",
              "      <td>0</td>\n",
              "      <td>0</td>\n",
              "      <td>0</td>\n",
              "      <td>17.563548</td>\n",
              "    </tr>\n",
              "    <tr>\n",
              "      <th>2</th>\n",
              "      <td>54958</td>\n",
              "      <td>4.035121e+09</td>\n",
              "      <td>402990583.0</td>\n",
              "      <td>478343394.0</td>\n",
              "      <td>398428801.0</td>\n",
              "      <td>230258664.0</td>\n",
              "      <td>4.918396e+09</td>\n",
              "      <td>0</td>\n",
              "      <td>0</td>\n",
              "      <td>0</td>\n",
              "      <td>0</td>\n",
              "      <td>1</td>\n",
              "      <td>0</td>\n",
              "      <td>0</td>\n",
              "      <td>0</td>\n",
              "      <td>0</td>\n",
              "      <td>0</td>\n",
              "      <td>0</td>\n",
              "      <td>0</td>\n",
              "      <td>0</td>\n",
              "      <td>0</td>\n",
              "      <td>0</td>\n",
              "      <td>0</td>\n",
              "      <td>0</td>\n",
              "      <td>0</td>\n",
              "      <td>0</td>\n",
              "      <td>0</td>\n",
              "      <td>0</td>\n",
              "      <td>0</td>\n",
              "      <td>0</td>\n",
              "      <td>0</td>\n",
              "      <td>0</td>\n",
              "      <td>0</td>\n",
              "      <td>0</td>\n",
              "      <td>0</td>\n",
              "      <td>0</td>\n",
              "      <td>0</td>\n",
              "      <td>0</td>\n",
              "      <td>0</td>\n",
              "      <td>0</td>\n",
              "      <td>0</td>\n",
              "      <td>0</td>\n",
              "      <td>0</td>\n",
              "      <td>0</td>\n",
              "      <td>0</td>\n",
              "      <td>0</td>\n",
              "      <td>0</td>\n",
              "      <td>0</td>\n",
              "      <td>0</td>\n",
              "      <td>1</td>\n",
              "      <td>0</td>\n",
              "      <td>0</td>\n",
              "      <td>0</td>\n",
              "      <td>0</td>\n",
              "      <td>0</td>\n",
              "      <td>0</td>\n",
              "      <td>0</td>\n",
              "      <td>0</td>\n",
              "      <td>0</td>\n",
              "      <td>0</td>\n",
              "      <td>0</td>\n",
              "      <td>19.395310</td>\n",
              "    </tr>\n",
              "  </tbody>\n",
              "</table>\n",
              "</div>"
            ],
            "text/plain": [
              "   total_pop            한식        패스트푸드        아시아음식  ...  월_7  월_8  월_9   log_em_g\n",
              "0      10028  7.055836e+08   55110922.0   69893850.0  ...    0    0    0  17.636439\n",
              "1      19740  5.459299e+08   57030976.0   87237934.0  ...    0    0    0  17.563548\n",
              "2      54958  4.035121e+09  402990583.0  478343394.0  ...    0    0    0  19.395310\n",
              "\n",
              "[3 rows x 62 columns]"
            ]
          },
          "metadata": {},
          "execution_count": 82
        }
      ]
    },
    {
      "cell_type": "markdown",
      "metadata": {
        "id": "ehMnjbHODxDz"
      },
      "source": [
        "### train / test set split"
      ]
    },
    {
      "cell_type": "code",
      "metadata": {
        "id": "LEnE52YkDvz5",
        "colab": {
          "base_uri": "https://localhost:8080/"
        },
        "outputId": "aed81fe3-c3b0-433b-8ec9-f2b9ab3d8de3"
      },
      "source": [
        "from sklearn.model_selection import train_test_split\n",
        "\n",
        "feature_columns = dataset.columns.difference([\"log_em_g\"]) # Target column 빼기\n",
        "\n",
        "X = dataset[feature_columns]\n",
        "y = dataset.log_em_g\n",
        "\n",
        "train_x, test_x, train_y, test_y = train_test_split(X,y, train_size = 0.75, test_size = 0.25, random_state = 1)\n",
        "\n",
        "print(train_x.shape, test_x.shape, train_y.shape, test_y.shape)"
      ],
      "execution_count": 83,
      "outputs": [
        {
          "output_type": "stream",
          "name": "stdout",
          "text": [
            "(1225, 61) (409, 61) (1225,) (409,)\n"
          ]
        }
      ]
    },
    {
      "cell_type": "markdown",
      "metadata": {
        "id": "Df1fdzTW55ma"
      },
      "source": [
        "## 모델링"
      ]
    },
    {
      "cell_type": "markdown",
      "metadata": {
        "id": "5kBUY76dD2V2"
      },
      "source": [
        "#### 모델관련 라이브러리 및 평가함수"
      ]
    },
    {
      "cell_type": "code",
      "metadata": {
        "id": "1Z5hpg3rOiJl"
      },
      "source": [
        "from tqdm import tqdm\n",
        "from sklearn.linear_model import LinearRegression, ElasticNet, Lasso,  Ridge \n",
        "from sklearn.tree import DecisionTreeRegressor\n",
        "from sklearn.ensemble import RandomForestRegressor\n",
        "from sklearn.preprocessing import  LabelEncoder\n",
        "from sklearn.model_selection import KFold, cross_val_score, train_test_split, TimeSeriesSplit\n",
        "from sklearn.metrics import mean_squared_error\n",
        "import xgboost as xgb\n",
        "import lightgbm as lgb\n",
        "from sklearn.ensemble import ExtraTreesRegressor"
      ],
      "execution_count": 84,
      "outputs": []
    },
    {
      "cell_type": "code",
      "metadata": {
        "id": "WieYyH6GD7r5"
      },
      "source": [
        "def RMSE(y, y_pred):\n",
        "    rmse = mean_squared_error(y, y_pred) ** 0.5\n",
        "    return rmse\n",
        "\n",
        "def rmse_cv(model):\n",
        "    tscv = TimeSeriesSplit(n_splits=10)\n",
        "    rmse_list = []\n",
        "    for i, (train_index, test_index) in enumerate(tscv.split(train_x), start=0):\n",
        "        X_train, X_test = train_x.iloc[train_index], train_x.iloc[test_index]\n",
        "        y_train, y_test = train_y.iloc[train_index], train_y.iloc[test_index]\n",
        "        clf = model.fit(X_train, y_train)\n",
        "        pred = clf.predict(X_test)\n",
        "        rmse = RMSE(y_test, pred) \n",
        "        rmse_list.append(rmse)\n",
        "    return type(model).__name__, rmse_list\n",
        "\n",
        "def print_rmse_score(model):\n",
        "    model_name, score = rmse_cv(model)\n",
        "    for i, r in tqdm(enumerate(score, start=1), leave=True):\n",
        "        if i == 1:\n",
        "            print('\\n')\n",
        "            print(f'{i} FOLDS: {model_name} RMSLE: {r:.4f}')\n",
        "        else:\n",
        "            print(f'{i} FOLDS: {model_name} RMSLE: {r:.4f}')\n",
        "    print(f'\\n{model_name} mean RMSLE: {np.mean(score):.4f}')\n",
        "    print('='*40)"
      ],
      "execution_count": 85,
      "outputs": []
    },
    {
      "cell_type": "markdown",
      "metadata": {
        "id": "B4rjdcczEA-n"
      },
      "source": [
        "#### 모델 생성"
      ]
    },
    {
      "cell_type": "code",
      "metadata": {
        "id": "PS5jYcmHEAO-"
      },
      "source": [
        "reg = LinearRegression()\n",
        "ridge = Ridge(alpha=0.05, random_state=1)\n",
        "lasso = Lasso(alpha = 0.01, random_state=1)\n",
        "Enet = ElasticNet(alpha=0.03,l1_ratio = 0.01, random_state=1)\n",
        "DTree = DecisionTreeRegressor(max_depth=6, min_samples_split=10, min_samples_leaf=15, random_state=1)\n",
        "rf = RandomForestRegressor(n_estimators=500, criterion='mse', max_depth=9, min_samples_split=50,\n",
        "                           min_samples_leaf=5, random_state=1)\n",
        "et = ExtraTreesRegressor(n_estimators=100, random_state=1)\n",
        "model_xgb = xgb.XGBRegressor(colsample_bytree=0.4603, gamma=0.0468, learning_rate=0.05,\n",
        "                             max_depth=3, min_child_weight=1.7817, n_estimators=1000,\n",
        "                             reg_alpha=0.4640, reg_lambda=0.8571, subsample=0.5213,\n",
        "                             silent=1, random_state=1, nthread=-1)\n",
        "model_lgb = lgb.LGBMRegressor(learning_rate=0.05, n_estimators=720,random_state=1)"
      ],
      "execution_count": 86,
      "outputs": []
    },
    {
      "cell_type": "code",
      "metadata": {
        "id": "S7Ml3htiERRR",
        "colab": {
          "base_uri": "https://localhost:8080/"
        },
        "outputId": "b4ec0216-168d-4e30-c972-ec5053fbf7f4"
      },
      "source": [
        "score = []\n",
        "for model in [reg, ridge, lasso, Enet, DTree, rf, model_lgb, model_xgb, et]:\n",
        "    print_rmse_score(model)"
      ],
      "execution_count": 87,
      "outputs": [
        {
          "output_type": "stream",
          "name": "stderr",
          "text": [
            "10it [00:00, 1582.70it/s]\n"
          ]
        },
        {
          "output_type": "stream",
          "name": "stdout",
          "text": [
            "\n",
            "\n",
            "1 FOLDS: LinearRegression RMSLE: 0.6306\n",
            "2 FOLDS: LinearRegression RMSLE: 0.3590\n",
            "3 FOLDS: LinearRegression RMSLE: 0.4117\n",
            "4 FOLDS: LinearRegression RMSLE: 0.3898\n",
            "5 FOLDS: LinearRegression RMSLE: 0.4002\n",
            "6 FOLDS: LinearRegression RMSLE: 0.2905\n",
            "7 FOLDS: LinearRegression RMSLE: 0.3411\n",
            "8 FOLDS: LinearRegression RMSLE: 0.3114\n",
            "9 FOLDS: LinearRegression RMSLE: 0.3405\n",
            "10 FOLDS: LinearRegression RMSLE: 0.3370\n",
            "\n",
            "LinearRegression mean RMSLE: 0.3812\n",
            "========================================\n"
          ]
        },
        {
          "output_type": "stream",
          "name": "stderr",
          "text": [
            "\r0it [00:00, ?it/s]"
          ]
        },
        {
          "output_type": "stream",
          "name": "stdout",
          "text": [
            "\n",
            "\n",
            "1 FOLDS: Ridge RMSLE: 0.5937\n",
            "2 FOLDS: Ridge RMSLE: 0.3532\n",
            "3 FOLDS: Ridge RMSLE: 0.4154\n",
            "4 FOLDS: Ridge RMSLE: 0.3894\n",
            "5 FOLDS: Ridge RMSLE: 0.4039"
          ]
        },
        {
          "output_type": "stream",
          "name": "stderr",
          "text": [
            "\r10it [00:00, 2640.75it/s]\n"
          ]
        },
        {
          "output_type": "stream",
          "name": "stdout",
          "text": [
            "\n",
            "6 FOLDS: Ridge RMSLE: 0.2816\n",
            "7 FOLDS: Ridge RMSLE: 0.3403\n",
            "8 FOLDS: Ridge RMSLE: 0.3149\n",
            "9 FOLDS: Ridge RMSLE: 0.3429\n",
            "10 FOLDS: Ridge RMSLE: 0.3331\n",
            "\n",
            "Ridge mean RMSLE: 0.3768\n",
            "========================================\n"
          ]
        },
        {
          "output_type": "stream",
          "name": "stderr",
          "text": [
            "10it [00:00, 2585.09it/s]\n"
          ]
        },
        {
          "output_type": "stream",
          "name": "stdout",
          "text": [
            "\n",
            "\n",
            "1 FOLDS: Lasso RMSLE: 0.4057\n",
            "2 FOLDS: Lasso RMSLE: 0.3334\n",
            "3 FOLDS: Lasso RMSLE: 0.4170\n",
            "4 FOLDS: Lasso RMSLE: 0.3850\n",
            "5 FOLDS: Lasso RMSLE: 0.4023\n",
            "6 FOLDS: Lasso RMSLE: 0.3192\n",
            "7 FOLDS: Lasso RMSLE: 0.3604\n",
            "8 FOLDS: Lasso RMSLE: 0.2942\n",
            "9 FOLDS: Lasso RMSLE: 0.3532\n",
            "10 FOLDS: Lasso RMSLE: 0.3537\n",
            "\n",
            "Lasso mean RMSLE: 0.3624\n",
            "========================================\n"
          ]
        },
        {
          "output_type": "stream",
          "name": "stderr",
          "text": [
            "10it [00:00, 2411.63it/s]\n"
          ]
        },
        {
          "output_type": "stream",
          "name": "stdout",
          "text": [
            "\n",
            "\n",
            "1 FOLDS: ElasticNet RMSLE: 0.3658\n",
            "2 FOLDS: ElasticNet RMSLE: 0.3256\n",
            "3 FOLDS: ElasticNet RMSLE: 0.4093\n",
            "4 FOLDS: ElasticNet RMSLE: 0.3804\n",
            "5 FOLDS: ElasticNet RMSLE: 0.3952\n",
            "6 FOLDS: ElasticNet RMSLE: 0.2893\n",
            "7 FOLDS: ElasticNet RMSLE: 0.3430\n",
            "8 FOLDS: ElasticNet RMSLE: 0.2980\n",
            "9 FOLDS: ElasticNet RMSLE: 0.3460\n",
            "10 FOLDS: ElasticNet RMSLE: 0.3395\n",
            "\n",
            "ElasticNet mean RMSLE: 0.3492\n",
            "========================================\n"
          ]
        },
        {
          "output_type": "stream",
          "name": "stderr",
          "text": [
            "10it [00:00, 2814.02it/s]\n"
          ]
        },
        {
          "output_type": "stream",
          "name": "stdout",
          "text": [
            "\n",
            "\n",
            "1 FOLDS: DecisionTreeRegressor RMSLE: 0.4655\n",
            "2 FOLDS: DecisionTreeRegressor RMSLE: 0.3405\n",
            "3 FOLDS: DecisionTreeRegressor RMSLE: 0.4415\n",
            "4 FOLDS: DecisionTreeRegressor RMSLE: 0.3885\n",
            "5 FOLDS: DecisionTreeRegressor RMSLE: 0.4234\n",
            "6 FOLDS: DecisionTreeRegressor RMSLE: 0.2822\n",
            "7 FOLDS: DecisionTreeRegressor RMSLE: 0.4095\n",
            "8 FOLDS: DecisionTreeRegressor RMSLE: 0.3358\n",
            "9 FOLDS: DecisionTreeRegressor RMSLE: 0.3681\n",
            "10 FOLDS: DecisionTreeRegressor RMSLE: 0.3305\n",
            "\n",
            "DecisionTreeRegressor mean RMSLE: 0.3785\n",
            "========================================\n"
          ]
        },
        {
          "output_type": "stream",
          "name": "stderr",
          "text": [
            "10it [00:00, 30459.72it/s]\n"
          ]
        },
        {
          "output_type": "stream",
          "name": "stdout",
          "text": [
            "\n",
            "\n",
            "1 FOLDS: RandomForestRegressor RMSLE: 0.5262\n",
            "2 FOLDS: RandomForestRegressor RMSLE: 0.3541\n",
            "3 FOLDS: RandomForestRegressor RMSLE: 0.4616\n",
            "4 FOLDS: RandomForestRegressor RMSLE: 0.3901\n",
            "5 FOLDS: RandomForestRegressor RMSLE: 0.3657\n",
            "6 FOLDS: RandomForestRegressor RMSLE: 0.2745\n",
            "7 FOLDS: RandomForestRegressor RMSLE: 0.3490\n",
            "8 FOLDS: RandomForestRegressor RMSLE: 0.2863\n",
            "9 FOLDS: RandomForestRegressor RMSLE: 0.2850\n",
            "10 FOLDS: RandomForestRegressor RMSLE: 0.3064\n",
            "\n",
            "RandomForestRegressor mean RMSLE: 0.3599\n",
            "========================================\n"
          ]
        },
        {
          "output_type": "stream",
          "name": "stderr",
          "text": [
            "10it [00:00, 3010.34it/s]\n"
          ]
        },
        {
          "output_type": "stream",
          "name": "stdout",
          "text": [
            "\n",
            "\n",
            "1 FOLDS: LGBMRegressor RMSLE: 0.5141\n",
            "2 FOLDS: LGBMRegressor RMSLE: 0.3328\n",
            "3 FOLDS: LGBMRegressor RMSLE: 0.3818\n",
            "4 FOLDS: LGBMRegressor RMSLE: 0.3944\n",
            "5 FOLDS: LGBMRegressor RMSLE: 0.3651\n",
            "6 FOLDS: LGBMRegressor RMSLE: 0.2805\n",
            "7 FOLDS: LGBMRegressor RMSLE: 0.3718\n",
            "8 FOLDS: LGBMRegressor RMSLE: 0.2512\n",
            "9 FOLDS: LGBMRegressor RMSLE: 0.3019\n",
            "10 FOLDS: LGBMRegressor RMSLE: 0.3285\n",
            "\n",
            "LGBMRegressor mean RMSLE: 0.3522\n",
            "========================================\n"
          ]
        },
        {
          "output_type": "stream",
          "name": "stderr",
          "text": [
            "10it [00:00, 2722.34it/s]\n"
          ]
        },
        {
          "output_type": "stream",
          "name": "stdout",
          "text": [
            "\n",
            "\n",
            "1 FOLDS: XGBRegressor RMSLE: 0.4476\n",
            "2 FOLDS: XGBRegressor RMSLE: 0.3390\n",
            "3 FOLDS: XGBRegressor RMSLE: 0.3630\n",
            "4 FOLDS: XGBRegressor RMSLE: 0.3826\n",
            "5 FOLDS: XGBRegressor RMSLE: 0.3223\n",
            "6 FOLDS: XGBRegressor RMSLE: 0.2635\n",
            "7 FOLDS: XGBRegressor RMSLE: 0.3295\n",
            "8 FOLDS: XGBRegressor RMSLE: 0.2239\n",
            "9 FOLDS: XGBRegressor RMSLE: 0.2755\n",
            "10 FOLDS: XGBRegressor RMSLE: 0.3116\n",
            "\n",
            "XGBRegressor mean RMSLE: 0.3259\n",
            "========================================\n"
          ]
        },
        {
          "output_type": "stream",
          "name": "stderr",
          "text": [
            "10it [00:00, 31488.77it/s]"
          ]
        },
        {
          "output_type": "stream",
          "name": "stdout",
          "text": [
            "\n",
            "\n",
            "1 FOLDS: ExtraTreesRegressor RMSLE: 0.5649\n",
            "2 FOLDS: ExtraTreesRegressor RMSLE: 0.3111\n",
            "3 FOLDS: ExtraTreesRegressor RMSLE: 0.4147\n",
            "4 FOLDS: ExtraTreesRegressor RMSLE: 0.3846\n",
            "5 FOLDS: ExtraTreesRegressor RMSLE: 0.3315\n",
            "6 FOLDS: ExtraTreesRegressor RMSLE: 0.2774\n",
            "7 FOLDS: ExtraTreesRegressor RMSLE: 0.3587\n",
            "8 FOLDS: ExtraTreesRegressor RMSLE: 0.2636\n",
            "9 FOLDS: ExtraTreesRegressor RMSLE: 0.2803\n",
            "10 FOLDS: ExtraTreesRegressor RMSLE: 0.3297\n",
            "\n",
            "ExtraTreesRegressor mean RMSLE: 0.3517\n",
            "========================================\n"
          ]
        },
        {
          "output_type": "stream",
          "name": "stderr",
          "text": [
            "\n"
          ]
        }
      ]
    },
    {
      "cell_type": "code",
      "metadata": {
        "id": "7tc2JCSUEUgo",
        "colab": {
          "base_uri": "https://localhost:8080/",
          "height": 295
        },
        "outputId": "694e40d0-e28b-49e7-a8f1-583bbe559136"
      },
      "source": [
        "# 수동으로 채워넣기\n",
        "score = [0.3812, 0.3768, 0.3624, 0.3492, 0.3785, 0.3599, 0.3522, 0.3259, 0.3517]\n",
        "\n",
        "model = ['Linear Regression','Ridge', 'Lasso', \"ElasticNet\", 'DecisionTree', 'RandomForest','LightGBM', 'XGBoost', 'ExtraTree Regression']\n",
        "\n",
        "result_df = pd.DataFrame({'Model': model, 'Score': score}).sort_values(by='Score', ascending=True).reset_index(drop=True)\n",
        "result_df.head(8)"
      ],
      "execution_count": 89,
      "outputs": [
        {
          "output_type": "execute_result",
          "data": {
            "text/html": [
              "<div>\n",
              "<style scoped>\n",
              "    .dataframe tbody tr th:only-of-type {\n",
              "        vertical-align: middle;\n",
              "    }\n",
              "\n",
              "    .dataframe tbody tr th {\n",
              "        vertical-align: top;\n",
              "    }\n",
              "\n",
              "    .dataframe thead th {\n",
              "        text-align: right;\n",
              "    }\n",
              "</style>\n",
              "<table border=\"1\" class=\"dataframe\">\n",
              "  <thead>\n",
              "    <tr style=\"text-align: right;\">\n",
              "      <th></th>\n",
              "      <th>Model</th>\n",
              "      <th>Score</th>\n",
              "    </tr>\n",
              "  </thead>\n",
              "  <tbody>\n",
              "    <tr>\n",
              "      <th>0</th>\n",
              "      <td>XGBoost</td>\n",
              "      <td>0.3259</td>\n",
              "    </tr>\n",
              "    <tr>\n",
              "      <th>1</th>\n",
              "      <td>ElasticNet</td>\n",
              "      <td>0.3492</td>\n",
              "    </tr>\n",
              "    <tr>\n",
              "      <th>2</th>\n",
              "      <td>ExtraTree Regression</td>\n",
              "      <td>0.3517</td>\n",
              "    </tr>\n",
              "    <tr>\n",
              "      <th>3</th>\n",
              "      <td>LightGBM</td>\n",
              "      <td>0.3522</td>\n",
              "    </tr>\n",
              "    <tr>\n",
              "      <th>4</th>\n",
              "      <td>RandomForest</td>\n",
              "      <td>0.3599</td>\n",
              "    </tr>\n",
              "    <tr>\n",
              "      <th>5</th>\n",
              "      <td>Lasso</td>\n",
              "      <td>0.3624</td>\n",
              "    </tr>\n",
              "    <tr>\n",
              "      <th>6</th>\n",
              "      <td>Ridge</td>\n",
              "      <td>0.3768</td>\n",
              "    </tr>\n",
              "    <tr>\n",
              "      <th>7</th>\n",
              "      <td>DecisionTree</td>\n",
              "      <td>0.3785</td>\n",
              "    </tr>\n",
              "  </tbody>\n",
              "</table>\n",
              "</div>"
            ],
            "text/plain": [
              "                  Model   Score\n",
              "0               XGBoost  0.3259\n",
              "1            ElasticNet  0.3492\n",
              "2  ExtraTree Regression  0.3517\n",
              "3              LightGBM  0.3522\n",
              "4          RandomForest  0.3599\n",
              "5                 Lasso  0.3624\n",
              "6                 Ridge  0.3768\n",
              "7          DecisionTree  0.3785"
            ]
          },
          "metadata": {},
          "execution_count": 89
        }
      ]
    },
    {
      "cell_type": "code",
      "metadata": {
        "id": "6pX9zJweEXbh",
        "colab": {
          "base_uri": "https://localhost:8080/",
          "height": 500
        },
        "outputId": "2095eacf-fbf8-4199-a071-b70f44d562b6"
      },
      "source": [
        "f, ax = plt.subplots(figsize=(10, 6))\n",
        "plt.xticks(rotation='90')\n",
        "sns.barplot(x=result_df['Model'], y=result_df['Score'])\n",
        "plt.xlabel('Models', fontsize=15)\n",
        "plt.ylabel('Model Performance', fontsize=15)\n",
        "plt.ylim(0.2, 0.4)\n",
        "plt.title('RMSLE', fontsize=15)\n",
        "plt.show()"
      ],
      "execution_count": 90,
      "outputs": [
        {
          "output_type": "display_data",
          "data": {
            "image/png": "[encoded data removed]",
            "text/plain": [
              "<Figure size 720x432 with 1 Axes>"
            ]
          },
          "metadata": {
            "image/png": {
              "width": 625,
              "height": 483
            },
            "needs_background": "light"
          }
        }
      ]
    }
  ]
}